{
 "cells": [
  {
   "cell_type": "markdown",
   "metadata": {},
   "source": [
    "<div style=\"border:solid black 2px; padding: 20px\"><h1 style=\"color:black; margin-bottom:20px\">Reviewer's comment v1</h1>\n",
    "Halo Teguh !\n",
    "\n",
    "Perkenalkan saya disini sebagai Code Reviewers, disini dengan senang hati saya akan mereview tugas Teguh ya.\n",
    "\n",
    "Saya akan memberikan beberapa komen seperti dibawah ini, tolong jangan dipindah, dirubah, maupun dihapus ya.\n",
    "\n",
    "Komen yang saya berikan akan muncul dalam warna hijau, kuning, atau pun merah seperti ini:\n",
    "\n",
    "<div class=\"alert alert-success\">\n",
    "<b>Code Reviewers's comment v.1</b> <a class=\"tocSkip\"></a>\n",
    "\n",
    "Bagus, code yang dijalankan sudah sesuai dengan instruksi dari project.\n",
    "\n",
    "</div>\n",
    "\n",
    "<div class=\"alert alert-warning\">\n",
    "<b>Code Reviewers's comment v.1</b> <a class=\"tocSkip\"></a>\n",
    "\n",
    "Terdapat beberapa catatan.\n",
    "\n",
    "</div>\n",
    "\n",
    "<div class=\"alert alert-danger\">\n",
    "<b>Code Reviewers's comment v.1</b> <a class=\"tocSkip\"></a>\n",
    "\n",
    "Perlu beberapa perbaikan\n",
    "\n",
    "</div>\n",
    "\n",
    "Dan tentu saja Teguh dapat menjawab saya dengan menggunakan ini\n",
    "\n",
    "<div class=\"alert alert-block alert-info\">\n",
    "<b>Student answer.</b> <a class=\"tocSkip\"></a>\n",
    "    \n",
    "Baik kak\n",
    "</div>"
   ]
  },
  {
   "cell_type": "markdown",
   "metadata": {},
   "source": [
    "# Pendahuluan"
   ]
  },
  {
   "cell_type": "markdown",
   "metadata": {},
   "source": [
    "Pada proyek kali ini kita akan membantu perusahaan **Zuber** untuk menemukan pola dari informasi yang tersedia. Kemudian kita akan memahami preferensi penumpang dan dampak faktor eksternal terhadap perjalanan.\n",
    "\n",
    "Hipotesis yang kita uji :\n",
    "- Durasi rata-rata perjalanan dari Loop ke Bandara Internasional O'Hare berubah saat hujan di hari Sabtu."
   ]
  },
  {
   "cell_type": "markdown",
   "metadata": {},
   "source": [
    "`<div class=\"alert alert-success\">\n",
    "<b>Code Reviewers's comment v.1</b> <a class=\"tocSkip\"></a>\n",
    "\n",
    "Bagus, code yang dijalankan sudah sesuai dengan instruksi dari project.\n",
    "\n",
    "</div>"
   ]
  },
  {
   "cell_type": "markdown",
   "metadata": {},
   "source": [
    "## Mempersiapkan Data"
   ]
  },
  {
   "cell_type": "code",
   "execution_count": 1,
   "metadata": {},
   "outputs": [],
   "source": [
    "# mengimport library yang dibutuhkan\n",
    "import pandas as pd\n",
    "from scipy import stats as st\n",
    "import numpy as np\n",
    "\n",
    "# statistik\n",
    "from scipy.stats import normaltest\n",
    "\n",
    "# visualisasi\n",
    "import matplotlib.pyplot as plt\n",
    "import seaborn as sns"
   ]
  },
  {
   "cell_type": "code",
   "execution_count": 2,
   "metadata": {},
   "outputs": [],
   "source": [
    "# memuat data\n",
    "company_info = pd.read_csv('/datasets/project_sql_result_01.csv')\n",
    "time_trips = pd.read_csv('/datasets/project_sql_result_04.csv')\n",
    "trips_from_loop = pd.read_csv('/datasets/project_sql_result_07.csv')"
   ]
  },
  {
   "cell_type": "markdown",
   "metadata": {},
   "source": [
    "### Melihat Informasi Umum Data"
   ]
  },
  {
   "cell_type": "markdown",
   "metadata": {},
   "source": [
    "#### Data Jumlah Perjalanan Tiap Perusahaan (`company_info`)"
   ]
  },
  {
   "cell_type": "code",
   "execution_count": 3,
   "metadata": {},
   "outputs": [
    {
     "name": "stdout",
     "output_type": "stream",
     "text": [
      "<class 'pandas.core.frame.DataFrame'>\n",
      "RangeIndex: 64 entries, 0 to 63\n",
      "Data columns (total 2 columns):\n",
      " #   Column        Non-Null Count  Dtype \n",
      "---  ------        --------------  ----- \n",
      " 0   company_name  64 non-null     object\n",
      " 1   trips_amount  64 non-null     int64 \n",
      "dtypes: int64(1), object(1)\n",
      "memory usage: 1.1+ KB\n"
     ]
    }
   ],
   "source": [
    "# melihat informasi umum dataset company_info\n",
    "company_info.info()"
   ]
  },
  {
   "cell_type": "code",
   "execution_count": 4,
   "metadata": {},
   "outputs": [
    {
     "data": {
      "text/html": [
       "<div>\n",
       "<style scoped>\n",
       "    .dataframe tbody tr th:only-of-type {\n",
       "        vertical-align: middle;\n",
       "    }\n",
       "\n",
       "    .dataframe tbody tr th {\n",
       "        vertical-align: top;\n",
       "    }\n",
       "\n",
       "    .dataframe thead th {\n",
       "        text-align: right;\n",
       "    }\n",
       "</style>\n",
       "<table border=\"1\" class=\"dataframe\">\n",
       "  <thead>\n",
       "    <tr style=\"text-align: right;\">\n",
       "      <th></th>\n",
       "      <th>company_name</th>\n",
       "      <th>trips_amount</th>\n",
       "    </tr>\n",
       "  </thead>\n",
       "  <tbody>\n",
       "    <tr>\n",
       "      <th>0</th>\n",
       "      <td>Flash Cab</td>\n",
       "      <td>19558</td>\n",
       "    </tr>\n",
       "    <tr>\n",
       "      <th>1</th>\n",
       "      <td>Taxi Affiliation Services</td>\n",
       "      <td>11422</td>\n",
       "    </tr>\n",
       "    <tr>\n",
       "      <th>2</th>\n",
       "      <td>Medallion Leasing</td>\n",
       "      <td>10367</td>\n",
       "    </tr>\n",
       "    <tr>\n",
       "      <th>3</th>\n",
       "      <td>Yellow Cab</td>\n",
       "      <td>9888</td>\n",
       "    </tr>\n",
       "    <tr>\n",
       "      <th>4</th>\n",
       "      <td>Taxi Affiliation Service Yellow</td>\n",
       "      <td>9299</td>\n",
       "    </tr>\n",
       "  </tbody>\n",
       "</table>\n",
       "</div>"
      ],
      "text/plain": [
       "                      company_name  trips_amount\n",
       "0                        Flash Cab         19558\n",
       "1        Taxi Affiliation Services         11422\n",
       "2                Medallion Leasing         10367\n",
       "3                       Yellow Cab          9888\n",
       "4  Taxi Affiliation Service Yellow          9299"
      ]
     },
     "execution_count": 4,
     "metadata": {},
     "output_type": "execute_result"
    }
   ],
   "source": [
    "# melihat contoh data\n",
    "company_info.head()"
   ]
  },
  {
   "cell_type": "markdown",
   "metadata": {},
   "source": [
    "Untuk tipe data pada dataset ini tidak ada yang perlu diubah.\n",
    "\n",
    "Sedangkan untuk data yang dimuat adalah:\n",
    "- `company_name`: nama perusahaan taksi\n",
    "- `trips_amount`: jumlah perjalanan untuk setiap perusahaan taksi pada tanggal 15-16 November 2017."
   ]
  },
  {
   "cell_type": "markdown",
   "metadata": {},
   "source": [
    "#### Data Jumlah Waktu Tiap Perjalanan (`time_trips`)"
   ]
  },
  {
   "cell_type": "code",
   "execution_count": 5,
   "metadata": {},
   "outputs": [
    {
     "name": "stdout",
     "output_type": "stream",
     "text": [
      "<class 'pandas.core.frame.DataFrame'>\n",
      "RangeIndex: 94 entries, 0 to 93\n",
      "Data columns (total 2 columns):\n",
      " #   Column                 Non-Null Count  Dtype  \n",
      "---  ------                 --------------  -----  \n",
      " 0   dropoff_location_name  94 non-null     object \n",
      " 1   average_trips          94 non-null     float64\n",
      "dtypes: float64(1), object(1)\n",
      "memory usage: 1.6+ KB\n"
     ]
    }
   ],
   "source": [
    "# informasi time_trips\n",
    "time_trips.info()"
   ]
  },
  {
   "cell_type": "code",
   "execution_count": 6,
   "metadata": {},
   "outputs": [
    {
     "data": {
      "text/html": [
       "<div>\n",
       "<style scoped>\n",
       "    .dataframe tbody tr th:only-of-type {\n",
       "        vertical-align: middle;\n",
       "    }\n",
       "\n",
       "    .dataframe tbody tr th {\n",
       "        vertical-align: top;\n",
       "    }\n",
       "\n",
       "    .dataframe thead th {\n",
       "        text-align: right;\n",
       "    }\n",
       "</style>\n",
       "<table border=\"1\" class=\"dataframe\">\n",
       "  <thead>\n",
       "    <tr style=\"text-align: right;\">\n",
       "      <th></th>\n",
       "      <th>dropoff_location_name</th>\n",
       "      <th>average_trips</th>\n",
       "    </tr>\n",
       "  </thead>\n",
       "  <tbody>\n",
       "    <tr>\n",
       "      <th>0</th>\n",
       "      <td>Loop</td>\n",
       "      <td>10727.466667</td>\n",
       "    </tr>\n",
       "    <tr>\n",
       "      <th>1</th>\n",
       "      <td>River North</td>\n",
       "      <td>9523.666667</td>\n",
       "    </tr>\n",
       "    <tr>\n",
       "      <th>2</th>\n",
       "      <td>Streeterville</td>\n",
       "      <td>6664.666667</td>\n",
       "    </tr>\n",
       "    <tr>\n",
       "      <th>3</th>\n",
       "      <td>West Loop</td>\n",
       "      <td>5163.666667</td>\n",
       "    </tr>\n",
       "    <tr>\n",
       "      <th>4</th>\n",
       "      <td>O'Hare</td>\n",
       "      <td>2546.900000</td>\n",
       "    </tr>\n",
       "  </tbody>\n",
       "</table>\n",
       "</div>"
      ],
      "text/plain": [
       "  dropoff_location_name  average_trips\n",
       "0                  Loop   10727.466667\n",
       "1           River North    9523.666667\n",
       "2         Streeterville    6664.666667\n",
       "3             West Loop    5163.666667\n",
       "4                O'Hare    2546.900000"
      ]
     },
     "execution_count": 6,
     "metadata": {},
     "output_type": "execute_result"
    }
   ],
   "source": [
    "# contoh data di time_trips\n",
    "time_trips.head()"
   ]
  },
  {
   "cell_type": "markdown",
   "metadata": {},
   "source": [
    "Untuk tipe data pada dataset ini juga tidak ada yang perlu diubah.\n",
    "\n",
    "Dan data yang dimuat adalah:\n",
    "- `dropoff_location_name`: nama wilayah di Chicago tempat perjalanan berakhir\n",
    "- `average_trips`: jumlah rata-rata perjalanan yang berakhir di setiap wilayah pada bulan November 2017."
   ]
  },
  {
   "cell_type": "markdown",
   "metadata": {},
   "source": [
    "#### Data Perjalanan dari Wilayah Loop (`trips_from_loop`)"
   ]
  },
  {
   "cell_type": "code",
   "execution_count": 7,
   "metadata": {},
   "outputs": [
    {
     "name": "stdout",
     "output_type": "stream",
     "text": [
      "<class 'pandas.core.frame.DataFrame'>\n",
      "RangeIndex: 1068 entries, 0 to 1067\n",
      "Data columns (total 3 columns):\n",
      " #   Column              Non-Null Count  Dtype  \n",
      "---  ------              --------------  -----  \n",
      " 0   start_ts            1068 non-null   object \n",
      " 1   weather_conditions  1068 non-null   object \n",
      " 2   duration_seconds    1068 non-null   float64\n",
      "dtypes: float64(1), object(2)\n",
      "memory usage: 25.2+ KB\n"
     ]
    }
   ],
   "source": [
    "# informasi trips_from_loop\n",
    "trips_from_loop.info()"
   ]
  },
  {
   "cell_type": "code",
   "execution_count": 8,
   "metadata": {},
   "outputs": [
    {
     "data": {
      "text/html": [
       "<div>\n",
       "<style scoped>\n",
       "    .dataframe tbody tr th:only-of-type {\n",
       "        vertical-align: middle;\n",
       "    }\n",
       "\n",
       "    .dataframe tbody tr th {\n",
       "        vertical-align: top;\n",
       "    }\n",
       "\n",
       "    .dataframe thead th {\n",
       "        text-align: right;\n",
       "    }\n",
       "</style>\n",
       "<table border=\"1\" class=\"dataframe\">\n",
       "  <thead>\n",
       "    <tr style=\"text-align: right;\">\n",
       "      <th></th>\n",
       "      <th>start_ts</th>\n",
       "      <th>weather_conditions</th>\n",
       "      <th>duration_seconds</th>\n",
       "    </tr>\n",
       "  </thead>\n",
       "  <tbody>\n",
       "    <tr>\n",
       "      <th>0</th>\n",
       "      <td>2017-11-25 16:00:00</td>\n",
       "      <td>Good</td>\n",
       "      <td>2410.0</td>\n",
       "    </tr>\n",
       "    <tr>\n",
       "      <th>1</th>\n",
       "      <td>2017-11-25 14:00:00</td>\n",
       "      <td>Good</td>\n",
       "      <td>1920.0</td>\n",
       "    </tr>\n",
       "    <tr>\n",
       "      <th>2</th>\n",
       "      <td>2017-11-25 12:00:00</td>\n",
       "      <td>Good</td>\n",
       "      <td>1543.0</td>\n",
       "    </tr>\n",
       "    <tr>\n",
       "      <th>3</th>\n",
       "      <td>2017-11-04 10:00:00</td>\n",
       "      <td>Good</td>\n",
       "      <td>2512.0</td>\n",
       "    </tr>\n",
       "    <tr>\n",
       "      <th>4</th>\n",
       "      <td>2017-11-11 07:00:00</td>\n",
       "      <td>Good</td>\n",
       "      <td>1440.0</td>\n",
       "    </tr>\n",
       "  </tbody>\n",
       "</table>\n",
       "</div>"
      ],
      "text/plain": [
       "              start_ts weather_conditions  duration_seconds\n",
       "0  2017-11-25 16:00:00               Good            2410.0\n",
       "1  2017-11-25 14:00:00               Good            1920.0\n",
       "2  2017-11-25 12:00:00               Good            1543.0\n",
       "3  2017-11-04 10:00:00               Good            2512.0\n",
       "4  2017-11-11 07:00:00               Good            1440.0"
      ]
     },
     "execution_count": 8,
     "metadata": {},
     "output_type": "execute_result"
    }
   ],
   "source": [
    "# contoh data trips_from_loop\n",
    "trips_from_loop.head()"
   ]
  },
  {
   "cell_type": "markdown",
   "metadata": {},
   "source": [
    "Sepertinya untuk dataset ini kita perlu mengubah tipe data pada kolom `start_ts` menjadi tipe datetime.\n",
    "\n",
    "Dan untuk data yang dimuatnya adalah:\n",
    "- `start_ts` -- tanggal dan waktu penjemputan\n",
    "- `weather_conditions` -- kondisi cuaca saat perjalanan dimulai\n",
    "- `duration_seconds` -- durasi perjalanan dalam satuan detik"
   ]
  },
  {
   "cell_type": "markdown",
   "metadata": {},
   "source": [
    "Sekarang mari kita lihat deskripsi umum dari keseluruhan dataset"
   ]
  },
  {
   "cell_type": "code",
   "execution_count": 9,
   "metadata": {},
   "outputs": [
    {
     "data": {
      "text/html": [
       "<div>\n",
       "<style scoped>\n",
       "    .dataframe tbody tr th:only-of-type {\n",
       "        vertical-align: middle;\n",
       "    }\n",
       "\n",
       "    .dataframe tbody tr th {\n",
       "        vertical-align: top;\n",
       "    }\n",
       "\n",
       "    .dataframe thead th {\n",
       "        text-align: right;\n",
       "    }\n",
       "</style>\n",
       "<table border=\"1\" class=\"dataframe\">\n",
       "  <thead>\n",
       "    <tr style=\"text-align: right;\">\n",
       "      <th></th>\n",
       "      <th>count</th>\n",
       "      <th>unique</th>\n",
       "      <th>top</th>\n",
       "      <th>freq</th>\n",
       "      <th>mean</th>\n",
       "      <th>std</th>\n",
       "      <th>min</th>\n",
       "      <th>25%</th>\n",
       "      <th>50%</th>\n",
       "      <th>75%</th>\n",
       "      <th>max</th>\n",
       "    </tr>\n",
       "  </thead>\n",
       "  <tbody>\n",
       "    <tr>\n",
       "      <th>company_name</th>\n",
       "      <td>64</td>\n",
       "      <td>64</td>\n",
       "      <td>City Service</td>\n",
       "      <td>1</td>\n",
       "      <td>NaN</td>\n",
       "      <td>NaN</td>\n",
       "      <td>NaN</td>\n",
       "      <td>NaN</td>\n",
       "      <td>NaN</td>\n",
       "      <td>NaN</td>\n",
       "      <td>NaN</td>\n",
       "    </tr>\n",
       "    <tr>\n",
       "      <th>trips_amount</th>\n",
       "      <td>64.0</td>\n",
       "      <td>NaN</td>\n",
       "      <td>NaN</td>\n",
       "      <td>NaN</td>\n",
       "      <td>2145.484375</td>\n",
       "      <td>3812.310186</td>\n",
       "      <td>2.0</td>\n",
       "      <td>20.75</td>\n",
       "      <td>178.5</td>\n",
       "      <td>2106.5</td>\n",
       "      <td>19558.0</td>\n",
       "    </tr>\n",
       "  </tbody>\n",
       "</table>\n",
       "</div>"
      ],
      "text/plain": [
       "             count unique           top freq         mean          std  min  \\\n",
       "company_name    64     64  City Service    1          NaN          NaN  NaN   \n",
       "trips_amount  64.0    NaN           NaN  NaN  2145.484375  3812.310186  2.0   \n",
       "\n",
       "                25%    50%     75%      max  \n",
       "company_name    NaN    NaN     NaN      NaN  \n",
       "trips_amount  20.75  178.5  2106.5  19558.0  "
      ]
     },
     "metadata": {},
     "output_type": "display_data"
    },
    {
     "data": {
      "text/html": [
       "<div>\n",
       "<style scoped>\n",
       "    .dataframe tbody tr th:only-of-type {\n",
       "        vertical-align: middle;\n",
       "    }\n",
       "\n",
       "    .dataframe tbody tr th {\n",
       "        vertical-align: top;\n",
       "    }\n",
       "\n",
       "    .dataframe thead th {\n",
       "        text-align: right;\n",
       "    }\n",
       "</style>\n",
       "<table border=\"1\" class=\"dataframe\">\n",
       "  <thead>\n",
       "    <tr style=\"text-align: right;\">\n",
       "      <th></th>\n",
       "      <th>count</th>\n",
       "      <th>unique</th>\n",
       "      <th>top</th>\n",
       "      <th>freq</th>\n",
       "      <th>mean</th>\n",
       "      <th>std</th>\n",
       "      <th>min</th>\n",
       "      <th>25%</th>\n",
       "      <th>50%</th>\n",
       "      <th>75%</th>\n",
       "      <th>max</th>\n",
       "    </tr>\n",
       "  </thead>\n",
       "  <tbody>\n",
       "    <tr>\n",
       "      <th>dropoff_location_name</th>\n",
       "      <td>94</td>\n",
       "      <td>94</td>\n",
       "      <td>West Pullman</td>\n",
       "      <td>1</td>\n",
       "      <td>NaN</td>\n",
       "      <td>NaN</td>\n",
       "      <td>NaN</td>\n",
       "      <td>NaN</td>\n",
       "      <td>NaN</td>\n",
       "      <td>NaN</td>\n",
       "      <td>NaN</td>\n",
       "    </tr>\n",
       "    <tr>\n",
       "      <th>average_trips</th>\n",
       "      <td>94.0</td>\n",
       "      <td>NaN</td>\n",
       "      <td>NaN</td>\n",
       "      <td>NaN</td>\n",
       "      <td>599.953728</td>\n",
       "      <td>1714.591098</td>\n",
       "      <td>1.8</td>\n",
       "      <td>14.266667</td>\n",
       "      <td>52.016667</td>\n",
       "      <td>298.858333</td>\n",
       "      <td>10727.466667</td>\n",
       "    </tr>\n",
       "  </tbody>\n",
       "</table>\n",
       "</div>"
      ],
      "text/plain": [
       "                      count unique           top freq        mean  \\\n",
       "dropoff_location_name    94     94  West Pullman    1         NaN   \n",
       "average_trips          94.0    NaN           NaN  NaN  599.953728   \n",
       "\n",
       "                               std  min        25%        50%         75%  \\\n",
       "dropoff_location_name          NaN  NaN        NaN        NaN         NaN   \n",
       "average_trips          1714.591098  1.8  14.266667  52.016667  298.858333   \n",
       "\n",
       "                                max  \n",
       "dropoff_location_name           NaN  \n",
       "average_trips          10727.466667  "
      ]
     },
     "metadata": {},
     "output_type": "display_data"
    },
    {
     "data": {
      "text/html": [
       "<div>\n",
       "<style scoped>\n",
       "    .dataframe tbody tr th:only-of-type {\n",
       "        vertical-align: middle;\n",
       "    }\n",
       "\n",
       "    .dataframe tbody tr th {\n",
       "        vertical-align: top;\n",
       "    }\n",
       "\n",
       "    .dataframe thead th {\n",
       "        text-align: right;\n",
       "    }\n",
       "</style>\n",
       "<table border=\"1\" class=\"dataframe\">\n",
       "  <thead>\n",
       "    <tr style=\"text-align: right;\">\n",
       "      <th></th>\n",
       "      <th>count</th>\n",
       "      <th>unique</th>\n",
       "      <th>top</th>\n",
       "      <th>freq</th>\n",
       "      <th>mean</th>\n",
       "      <th>std</th>\n",
       "      <th>min</th>\n",
       "      <th>25%</th>\n",
       "      <th>50%</th>\n",
       "      <th>75%</th>\n",
       "      <th>max</th>\n",
       "    </tr>\n",
       "  </thead>\n",
       "  <tbody>\n",
       "    <tr>\n",
       "      <th>start_ts</th>\n",
       "      <td>1068</td>\n",
       "      <td>81</td>\n",
       "      <td>2017-11-11 10:00:00</td>\n",
       "      <td>48</td>\n",
       "      <td>NaN</td>\n",
       "      <td>NaN</td>\n",
       "      <td>NaN</td>\n",
       "      <td>NaN</td>\n",
       "      <td>NaN</td>\n",
       "      <td>NaN</td>\n",
       "      <td>NaN</td>\n",
       "    </tr>\n",
       "    <tr>\n",
       "      <th>weather_conditions</th>\n",
       "      <td>1068</td>\n",
       "      <td>2</td>\n",
       "      <td>Good</td>\n",
       "      <td>888</td>\n",
       "      <td>NaN</td>\n",
       "      <td>NaN</td>\n",
       "      <td>NaN</td>\n",
       "      <td>NaN</td>\n",
       "      <td>NaN</td>\n",
       "      <td>NaN</td>\n",
       "      <td>NaN</td>\n",
       "    </tr>\n",
       "    <tr>\n",
       "      <th>duration_seconds</th>\n",
       "      <td>1068.0</td>\n",
       "      <td>NaN</td>\n",
       "      <td>NaN</td>\n",
       "      <td>NaN</td>\n",
       "      <td>2071.731273</td>\n",
       "      <td>769.461125</td>\n",
       "      <td>0.0</td>\n",
       "      <td>1438.25</td>\n",
       "      <td>1980.0</td>\n",
       "      <td>2580.0</td>\n",
       "      <td>7440.0</td>\n",
       "    </tr>\n",
       "  </tbody>\n",
       "</table>\n",
       "</div>"
      ],
      "text/plain": [
       "                     count unique                  top freq         mean  \\\n",
       "start_ts              1068     81  2017-11-11 10:00:00   48          NaN   \n",
       "weather_conditions    1068      2                 Good  888          NaN   \n",
       "duration_seconds    1068.0    NaN                  NaN  NaN  2071.731273   \n",
       "\n",
       "                           std  min      25%     50%     75%     max  \n",
       "start_ts                   NaN  NaN      NaN     NaN     NaN     NaN  \n",
       "weather_conditions         NaN  NaN      NaN     NaN     NaN     NaN  \n",
       "duration_seconds    769.461125  0.0  1438.25  1980.0  2580.0  7440.0  "
      ]
     },
     "metadata": {},
     "output_type": "display_data"
    }
   ],
   "source": [
    "# menampilkan deskripsi umum ke-3 dataset dengan urutan\n",
    "## 1. dataset informasi perusahaan (company_info)\n",
    "## 2. dataset lokasi pengantaran (time_trips)\n",
    "## 3. dataset laporan perjalanan dari loop ke bandara O`Hare (trips_from_loop)\n",
    "display(company_info.describe(include='all').transpose(), \n",
    "        time_trips.describe(include='all').transpose(), \n",
    "        trips_from_loop.describe(include='all').transpose())"
   ]
  },
  {
   "cell_type": "markdown",
   "metadata": {},
   "source": [
    "**Kesimpulan**\n",
    "\n",
    "1. Kita mempunyai 64 perusahaan dimana jumlah perjalanan paling banyak yaitu mencapai `19558` dan jumlah perjalanan paling sedikit yaitu `2`.\n",
    "2. Untuk jumlah perjalanan rata-rata pengantaran diberbagai lokasi nilai maksimalnya `10727` dan terdapat 94 lokasi pengantaran.\n",
    "3. Sedangkan untuk kategori beberapa perjalanan dalam sehari, waktu yang dihabiskan paling banyak `7440` detik."
   ]
  },
  {
   "cell_type": "markdown",
   "metadata": {},
   "source": [
    "<div class=\"alert alert-success\">\n",
    "<b>Code Reviewers's comment v.1</b> <a class=\"tocSkip\"></a>\n",
    "\n",
    "Bagus, code yang dijalankan sudah sesuai dengan instruksi dari project.\n",
    "\n",
    "</div>"
   ]
  },
  {
   "cell_type": "markdown",
   "metadata": {},
   "source": [
    "### Mengubah Tipe Data"
   ]
  },
  {
   "cell_type": "markdown",
   "metadata": {},
   "source": [
    "Mari kita ubah tipe data didataset `trips_from_loop` pada kolom `start_ts` ke datetime."
   ]
  },
  {
   "cell_type": "code",
   "execution_count": 10,
   "metadata": {},
   "outputs": [],
   "source": [
    "# mengubah kolom `start_ts` ke datetime\n",
    "trips_from_loop['start_ts'] = pd.to_datetime(trips_from_loop['start_ts'], format='%Y-%m-%d %H:%M:%S')"
   ]
  },
  {
   "cell_type": "markdown",
   "metadata": {},
   "source": [
    "<div class=\"alert alert-success\">\n",
    "<b>Code Reviewers's comment v.1</b> <a class=\"tocSkip\"></a>\n",
    "\n",
    "Bagus, code yang dijalankan sudah sesuai dengan instruksi dari project.\n",
    "\n",
    "</div>"
   ]
  },
  {
   "cell_type": "markdown",
   "metadata": {},
   "source": [
    "### Memperkaya Kualitas Data\n",
    "\n",
    "Karena sebelumnya dataset `trips_from_loop` ada yang berupa tanggal, mari kita coba uraikan untuk mendapatkan hari dan jamnya."
   ]
  },
  {
   "cell_type": "code",
   "execution_count": 11,
   "metadata": {},
   "outputs": [],
   "source": [
    "# mendapatkan tanggal\n",
    "trips_from_loop['date'] = trips_from_loop['start_ts'].dt.date\n",
    "# mendapatkan informasi hari\n",
    "trips_from_loop['day_name'] = trips_from_loop['start_ts'].dt.day_name()\n",
    "# mendapatkan informasi jam\n",
    "trips_from_loop['hours'] = trips_from_loop['start_ts'].dt.hour"
   ]
  },
  {
   "cell_type": "code",
   "execution_count": 12,
   "metadata": {},
   "outputs": [
    {
     "data": {
      "text/html": [
       "<div>\n",
       "<style scoped>\n",
       "    .dataframe tbody tr th:only-of-type {\n",
       "        vertical-align: middle;\n",
       "    }\n",
       "\n",
       "    .dataframe tbody tr th {\n",
       "        vertical-align: top;\n",
       "    }\n",
       "\n",
       "    .dataframe thead th {\n",
       "        text-align: right;\n",
       "    }\n",
       "</style>\n",
       "<table border=\"1\" class=\"dataframe\">\n",
       "  <thead>\n",
       "    <tr style=\"text-align: right;\">\n",
       "      <th></th>\n",
       "      <th>start_ts</th>\n",
       "      <th>weather_conditions</th>\n",
       "      <th>duration_seconds</th>\n",
       "      <th>date</th>\n",
       "      <th>day_name</th>\n",
       "      <th>hours</th>\n",
       "    </tr>\n",
       "  </thead>\n",
       "  <tbody>\n",
       "    <tr>\n",
       "      <th>336</th>\n",
       "      <td>2017-11-11 10:00:00</td>\n",
       "      <td>Good</td>\n",
       "      <td>1560.0</td>\n",
       "      <td>2017-11-11</td>\n",
       "      <td>Saturday</td>\n",
       "      <td>10</td>\n",
       "    </tr>\n",
       "    <tr>\n",
       "      <th>442</th>\n",
       "      <td>2017-11-11 08:00:00</td>\n",
       "      <td>Good</td>\n",
       "      <td>1205.0</td>\n",
       "      <td>2017-11-11</td>\n",
       "      <td>Saturday</td>\n",
       "      <td>8</td>\n",
       "    </tr>\n",
       "    <tr>\n",
       "      <th>460</th>\n",
       "      <td>2017-11-11 10:00:00</td>\n",
       "      <td>Good</td>\n",
       "      <td>1560.0</td>\n",
       "      <td>2017-11-11</td>\n",
       "      <td>Saturday</td>\n",
       "      <td>10</td>\n",
       "    </tr>\n",
       "    <tr>\n",
       "      <th>204</th>\n",
       "      <td>2017-11-18 19:00:00</td>\n",
       "      <td>Good</td>\n",
       "      <td>0.0</td>\n",
       "      <td>2017-11-18</td>\n",
       "      <td>Saturday</td>\n",
       "      <td>19</td>\n",
       "    </tr>\n",
       "    <tr>\n",
       "      <th>380</th>\n",
       "      <td>2017-11-11 07:00:00</td>\n",
       "      <td>Good</td>\n",
       "      <td>1261.0</td>\n",
       "      <td>2017-11-11</td>\n",
       "      <td>Saturday</td>\n",
       "      <td>7</td>\n",
       "    </tr>\n",
       "  </tbody>\n",
       "</table>\n",
       "</div>"
      ],
      "text/plain": [
       "               start_ts weather_conditions  duration_seconds        date  \\\n",
       "336 2017-11-11 10:00:00               Good            1560.0  2017-11-11   \n",
       "442 2017-11-11 08:00:00               Good            1205.0  2017-11-11   \n",
       "460 2017-11-11 10:00:00               Good            1560.0  2017-11-11   \n",
       "204 2017-11-18 19:00:00               Good               0.0  2017-11-18   \n",
       "380 2017-11-11 07:00:00               Good            1261.0  2017-11-11   \n",
       "\n",
       "     day_name  hours  \n",
       "336  Saturday     10  \n",
       "442  Saturday      8  \n",
       "460  Saturday     10  \n",
       "204  Saturday     19  \n",
       "380  Saturday      7  "
      ]
     },
     "execution_count": 12,
     "metadata": {},
     "output_type": "execute_result"
    }
   ],
   "source": [
    "trips_from_loop.sample(5)"
   ]
  },
  {
   "cell_type": "markdown",
   "metadata": {},
   "source": [
    "<div class=\"alert alert-success\">\n",
    "<b>Code Reviewers's comment v.1</b> <a class=\"tocSkip\"></a>\n",
    "\n",
    "Bagus, code yang dijalankan sudah sesuai dengan instruksi dari project.\n",
    "\n",
    "</div>"
   ]
  },
  {
   "cell_type": "markdown",
   "metadata": {},
   "source": [
    "## Mengidentifikasi Wilayah Pengantaran  dan Perusahaan Teratas"
   ]
  },
  {
   "cell_type": "code",
   "execution_count": 13,
   "metadata": {},
   "outputs": [],
   "source": [
    "# fungsi untuk dekorasi plot\n",
    "def bar_height_visualization(data, num_bar):\n",
    "    for bar in data.patches:\n",
    "        if num_bar == 'int':\n",
    "            data.annotate(format(bar.get_height().astype('int')),\n",
    "                                         (bar.get_x() + bar.get_width() / 2, bar.get_height()),\n",
    "                                         ha = 'center', va = 'center',\n",
    "                                         size = 10,\n",
    "                                         xytext = (0,25),\n",
    "                                         textcoords = 'offset points',\n",
    "                                         rotation = 60)\n",
    "        else:\n",
    "            data.annotate(format(bar.get_height(), '.2f'),\n",
    "                                         (bar.get_x() + bar.get_width() / 2, bar.get_height()),\n",
    "                                         ha = 'center', va = 'center',\n",
    "                                         size = 10,\n",
    "                                         xytext = (0,25),\n",
    "                                         textcoords = 'offset points',\n",
    "                                         rotation = 60)"
   ]
  },
  {
   "cell_type": "markdown",
   "metadata": {},
   "source": [
    "Sekarang saatnya kita mengidentifikasi 10 wilayah teratas yang dijadikan sebagai titik pengantaran."
   ]
  },
  {
   "cell_type": "code",
   "execution_count": 14,
   "metadata": {},
   "outputs": [
    {
     "data": {
      "image/png": "[encoded data removed]",
      "text/plain": [
       "<Figure size 720x576 with 1 Axes>"
      ]
     },
     "metadata": {
      "needs_background": "light"
     },
     "output_type": "display_data"
    }
   ],
   "source": [
    "# visualisasi lokasi pengantaran teratas\n",
    "plt.figure(figsize=(10,8)) # ukuran plot\n",
    "dropoff_location_plot = sns.barplot(data=time_trips.head(10), \n",
    "                                    x='dropoff_location_name', \n",
    "                                    y='average_trips', palette='Spectral')\n",
    "\n",
    "# memanggil fungsi untuk menampilkan angka diatas bar\n",
    "bar_height_visualization(dropoff_location_plot, 'float')\n",
    "\n",
    "# fitur plot\n",
    "plt.ylim(0, 13000)\n",
    "plt.title('Lokasi Pengantaran Teratas', size=20)\n",
    "plt.ylabel('Jumlah Perjalanan rata-rata', size=14)\n",
    "plt.xlabel('Lokasi')\n",
    "plt.xticks(rotation=20)\n",
    "plt.show()"
   ]
  },
  {
   "cell_type": "code",
   "execution_count": 15,
   "metadata": {},
   "outputs": [
    {
     "data": {
      "image/png": "[encoded data removed]",
      "text/plain": [
       "<Figure size 936x504 with 1 Axes>"
      ]
     },
     "metadata": {
      "needs_background": "light"
     },
     "output_type": "display_data"
    }
   ],
   "source": [
    "# visualisasi perusahaan teratas\n",
    "plt.figure(figsize=(13,7)) # ukuran plot\n",
    "dropoff_location_plot = sns.barplot(data=company_info.head(10), \n",
    "                                    x='company_name', \n",
    "                                    y='trips_amount', palette='husl')\n",
    "\n",
    "# memanggil fungsi untuk menampilkan angka diatas bar\n",
    "bar_height_visualization(dropoff_location_plot, 'float')\n",
    "\n",
    "# fitur plot\n",
    "plt.ylim(0, 25000)\n",
    "plt.title('Perusahaan Dengan Jumlah Perjalanan Terbanyak', size=20)\n",
    "plt.ylabel('Jumlah Perjalanan', size=14)\n",
    "plt.xlabel('Nama Perusahaan')\n",
    "plt.xticks(rotation=20)\n",
    "plt.show()"
   ]
  },
  {
   "cell_type": "markdown",
   "metadata": {},
   "source": [
    "**Kesimpulan**\n",
    "\n",
    "1. Dalam kurun waktu 2 hari (15-16 November 2017) Perusahaan `Flash Cab` yang totalnya (19558) hampir 2x lipat dari perusahaan ke-2 yaitu `Taxi Affiliation Services`.\n",
    "2. Sedangkan untuk lokasi pengantaran paling favorit selama bulan november adalah `Loop` dan `River Nort`."
   ]
  },
  {
   "cell_type": "markdown",
   "metadata": {},
   "source": [
    "<div class=\"alert alert-success\">\n",
    "<b>Code Reviewers's comment v.1</b> <a class=\"tocSkip\"></a>\n",
    "\n",
    "Bagus, code yang dijalankan sudah sesuai dengan instruksi dari project.\n",
    "\n",
    "</div>"
   ]
  },
  {
   "cell_type": "markdown",
   "metadata": {},
   "source": [
    "## Loop - O'Hare"
   ]
  },
  {
   "cell_type": "code",
   "execution_count": 16,
   "metadata": {},
   "outputs": [
    {
     "data": {
      "image/png": "[encoded data removed]",
      "text/plain": [
       "<Figure size 720x360 with 1 Axes>"
      ]
     },
     "metadata": {
      "needs_background": "light"
     },
     "output_type": "display_data"
    }
   ],
   "source": [
    "plt.figure(figsize=(10,5))\n",
    "ax = sns.countplot(data=trips_from_loop.sort_values('date'), x='date')\n",
    "\n",
    "bar_height_visualization(ax, 'int')\n",
    "\n",
    "plt.title('Total Perjalan Hari Sabtu Sepanjang November', size=20)\n",
    "plt.ylabel('Jumlah Perjalanan', size=14)\n",
    "plt.xlabel('Tanggal', size=14)\n",
    "plt.ylim(0, 600)\n",
    "plt.show()"
   ]
  },
  {
   "cell_type": "markdown",
   "metadata": {},
   "source": [
    "Untuk jumlah perjalanan sepanjang bulan november sepertinya para pelanggan lebih sedikit memesan jasa taksi di pertengahan hingga akhir bulan."
   ]
  },
  {
   "cell_type": "code",
   "execution_count": 17,
   "metadata": {},
   "outputs": [],
   "source": [
    "piv_count = trips_from_loop.pivot_table(index=['date','hours'], values='duration_seconds', aggfunc='count').reset_index()\n",
    "piv_count = piv_count.rename(columns={\n",
    "    'duration_seconds' : 'count'\n",
    "})\n",
    "piv_count = trips_from_loop[['date','weather_conditions']].merge(piv_count, on='date', how='left') "
   ]
  },
  {
   "cell_type": "code",
   "execution_count": 18,
   "metadata": {},
   "outputs": [
    {
     "data": {
      "image/png": "[encoded data removed]",
      "text/plain": [
       "<Figure size 1080x576 with 1 Axes>"
      ]
     },
     "metadata": {
      "needs_background": "light"
     },
     "output_type": "display_data"
    }
   ],
   "source": [
    "plt.figure(figsize=(15,8))\n",
    "ax = sns.scatterplot(data=piv_count, y='count', x='hours', hue='date', palette='husl', style='weather_conditions')\n",
    "\n",
    "ax.collections[0].set_sizes([250])  # mereset ukuran marker di plot\n",
    "plt.grid(True)\n",
    "plt.title('Distribusi Perjalanan Per Jam', size=20)\n",
    "plt.xlabel('Hours', size=14)\n",
    "plt.ylabel('Jumlah Perjalanan')\n",
    "plt.show()"
   ]
  },
  {
   "cell_type": "markdown",
   "metadata": {},
   "source": [
    "Jam sibuk dari layanan taksi kita mulai dari pukul 05:00 pagi hingga pukul 20:00 malam. Dan Sepertinya untuk cuaca hujan itu terjadi pada tanggal `11 dan 18 November 2017`."
   ]
  },
  {
   "cell_type": "markdown",
   "metadata": {},
   "source": [
    "<div class=\"alert alert-success\">\n",
    "<b>Code Reviewers's comment v.1</b> <a class=\"tocSkip\"></a>\n",
    "\n",
    "Bagus, code yang dijalankan sudah sesuai dengan instruksi dari project.\n",
    "\n",
    "</div>"
   ]
  },
  {
   "cell_type": "markdown",
   "metadata": {},
   "source": [
    "## Menguji Hipotesis\n",
    "\n",
    "Saatnya kita menguji hipotesis, disini kita akan menentukan H0 dan H1(Alternatif)-nya:\n",
    "\n",
    "- H0 : Variansi durasi rata-rata perjalanan saat cuaca hujan dan cerah adalah **sama**.\n",
    "- H1 : Variansi durasi rata-rata perjalanan saat cuaca hujan dan cerah adalah **berubah**.\n",
    "\n",
    "Kemudian\n",
    "\n",
    "- H0 : Durasi rata-rata perjalanan dari Loop ke Bandara Internasional O'Hare **sama** saat hujan di hari Sabtu.\n",
    "- H1 : Durasi rata-rata perjalanan dari Loop ke Bandara Internasional O'Hare **berubah** saat hujan di hari Sabtu.\n",
    "\n",
    "Dan kita menetapkan nilai standar signifikansi (Alpha) = 5%."
   ]
  },
  {
   "cell_type": "markdown",
   "metadata": {},
   "source": [
    "Sebelumnya kita cek outlier pada kolom `duration_seconds` dimana jika terdapat outlier kita akan menghapusnya."
   ]
  },
  {
   "cell_type": "code",
   "execution_count": 19,
   "metadata": {},
   "outputs": [
    {
     "data": {
      "image/png": "[encoded data removed]",
      "text/plain": [
       "<Figure size 720x360 with 2 Axes>"
      ]
     },
     "metadata": {
      "needs_background": "light"
     },
     "output_type": "display_data"
    }
   ],
   "source": [
    "# memeriksa distribusi duration_seconds\n",
    "fig, (ax1, ax2) = plt.subplots(2, sharex = True, figsize= (10, 5),\n",
    "                              gridspec_kw={'height_ratios' : (.15, .85),\n",
    "                                          'hspace': .05})\n",
    "\n",
    "ax1.set_title('Distribusi Data Duration Seconds', size=20)\n",
    "sns.boxplot(x = trips_from_loop.duration_seconds, ax=ax1) # boxplot\n",
    "ax1.set(xlabel=\"\")\n",
    "sns.histplot(data= trips_from_loop.duration_seconds, ax=ax2, stat='count', kde=True, bins=50) # histogram\n",
    "\n",
    "plt.xlabel('Durasi Dalam Detik')\n",
    "plt.ylabel('Jumlah')\n",
    "plt.show()"
   ]
  },
  {
   "cell_type": "markdown",
   "metadata": {},
   "source": [
    "Ternyata terdapat beberapa outlier dikolom `duration_seconds` kita akan menghapusnya dengan menentukan batas atas dan batas bawahnya."
   ]
  },
  {
   "cell_type": "code",
   "execution_count": 20,
   "metadata": {},
   "outputs": [
    {
     "data": {
      "image/png": "[encoded data removed]",
      "text/plain": [
       "<Figure size 720x360 with 2 Axes>"
      ]
     },
     "metadata": {
      "needs_background": "light"
     },
     "output_type": "display_data"
    }
   ],
   "source": [
    "# menentukan Q3 dan Q1\n",
    "Q1 = trips_from_loop.duration_seconds.quantile(.25)\n",
    "Q3 = trips_from_loop.duration_seconds.quantile(.75)\n",
    "\n",
    "# rentang interkuartil\n",
    "IQR = Q3-Q1\n",
    "# menentukan batas atas dan bawah\n",
    "upper_limit = Q3 + (1.5 * IQR)\n",
    "lower_limit = Q1 - (1.5 * IQR)\n",
    "\n",
    "# menghapus outlier\n",
    "trips_from_loop = trips_from_loop.query('duration_seconds >= @lower_limit and duration_seconds <= @upper_limit')\n",
    "\n",
    "# melihat distribusi akhir pada duration second\n",
    "fig, (ax1, ax2) = plt.subplots(2, sharex = True, figsize= (10, 5),\n",
    "                              gridspec_kw={'height_ratios' : (.15, .85),\n",
    "                                          'hspace': .05})\n",
    "\n",
    "ax1.set_title('Distribusi Data Duration Seconds Tanpa O', size=20)\n",
    "sns.boxplot(x = trips_from_loop.duration_seconds, ax=ax1) # boxplot\n",
    "ax1.set(xlabel=\"\")\n",
    "sns.histplot(data= trips_from_loop.duration_seconds, ax=ax2, stat='count', kde=True, bins=50) # histogram\n",
    "\n",
    "plt.xlabel('Durasi Dalam Detik')\n",
    "plt.ylabel('Jumlah')\n",
    "plt.show()"
   ]
  },
  {
   "cell_type": "markdown",
   "metadata": {},
   "source": [
    "Setelah data bersih saatnya kita memfilter data berdasarkan cuaca untuk menguji hipotesis."
   ]
  },
  {
   "cell_type": "code",
   "execution_count": 21,
   "metadata": {},
   "outputs": [
    {
     "data": {
      "text/plain": [
       "Good    883\n",
       "Bad     179\n",
       "Name: weather_conditions, dtype: int64"
      ]
     },
     "execution_count": 21,
     "metadata": {},
     "output_type": "execute_result"
    }
   ],
   "source": [
    "# melihat distribusi data dikolom weater_contidion\n",
    "trips_from_loop.weather_conditions.value_counts()"
   ]
  },
  {
   "cell_type": "code",
   "execution_count": 22,
   "metadata": {},
   "outputs": [
    {
     "data": {
      "text/plain": [
       "Saturday    1062\n",
       "Name: day_name, dtype: int64"
      ]
     },
     "execution_count": 22,
     "metadata": {},
     "output_type": "execute_result"
    }
   ],
   "source": [
    "# melihat distribusi data dikolom day_name\n",
    "trips_from_loop.day_name.value_counts()"
   ]
  },
  {
   "cell_type": "markdown",
   "metadata": {},
   "source": [
    "Karena dataset ini perjalannya secara keseluruhan merupakan hari sabtu, maka kita akan memfilter nya berdasarkan kondisi cuaca, dimana:\n",
    "1. `Good` untuk cuaca cerah.\n",
    "2. `Bad` untuk cuaca hujan."
   ]
  },
  {
   "cell_type": "code",
   "execution_count": 23,
   "metadata": {},
   "outputs": [],
   "source": [
    "# cuaca hujan dilabeli dengan tabel rainy\n",
    "rainy = trips_from_loop.query('weather_conditions == \"Bad\" ')\n",
    "# cuaca cerah dilabeli dengan tabel sunny\n",
    "sunny = trips_from_loop.query('weather_conditions == \"Good\"')"
   ]
  },
  {
   "cell_type": "markdown",
   "metadata": {},
   "source": [
    "Sekarang kita akan menguji hipotesis untuk menentukan varians antara cuaca hujan dan cerah sama."
   ]
  },
  {
   "cell_type": "code",
   "execution_count": 26,
   "metadata": {},
   "outputs": [
    {
     "name": "stdout",
     "output_type": "stream",
     "text": [
      "P-Value : 0.6196707782686355\n",
      "Kita Tidak Dapat Menolak Hipotesis 0 -> Varians keduanya sama\n"
     ]
    }
   ],
   "source": [
    "# menguji hipotesis varians\n",
    "alpha= .05\n",
    "res = st.levene(rainy['duration_seconds'], sunny['duration_seconds'])\n",
    "\n",
    "print(f\"P-Value : {res.pvalue}\")\n",
    "\n",
    "if res.pvalue < alpha:\n",
    "    print('Kita Menolak Hipotesis 0 -> Varians keduanya tidak sama')\n",
    "else:\n",
    "    print('Kita Tidak Dapat Menolak Hipotesis 0 -> Varians keduanya sama')"
   ]
  },
  {
   "cell_type": "markdown",
   "metadata": {},
   "source": [
    "**Kesimpulan**\n",
    "\n",
    "- Variansi durasi rata-rata perjalanan saat cuaca hujan dan cerah adalah **sama**\n",
    "\n",
    "Dari hasil uji dapat dilihat bahwa varians `duration_seconds` untuk kedua cuaca adalah sama, maka kita akan mengatur `equal_var` = `True`. "
   ]
  },
  {
   "cell_type": "code",
   "execution_count": 25,
   "metadata": {},
   "outputs": [
    {
     "name": "stdout",
     "output_type": "stream",
     "text": [
      "P-Value : 1.2430038032744411e-13\n",
      "Kita Menolak Hipotesis Nol dan Menerima Hipotesis Alternatif\n"
     ]
    }
   ],
   "source": [
    "# Menguji hipotesis\n",
    "alpha = .05 # alpha 5%\n",
    "\n",
    "res = st.ttest_ind(rainy.duration_seconds, sunny.duration_seconds, equal_var=True)\n",
    "\n",
    "print(f\"P-Value : {res.pvalue}\")\n",
    "\n",
    "if res.pvalue<alpha:\n",
    "    print(\"Kita Menolak Hipotesis Nol dan Menerima Hipotesis Alternatif\")\n",
    "else:\n",
    "    print(\"Kita Tidak Bisa Menolak Hipotesis Nol\")"
   ]
  },
  {
   "cell_type": "markdown",
   "metadata": {},
   "source": [
    "**Kesimpulan**\n",
    "\n",
    "Durasi rata-rata perjalanan dari Loop ke Bandara Internasional O'Hare **berubah** saat hujan di hari Sabtu."
   ]
  },
  {
   "cell_type": "markdown",
   "metadata": {},
   "source": [
    "<div class=\"alert alert-danger\">\n",
    "<b>Code Reviewers's comment v.1</b> <a class=\"tocSkip\"></a>\n",
    "\n",
    "- caranya sudah tepat, namun ada beberapa catatan\n",
    "    - sebelum melakukan uji hipotesis cek outliers terlebih dahulu ya di kolom duration_seconds, jika ada outliers bisa dihapus ya\n",
    "    - untuk cek varians bisa pakai levene test ya (https://docs.scipy.org/doc/scipy/reference/generated/scipy.stats.levene.html) supaya hasilnya lebih akurat\n",
    "\n",
    "</div>\n",
    "\n",
    "<div class=\"alert alert-block alert-info\">\n",
    "<b>Student answer.</b> <a class=\"tocSkip\"></a>\n",
    "    \n",
    "Baik kak sudah dilaksanakan, apakah seperti diatas sudah betul ? kalau masih ada yang perlu saya pelajari mohon diberitahu referensinya lagi kak, terimakasih sebelumnya ya\n",
    "</div>"
   ]
  },
  {
   "cell_type": "markdown",
   "metadata": {},
   "source": [
    "## Kesimpulan Umum"
   ]
  },
  {
   "cell_type": "markdown",
   "metadata": {},
   "source": [
    "Dengan ini kita dapat menyimpulkan bahwa:\n",
    "\n",
    "- Perusahaan `Flash Cab` dalam 2 hari ternyata mampu mendapatkan total perjalanan hingga 19558 perjalanan. \n",
    "- Untuk lokasi pengantaran terfavorit sepanjang bulan November adalah `Loop` dan `River North`.\n",
    "- Untuk perjalanan dari `Loop` ke bandara `O'Hare` yang terjadi hujan ditanggal `11 dan 18 November` dan juga para pelanggan sepertinya lebih banyak dari awal hingga ke pertengahan bulan.\n",
    "\n",
    "\n",
    "Dan untuk hipotesis yang diuji dapat disimpulkan bahwa:\n",
    "\n",
    "- Durasi rata-rata perjalanan dari Loop ke Bandara Internasional O'Hare **berubah** saat hujan di hari Sabtu."
   ]
  },
  {
   "cell_type": "code",
   "execution_count": null,
   "metadata": {},
   "outputs": [],
   "source": []
  }
 ],
 "metadata": {
  "kernelspec": {
   "display_name": "Python 3 (ipykernel)",
   "language": "python",
   "name": "python3"
  },
  "language_info": {
   "codemirror_mode": {
    "name": "ipython",
    "version": 3
   },
   "file_extension": ".py",
   "mimetype": "text/x-python",
   "name": "python",
   "nbconvert_exporter": "python",
   "pygments_lexer": "ipython3",
   "version": "3.9.5"
  },
  "toc": {
   "base_numbering": 1,
   "nav_menu": {},
   "number_sections": true,
   "sideBar": true,
   "skip_h1_title": true,
   "title_cell": "Table of Contents",
   "title_sidebar": "Contents",
   "toc_cell": false,
   "toc_position": {
    "height": "calc(100% - 180px)",
    "left": "10px",
    "top": "150px",
    "width": "368px"
   },
   "toc_section_display": true,
   "toc_window_display": true
  }
 },
 "nbformat": 4,
 "nbformat_minor": 2
}
