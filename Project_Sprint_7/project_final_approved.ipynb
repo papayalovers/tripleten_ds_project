{
 "cells": [
  {
   "cell_type": "markdown",
   "metadata": {},
   "source": [
    "<div style=\"border:solid black 2px; padding: 20px\">\n",
    "\n",
    "# Reviewer's feedback v.1\n",
    "\n",
    "**Halo Teguh**\n",
    "    \n",
    "**Greetings from Chamdani**\n",
    "\n",
    "Terima kasih telah mengirimkan project kamu dengan ini kamu sudah memulai sebuah langkah yang luar biasa saat ini. Disini saya akan mereview proyek kamu ya.\n",
    "\n",
    "Saya akan memberikan beberapa komentar dan feedback seperti dibawah ini, **mohon jangan dipindah, dirubah, maupun dihapus ya :).**\n",
    "    \n",
    "> Mohon diperhatikan bahwa apabila ada temuan atau kesalahan yang sama namun tidak ada komentar perbaikan disana, itu berarti kamu masih tetap harus memperbaikinya yaa.\n",
    "\n",
    "Komentar yang saya berikan akan muncul dalam warna hijau, kuning, atau pun merah seperti ini:\n",
    "\n",
    "</div>\n",
    "\n",
    "<div class=\"alert alert-success\">\n",
    "<b>Chamdani's comment v.*</b> <a class=\"tocSkip\"></a>\n",
    "\n",
    "Bagus, semua berjalan lancar.\n",
    "\n",
    "</div>\n",
    "\n",
    "<div class=\"alert alert-warning\">\n",
    "<b>Chamdani's comment v.*</b> <a class=\"tocSkip\"></a>\n",
    "\n",
    "Ada beberapa catatan.\n",
    "\n",
    "</div>\n",
    "\n",
    "<div class=\"alert alert-danger\">\n",
    "<b>Chamdani's comment v.*</b> <a class=\"tocSkip\"></a>\n",
    "\n",
    "Perlu beberapa perbaikan.\n",
    "\n",
    "</div>\n",
    "\n",
    "<div class=\"alert alert-info\">\n",
    "<b>Chamdani's info v.1</b> <a class=\"tocSkip\"></a>\n",
    "\n",
    "Catatan umum:\n",
    "* Fungsi `print` tidak diperlukan untuk mencetak suatu nilai\n",
    "* Lebih baik tulis kode pada bagian akhir cell code untuk menampilkan output tanpa `print`\n",
    "* Perintah soal yang ada dalam tanda kurung siku `[...]` sebaiknya dihilangkan\n",
    "* Sangat disarankan untuk menggunakan cell markdown untuk memberikan deskripsi temuan atau kesimpulan.\n",
    "* Tidak disarankan menggunakan cell code untuk memberikan penjelasan / deskripsi.\n",
    "* Untuk menghindari galat pada notebook project kamu. Batasi jumlah output yang dikeluarkan setiap kode dengan batas max 10 baris data.\n",
    "\n",
    "</div>\n",
    "\n",
    "<div style=\"border:solid gray 5px; padding: 20px\" class=\"alert alert-warning\">\n",
    "\n",
    "**INGATLAH** \n",
    "* Project kamu tidak akan bisa diterima bila kamu masih memiliki feedback berwarna merah. \n",
    "* Kamu hanya memiliki 3 kali kesempatan iterasi submission disetiap projectnya \n",
    "* Jika merasa kesulitan kamu dapat menuliskan responmu atas feedback saya menggunakan blok markdown warna biru dan kamu bisa mengirimkan project pada submission selanjutnya untuk mendapatkan jawaban / respon dari saya segera yaa\n",
    "\n",
    "Kamu dapat menjawab saya dengan menggunakan blok berwarna biru seperti ini\n",
    "\n",
    "<div class=\"alert alert-info\">\n",
    "<b>Student answer</b> <a class=\"tocSkip\"></a>\n",
    "\n",
    "Siap kak.\n",
    "\n",
    "</div>"
   ]
  },
  {
   "cell_type": "markdown",
   "metadata": {},
   "source": [
    "<div style=\"border:solid black 2px; padding: 20px\" class=\"alert alert-success\">\n",
    "    \n",
    "# General feedback v.1 *Project Accepted*\n",
    "\n",
    "Terima kasih banyak telah mengirimkan proyek Anda! \n",
    "<br>\n",
    "    \n",
    "Secara keseluruhan, proyek Anda **SANGAT** mengesankan. Semoga apa yang kamu pelajari dalam project ini dapat membantu meningkatkan kemampuanmu. Pertahankan apa yang sudah bagus, dan tingkatkan apa yang menurutmu masih perlu ditingkatkan. Semoga berhasil pada project selanjutnya yaa :)\n",
    "\n",
    "**TETAP SEMANGAT!!**\n",
    "    \n",
    "</div>"
   ]
  },
  {
   "cell_type": "markdown",
   "metadata": {},
   "source": [
    "# Pendahuluan"
   ]
  },
  {
   "cell_type": "markdown",
   "metadata": {},
   "source": [
    "Project ini dilakukan untuk membangun model yang bisa menganalisis perilaku konsumen dan merekomendasikan salah satu dari kedua paket terbaru Megaline: Smart atau Ultra.\n",
    "\n",
    "Target dari dataset yang kita miliki yaitu bertipe kategorik `1` dan `0`:\n",
    "\n",
    "**Target :**\n",
    "\n",
    "0 : Pengguna tidak berlangganan paket ultra\n",
    "\n",
    "1 : Pengguna telah berlangganan paket ultra\n",
    "\n",
    "\n",
    "Dari data yang dimiliki kita memiliki 4 atribut (features) dan 1 target, untuk itu kita akan membangun model dengan metode klasifikasi yaitu algoritma *Decision Tree*, *Random Forest*, *Logistic Regression*. Dari ketiga algoritma tersebut kita akan membandingkan algoritma mana yang menghasilkan performa yang terbaik."
   ]
  },
  {
   "cell_type": "markdown",
   "metadata": {},
   "source": [
    "## Informasi Atribut Data\n",
    "\n",
    "\n",
    "Setiap observasi dalam dataset yang kita miliki memuat informasi perilaku bulanan tentang satu pengguna. Informasi tersebut mencakup: "
   ]
  },
  {
   "cell_type": "markdown",
   "metadata": {},
   "source": [
    "| Atribut | Tipe Data | Deskripsi |\n",
    "| --- | --- | --- |\n",
    "| calls | Float | Jumlah total panggilan |\n",
    "| minutes | Float | Total durasi panggilan dalam satuan menit | \n",
    "| messages | Float | Jumlah total pesan teks |\n",
    "| mb_used | Float | Traffic penggunaan internet dalam satuan MB |\n",
    "| is_ultra | Integer | Apakah sedang menggunakan paket ultra ? (1: Ya, 0: Tidak) |"
   ]
  },
  {
   "cell_type": "markdown",
   "metadata": {},
   "source": [
    "<div class=\"alert alert-success\">\n",
    "<b>Chamdani's comment v.1</b> <a class=\"tocSkip\"></a>\n",
    "\n",
    "Hebat, Kerja bagus!\n",
    "\n",
    "</div>"
   ]
  },
  {
   "cell_type": "markdown",
   "metadata": {},
   "source": [
    "## Memahami Data"
   ]
  },
  {
   "cell_type": "markdown",
   "metadata": {},
   "source": [
    "### Mengimport Library"
   ]
  },
  {
   "cell_type": "code",
   "execution_count": 2,
   "metadata": {},
   "outputs": [],
   "source": [
    "# library yang dibutuhkan\n",
    "import pandas as pd\n",
    "import numpy as np\n",
    "\n",
    "from sklearn.model_selection import GridSearchCV\n",
    "from sklearn.model_selection import train_test_split\n",
    "# metriks\n",
    "from sklearn.metrics import accuracy_score, classification_report, confusion_matrix, precision_score, recall_score, f1_score\n",
    "# klasifikasi\n",
    "from sklearn.tree import DecisionTreeClassifier\n",
    "from sklearn.ensemble import RandomForestClassifier\n",
    "from sklearn.linear_model import LogisticRegression"
   ]
  },
  {
   "cell_type": "markdown",
   "metadata": {},
   "source": [
    "<div class=\"alert alert-success\">\n",
    "<b>Chamdani's comment v.1</b> <a class=\"tocSkip\"></a>\n",
    "\n",
    "Hebat, Kerja bagus!\n",
    "\n",
    "</div>"
   ]
  },
  {
   "cell_type": "markdown",
   "metadata": {},
   "source": [
    "### Memuat dan Pemahaman Data"
   ]
  },
  {
   "cell_type": "code",
   "execution_count": 3,
   "metadata": {},
   "outputs": [
    {
     "data": {
      "text/html": [
       "<div>\n",
       "<style scoped>\n",
       "    .dataframe tbody tr th:only-of-type {\n",
       "        vertical-align: middle;\n",
       "    }\n",
       "\n",
       "    .dataframe tbody tr th {\n",
       "        vertical-align: top;\n",
       "    }\n",
       "\n",
       "    .dataframe thead th {\n",
       "        text-align: right;\n",
       "    }\n",
       "</style>\n",
       "<table border=\"1\" class=\"dataframe\">\n",
       "  <thead>\n",
       "    <tr style=\"text-align: right;\">\n",
       "      <th></th>\n",
       "      <th>calls</th>\n",
       "      <th>minutes</th>\n",
       "      <th>messages</th>\n",
       "      <th>mb_used</th>\n",
       "      <th>is_ultra</th>\n",
       "    </tr>\n",
       "  </thead>\n",
       "  <tbody>\n",
       "    <tr>\n",
       "      <th>0</th>\n",
       "      <td>40.0</td>\n",
       "      <td>311.90</td>\n",
       "      <td>83.0</td>\n",
       "      <td>19915.42</td>\n",
       "      <td>0</td>\n",
       "    </tr>\n",
       "    <tr>\n",
       "      <th>1</th>\n",
       "      <td>85.0</td>\n",
       "      <td>516.75</td>\n",
       "      <td>56.0</td>\n",
       "      <td>22696.96</td>\n",
       "      <td>0</td>\n",
       "    </tr>\n",
       "    <tr>\n",
       "      <th>2</th>\n",
       "      <td>77.0</td>\n",
       "      <td>467.66</td>\n",
       "      <td>86.0</td>\n",
       "      <td>21060.45</td>\n",
       "      <td>0</td>\n",
       "    </tr>\n",
       "    <tr>\n",
       "      <th>3</th>\n",
       "      <td>106.0</td>\n",
       "      <td>745.53</td>\n",
       "      <td>81.0</td>\n",
       "      <td>8437.39</td>\n",
       "      <td>1</td>\n",
       "    </tr>\n",
       "    <tr>\n",
       "      <th>4</th>\n",
       "      <td>66.0</td>\n",
       "      <td>418.74</td>\n",
       "      <td>1.0</td>\n",
       "      <td>14502.75</td>\n",
       "      <td>0</td>\n",
       "    </tr>\n",
       "  </tbody>\n",
       "</table>\n",
       "</div>"
      ],
      "text/plain": [
       "   calls  minutes  messages   mb_used  is_ultra\n",
       "0   40.0   311.90      83.0  19915.42         0\n",
       "1   85.0   516.75      56.0  22696.96         0\n",
       "2   77.0   467.66      86.0  21060.45         0\n",
       "3  106.0   745.53      81.0   8437.39         1\n",
       "4   66.0   418.74       1.0  14502.75         0"
      ]
     },
     "execution_count": 3,
     "metadata": {},
     "output_type": "execute_result"
    }
   ],
   "source": [
    "# memuat dataset\n",
    "try:\n",
    "    df = pd.read_csv('/datasets/users_behavior.csv')\n",
    "except:\n",
    "    df = pd.read_csv('users_behavior.csv')\n",
    "# menampilkan data\n",
    "df.head()"
   ]
  },
  {
   "cell_type": "code",
   "execution_count": 4,
   "metadata": {},
   "outputs": [
    {
     "name": "stdout",
     "output_type": "stream",
     "text": [
      "<class 'pandas.core.frame.DataFrame'>\n",
      "RangeIndex: 3214 entries, 0 to 3213\n",
      "Data columns (total 5 columns):\n",
      " #   Column    Non-Null Count  Dtype  \n",
      "---  ------    --------------  -----  \n",
      " 0   calls     3214 non-null   float64\n",
      " 1   minutes   3214 non-null   float64\n",
      " 2   messages  3214 non-null   float64\n",
      " 3   mb_used   3214 non-null   float64\n",
      " 4   is_ultra  3214 non-null   int64  \n",
      "dtypes: float64(4), int64(1)\n",
      "memory usage: 125.7 KB\n"
     ]
    }
   ],
   "source": [
    "# informasi dataset\n",
    "df.info()"
   ]
  },
  {
   "cell_type": "code",
   "execution_count": 5,
   "metadata": {},
   "outputs": [
    {
     "data": {
      "text/html": [
       "<style type=\"text/css\">\n",
       "</style>\n",
       "<table id=\"T_bed4c\">\n",
       "  <caption>Deskripsi Pengguna Paket Ultra</caption>\n",
       "  <thead>\n",
       "    <tr>\n",
       "      <th class=\"blank level0\" >&nbsp;</th>\n",
       "      <th id=\"T_bed4c_level0_col0\" class=\"col_heading level0 col0\" >count</th>\n",
       "      <th id=\"T_bed4c_level0_col1\" class=\"col_heading level0 col1\" >mean</th>\n",
       "      <th id=\"T_bed4c_level0_col2\" class=\"col_heading level0 col2\" >std</th>\n",
       "      <th id=\"T_bed4c_level0_col3\" class=\"col_heading level0 col3\" >min</th>\n",
       "      <th id=\"T_bed4c_level0_col4\" class=\"col_heading level0 col4\" >25%</th>\n",
       "      <th id=\"T_bed4c_level0_col5\" class=\"col_heading level0 col5\" >50%</th>\n",
       "      <th id=\"T_bed4c_level0_col6\" class=\"col_heading level0 col6\" >75%</th>\n",
       "      <th id=\"T_bed4c_level0_col7\" class=\"col_heading level0 col7\" >max</th>\n",
       "    </tr>\n",
       "  </thead>\n",
       "  <tbody>\n",
       "    <tr>\n",
       "      <th id=\"T_bed4c_level0_row0\" class=\"row_heading level0 row0\" >calls</th>\n",
       "      <td id=\"T_bed4c_row0_col0\" class=\"data row0 col0\" >985.000000</td>\n",
       "      <td id=\"T_bed4c_row0_col1\" class=\"data row0 col1\" >73.392893</td>\n",
       "      <td id=\"T_bed4c_row0_col2\" class=\"data row0 col2\" >43.916853</td>\n",
       "      <td id=\"T_bed4c_row0_col3\" class=\"data row0 col3\" >0.000000</td>\n",
       "      <td id=\"T_bed4c_row0_col4\" class=\"data row0 col4\" >41.000000</td>\n",
       "      <td id=\"T_bed4c_row0_col5\" class=\"data row0 col5\" >74.000000</td>\n",
       "      <td id=\"T_bed4c_row0_col6\" class=\"data row0 col6\" >104.000000</td>\n",
       "      <td id=\"T_bed4c_row0_col7\" class=\"data row0 col7\" >244.000000</td>\n",
       "    </tr>\n",
       "    <tr>\n",
       "      <th id=\"T_bed4c_level0_row1\" class=\"row_heading level0 row1\" >minutes</th>\n",
       "      <td id=\"T_bed4c_row1_col0\" class=\"data row1 col0\" >985.000000</td>\n",
       "      <td id=\"T_bed4c_row1_col1\" class=\"data row1 col1\" >511.224569</td>\n",
       "      <td id=\"T_bed4c_row1_col2\" class=\"data row1 col2\" >308.031100</td>\n",
       "      <td id=\"T_bed4c_row1_col3\" class=\"data row1 col3\" >0.000000</td>\n",
       "      <td id=\"T_bed4c_row1_col4\" class=\"data row1 col4\" >276.030000</td>\n",
       "      <td id=\"T_bed4c_row1_col5\" class=\"data row1 col5\" >502.550000</td>\n",
       "      <td id=\"T_bed4c_row1_col6\" class=\"data row1 col6\" >730.050000</td>\n",
       "      <td id=\"T_bed4c_row1_col7\" class=\"data row1 col7\" >1632.060000</td>\n",
       "    </tr>\n",
       "    <tr>\n",
       "      <th id=\"T_bed4c_level0_row2\" class=\"row_heading level0 row2\" >messages</th>\n",
       "      <td id=\"T_bed4c_row2_col0\" class=\"data row2 col0\" >985.000000</td>\n",
       "      <td id=\"T_bed4c_row2_col1\" class=\"data row2 col1\" >49.363452</td>\n",
       "      <td id=\"T_bed4c_row2_col2\" class=\"data row2 col2\" >47.804457</td>\n",
       "      <td id=\"T_bed4c_row2_col3\" class=\"data row2 col3\" >0.000000</td>\n",
       "      <td id=\"T_bed4c_row2_col4\" class=\"data row2 col4\" >6.000000</td>\n",
       "      <td id=\"T_bed4c_row2_col5\" class=\"data row2 col5\" >38.000000</td>\n",
       "      <td id=\"T_bed4c_row2_col6\" class=\"data row2 col6\" >79.000000</td>\n",
       "      <td id=\"T_bed4c_row2_col7\" class=\"data row2 col7\" >224.000000</td>\n",
       "    </tr>\n",
       "    <tr>\n",
       "      <th id=\"T_bed4c_level0_row3\" class=\"row_heading level0 row3\" >mb_used</th>\n",
       "      <td id=\"T_bed4c_row3_col0\" class=\"data row3 col0\" >985.000000</td>\n",
       "      <td id=\"T_bed4c_row3_col1\" class=\"data row3 col1\" >19468.823228</td>\n",
       "      <td id=\"T_bed4c_row3_col2\" class=\"data row3 col2\" >10087.178654</td>\n",
       "      <td id=\"T_bed4c_row3_col3\" class=\"data row3 col3\" >0.000000</td>\n",
       "      <td id=\"T_bed4c_row3_col4\" class=\"data row3 col4\" >11770.280000</td>\n",
       "      <td id=\"T_bed4c_row3_col5\" class=\"data row3 col5\" >19308.010000</td>\n",
       "      <td id=\"T_bed4c_row3_col6\" class=\"data row3 col6\" >26837.720000</td>\n",
       "      <td id=\"T_bed4c_row3_col7\" class=\"data row3 col7\" >49745.730000</td>\n",
       "    </tr>\n",
       "    <tr>\n",
       "      <th id=\"T_bed4c_level0_row4\" class=\"row_heading level0 row4\" >is_ultra</th>\n",
       "      <td id=\"T_bed4c_row4_col0\" class=\"data row4 col0\" >985.000000</td>\n",
       "      <td id=\"T_bed4c_row4_col1\" class=\"data row4 col1\" >1.000000</td>\n",
       "      <td id=\"T_bed4c_row4_col2\" class=\"data row4 col2\" >0.000000</td>\n",
       "      <td id=\"T_bed4c_row4_col3\" class=\"data row4 col3\" >1.000000</td>\n",
       "      <td id=\"T_bed4c_row4_col4\" class=\"data row4 col4\" >1.000000</td>\n",
       "      <td id=\"T_bed4c_row4_col5\" class=\"data row4 col5\" >1.000000</td>\n",
       "      <td id=\"T_bed4c_row4_col6\" class=\"data row4 col6\" >1.000000</td>\n",
       "      <td id=\"T_bed4c_row4_col7\" class=\"data row4 col7\" >1.000000</td>\n",
       "    </tr>\n",
       "  </tbody>\n",
       "</table>\n"
      ],
      "text/plain": [
       "<pandas.io.formats.style.Styler at 0x110083f40>"
      ]
     },
     "metadata": {},
     "output_type": "display_data"
    },
    {
     "data": {
      "text/html": [
       "<style type=\"text/css\">\n",
       "</style>\n",
       "<table id=\"T_e7f89\">\n",
       "  <caption>Deskripsi Pengguna Paket Smart</caption>\n",
       "  <thead>\n",
       "    <tr>\n",
       "      <th class=\"blank level0\" >&nbsp;</th>\n",
       "      <th id=\"T_e7f89_level0_col0\" class=\"col_heading level0 col0\" >count</th>\n",
       "      <th id=\"T_e7f89_level0_col1\" class=\"col_heading level0 col1\" >mean</th>\n",
       "      <th id=\"T_e7f89_level0_col2\" class=\"col_heading level0 col2\" >std</th>\n",
       "      <th id=\"T_e7f89_level0_col3\" class=\"col_heading level0 col3\" >min</th>\n",
       "      <th id=\"T_e7f89_level0_col4\" class=\"col_heading level0 col4\" >25%</th>\n",
       "      <th id=\"T_e7f89_level0_col5\" class=\"col_heading level0 col5\" >50%</th>\n",
       "      <th id=\"T_e7f89_level0_col6\" class=\"col_heading level0 col6\" >75%</th>\n",
       "      <th id=\"T_e7f89_level0_col7\" class=\"col_heading level0 col7\" >max</th>\n",
       "    </tr>\n",
       "  </thead>\n",
       "  <tbody>\n",
       "    <tr>\n",
       "      <th id=\"T_e7f89_level0_row0\" class=\"row_heading level0 row0\" >calls</th>\n",
       "      <td id=\"T_e7f89_row0_col0\" class=\"data row0 col0\" >2229.000000</td>\n",
       "      <td id=\"T_e7f89_row0_col1\" class=\"data row0 col1\" >58.463437</td>\n",
       "      <td id=\"T_e7f89_row0_col2\" class=\"data row0 col2\" >25.939858</td>\n",
       "      <td id=\"T_e7f89_row0_col3\" class=\"data row0 col3\" >0.000000</td>\n",
       "      <td id=\"T_e7f89_row0_col4\" class=\"data row0 col4\" >40.000000</td>\n",
       "      <td id=\"T_e7f89_row0_col5\" class=\"data row0 col5\" >60.000000</td>\n",
       "      <td id=\"T_e7f89_row0_col6\" class=\"data row0 col6\" >76.000000</td>\n",
       "      <td id=\"T_e7f89_row0_col7\" class=\"data row0 col7\" >198.000000</td>\n",
       "    </tr>\n",
       "    <tr>\n",
       "      <th id=\"T_e7f89_level0_row1\" class=\"row_heading level0 row1\" >minutes</th>\n",
       "      <td id=\"T_e7f89_row1_col0\" class=\"data row1 col0\" >2229.000000</td>\n",
       "      <td id=\"T_e7f89_row1_col1\" class=\"data row1 col1\" >405.942952</td>\n",
       "      <td id=\"T_e7f89_row1_col2\" class=\"data row1 col2\" >184.512604</td>\n",
       "      <td id=\"T_e7f89_row1_col3\" class=\"data row1 col3\" >0.000000</td>\n",
       "      <td id=\"T_e7f89_row1_col4\" class=\"data row1 col4\" >274.230000</td>\n",
       "      <td id=\"T_e7f89_row1_col5\" class=\"data row1 col5\" >410.560000</td>\n",
       "      <td id=\"T_e7f89_row1_col6\" class=\"data row1 col6\" >529.510000</td>\n",
       "      <td id=\"T_e7f89_row1_col7\" class=\"data row1 col7\" >1390.220000</td>\n",
       "    </tr>\n",
       "    <tr>\n",
       "      <th id=\"T_e7f89_level0_row2\" class=\"row_heading level0 row2\" >messages</th>\n",
       "      <td id=\"T_e7f89_row2_col0\" class=\"data row2 col0\" >2229.000000</td>\n",
       "      <td id=\"T_e7f89_row2_col1\" class=\"data row2 col1\" >33.384029</td>\n",
       "      <td id=\"T_e7f89_row2_col2\" class=\"data row2 col2\" >28.227876</td>\n",
       "      <td id=\"T_e7f89_row2_col3\" class=\"data row2 col3\" >0.000000</td>\n",
       "      <td id=\"T_e7f89_row2_col4\" class=\"data row2 col4\" >10.000000</td>\n",
       "      <td id=\"T_e7f89_row2_col5\" class=\"data row2 col5\" >28.000000</td>\n",
       "      <td id=\"T_e7f89_row2_col6\" class=\"data row2 col6\" >51.000000</td>\n",
       "      <td id=\"T_e7f89_row2_col7\" class=\"data row2 col7\" >143.000000</td>\n",
       "    </tr>\n",
       "    <tr>\n",
       "      <th id=\"T_e7f89_level0_row3\" class=\"row_heading level0 row3\" >mb_used</th>\n",
       "      <td id=\"T_e7f89_row3_col0\" class=\"data row3 col0\" >2229.000000</td>\n",
       "      <td id=\"T_e7f89_row3_col1\" class=\"data row3 col1\" >16208.466949</td>\n",
       "      <td id=\"T_e7f89_row3_col2\" class=\"data row3 col2\" >5870.498853</td>\n",
       "      <td id=\"T_e7f89_row3_col3\" class=\"data row3 col3\" >0.000000</td>\n",
       "      <td id=\"T_e7f89_row3_col4\" class=\"data row3 col4\" >12643.050000</td>\n",
       "      <td id=\"T_e7f89_row3_col5\" class=\"data row3 col5\" >16506.930000</td>\n",
       "      <td id=\"T_e7f89_row3_col6\" class=\"data row3 col6\" >20043.060000</td>\n",
       "      <td id=\"T_e7f89_row3_col7\" class=\"data row3 col7\" >38552.620000</td>\n",
       "    </tr>\n",
       "    <tr>\n",
       "      <th id=\"T_e7f89_level0_row4\" class=\"row_heading level0 row4\" >is_ultra</th>\n",
       "      <td id=\"T_e7f89_row4_col0\" class=\"data row4 col0\" >2229.000000</td>\n",
       "      <td id=\"T_e7f89_row4_col1\" class=\"data row4 col1\" >0.000000</td>\n",
       "      <td id=\"T_e7f89_row4_col2\" class=\"data row4 col2\" >0.000000</td>\n",
       "      <td id=\"T_e7f89_row4_col3\" class=\"data row4 col3\" >0.000000</td>\n",
       "      <td id=\"T_e7f89_row4_col4\" class=\"data row4 col4\" >0.000000</td>\n",
       "      <td id=\"T_e7f89_row4_col5\" class=\"data row4 col5\" >0.000000</td>\n",
       "      <td id=\"T_e7f89_row4_col6\" class=\"data row4 col6\" >0.000000</td>\n",
       "      <td id=\"T_e7f89_row4_col7\" class=\"data row4 col7\" >0.000000</td>\n",
       "    </tr>\n",
       "  </tbody>\n",
       "</table>\n"
      ],
      "text/plain": [
       "<pandas.io.formats.style.Styler at 0x15bd04b80>"
      ]
     },
     "metadata": {},
     "output_type": "display_data"
    }
   ],
   "source": [
    "pd.set_option('display.max_colwidth', 0)\n",
    "# Melihat Deskripsi pengguna kedua paket\n",
    "display(df.query('is_ultra == 1').describe(include='all').transpose().style.set_caption('Deskripsi Pengguna Paket Ultra'),\n",
    "       df.query('is_ultra == 0').describe(include='all').transpose().style.set_caption('Deskripsi Pengguna Paket Smart'))"
   ]
  },
  {
   "cell_type": "code",
   "execution_count": 6,
   "metadata": {},
   "outputs": [
    {
     "data": {
      "text/html": [
       "<div>\n",
       "<style scoped>\n",
       "    .dataframe tbody tr th:only-of-type {\n",
       "        vertical-align: middle;\n",
       "    }\n",
       "\n",
       "    .dataframe tbody tr th {\n",
       "        vertical-align: top;\n",
       "    }\n",
       "\n",
       "    .dataframe thead th {\n",
       "        text-align: right;\n",
       "    }\n",
       "</style>\n",
       "<table border=\"1\" class=\"dataframe\">\n",
       "  <thead>\n",
       "    <tr style=\"text-align: right;\">\n",
       "      <th></th>\n",
       "      <th>column</th>\n",
       "      <th>number_of_unique</th>\n",
       "      <th>unique_item</th>\n",
       "    </tr>\n",
       "  </thead>\n",
       "  <tbody>\n",
       "    <tr>\n",
       "      <th>0</th>\n",
       "      <td>calls</td>\n",
       "      <td>184</td>\n",
       "      <td>[40.0, 85.0, 77.0, 106.0, 66.0, 58.0, 57.0, 15.0, 7.0, 90.0, 82.0, 45.0, 51.0, 56.0, 108.0, 6.0, 2.0, 26.0, 79.0, 49.0, 93.0, 48.0, 11.0, 53.0, 81.0, 154.0, 37.0, 50.0, 41.0, 10.0, 71.0, 65.0, 110.0, 120.0, 76.0, 64.0, 23.0, 34.0, 98.0, 35.0, 5.0, 70.0, 124.0, 129.0, 67.0, 0.0, 13.0, 68.0, 91.0, 121.0, 114.0, 125.0, 80.0, 33.0, 138.0, 84.0, 78.0, 69.0, 63.0, 72.0, 73.0, 1.0, 43.0, 118.0, 74.0, 83.0, 141.0, 117.0, 54.0, 101.0, 29.0, 3.0, 107.0, 55.0, 47.0, 158.0, 87.0, 28.0, 59.0, 52.0, 44.0, 17.0, 111.0, 109.0, 14.0, 92.0, 94.0, 46.0, 133.0, 75.0, 38.0, 60.0, 100.0, 31.0, 61.0, 89.0, 27.0, 196.0, 24.0, 99.0, ...]</td>\n",
       "    </tr>\n",
       "    <tr>\n",
       "      <th>1</th>\n",
       "      <td>minutes</td>\n",
       "      <td>3144</td>\n",
       "      <td>[311.8999999999999, 516.75, 467.6600000000001, 745.53, 418.74, 344.56, 431.6400000000001, 132.4, 43.39, 665.4100000000001, 560.5099999999998, 344.32, 437.1299999999999, 433.0699999999999, 587.9000000000001, 22.13, 18.73, 163.62000000000003, 532.62, 341.6699999999999, 691.37, 411.46, 351.6, 96.04999999999998, 360.3, 356.22, 624.71, 1078.64, 286.67999999999995, 358.01000000000005, 276.80999999999995, 77.09, 530.13, 482.35, 776.8499999999999, 814.8500000000004, 543.1799999999998, 422.6899999999999, 146.18, 519.48, 183.28, 85.31, 392.04, 323.98999999999995, 665.5599999999998, 235.58, 535.9099999999999, 327.45000000000005, 49.95, 474.9200000000001, 532.1000000000001, 842.3999999999999, 929.2300000000002, 421.27000000000015, 0.0, 106.03, 449.2900000000001, 585.09, 477.5399999999997, 356.3900000000001, 853.01, 823.5799999999999, 622.6600000000001, 814.5299999999999, 390.62000000000006, 677.18, 556.3600000000001, 238.7, 1009.11, 607.05, 546.1999999999998, 510.3400000000001, 477.5299999999999, 392.14, 427.6400000000001, 531.8000000000001, 633.2199999999998, 1.0, 562.27, 303.5100000000001, 843.2999999999997, 504.05, 593.5899999999999, 609.7000000000002, 397.14, 633.1100000000002, 1069.2099999999996, 326.3400000000001, 331.33, 525.6700000000001, 862.3399999999999, 416.22000000000014, 238.08, 527.63, 603.91, 666.9, 267.55000000000007, 538.8300000000002, 454.43, 434.59, ...]</td>\n",
       "    </tr>\n",
       "    <tr>\n",
       "      <th>2</th>\n",
       "      <td>messages</td>\n",
       "      <td>180</td>\n",
       "      <td>[83.0, 56.0, 86.0, 81.0, 1.0, 21.0, 20.0, 6.0, 3.0, 38.0, 13.0, 61.0, 16.0, 0.0, 4.0, 90.0, 31.0, 97.0, 66.0, 19.0, 30.0, 52.0, 48.0, 44.0, 27.0, 7.0, 9.0, 43.0, 33.0, 34.0, 10.0, 106.0, 65.0, 17.0, 11.0, 29.0, 75.0, 47.0, 49.0, 64.0, 144.0, 99.0, 46.0, 24.0, 22.0, 55.0, 8.0, 93.0, 153.0, 37.0, 69.0, 18.0, 78.0, 42.0, 82.0, 62.0, 40.0, 57.0, 60.0, 58.0, 123.0, 26.0, 51.0, 109.0, 5.0, 39.0, 35.0, 79.0, 12.0, 182.0, 36.0, 126.0, 59.0, 102.0, 14.0, 133.0, 110.0, 54.0, 72.0, 103.0, 23.0, 108.0, 92.0, 73.0, 15.0, 25.0, 91.0, 113.0, 105.0, 85.0, 191.0, 32.0, 50.0, 145.0, 41.0, 150.0, 53.0, 171.0, 176.0, 68.0, ...]</td>\n",
       "    </tr>\n",
       "    <tr>\n",
       "      <th>3</th>\n",
       "      <td>mb_used</td>\n",
       "      <td>3203</td>\n",
       "      <td>[19915.42, 22696.96, 21060.45, 8437.39, 14502.750000000002, 15823.370000000004, 3738.900000000001, 21911.6, 2538.67, 17358.61, 9619.530000000002, 19898.81, 21523.580000000005, 16702.360000000004, 14406.500000000002, 2710.09, 588.89, 16870.340000000004, 19908.31, 11770.28, 25950.28, 15393.909999999998, 16469.9, 2305.74, 13560.15, 22471.769999999982, 8644.660000000002, 29335.15, 19542.45, 9998.83, 19815.62, 643.15, 20698.51, 23064.58, 20790.93, 20427.000000000004, 31845.109999999997, 11460.29, 9711.45, 12750.820000000003, 18631.660000000003, 10764.82, 19122.13, 20922.050000000003, 19538.83, 20710.709999999995, 11968.22, 12049.91, 3370.69, 17858.589999999993, 12403.260000000002, 21544.339999999997, 22508.960000000003, 14865.739999999998, 14010.329999999998, 37328.45, 18171.2, 27339.85000000001, 19090.740000000005, 20456.97, 26605.939999999988, 30323.430000000004, 20894.560000000005, 16917.439999999995, 12991.390000000005, 16285.669999999998, 24049.459999999995, 9308.63, 27807.13, 24875.02999999999, 11457.440000000002, 21765.5, 21437.28999999998, 22525.18, 19541.17000000001, 11299.6, 18421.17, 22753.120000000006, 17589.079999999994, 15063.409999999996, 28992.12, 19154.16, 15192.37, 16715.680000000004, 8449.530000000002, 21561.54, 24091.360000000004, 29084.42, 8000.360000000001, 20939.11, 7929.83, 19871.44999999999, 8470.33, 21441.45999999999, 18962.499999999996, 16777.760000000002, 16996.829999999994, 13721.94, 19776.5, 9613.390000000005, ...]</td>\n",
       "    </tr>\n",
       "    <tr>\n",
       "      <th>4</th>\n",
       "      <td>is_ultra</td>\n",
       "      <td>2</td>\n",
       "      <td>[0, 1]</td>\n",
       "    </tr>\n",
       "  </tbody>\n",
       "</table>\n",
       "</div>"
      ],
      "text/plain": [
       "     column  number_of_unique  \\\n",
       "0  calls     184                \n",
       "1  minutes   3144               \n",
       "2  messages  180                \n",
       "3  mb_used   3203               \n",
       "4  is_ultra  2                  \n",
       "\n",
       "                                                                                                                                                                                                                                                                                                                                                                                                                                                                                                                                                                                                                                                                                                                                                                                                                                                                                                                                                                                                                                                                                                                                                                                                                                                                                                                                                                                                                                                                                                               unique_item  \n",
       "0  [40.0, 85.0, 77.0, 106.0, 66.0, 58.0, 57.0, 15.0, 7.0, 90.0, 82.0, 45.0, 51.0, 56.0, 108.0, 6.0, 2.0, 26.0, 79.0, 49.0, 93.0, 48.0, 11.0, 53.0, 81.0, 154.0, 37.0, 50.0, 41.0, 10.0, 71.0, 65.0, 110.0, 120.0, 76.0, 64.0, 23.0, 34.0, 98.0, 35.0, 5.0, 70.0, 124.0, 129.0, 67.0, 0.0, 13.0, 68.0, 91.0, 121.0, 114.0, 125.0, 80.0, 33.0, 138.0, 84.0, 78.0, 69.0, 63.0, 72.0, 73.0, 1.0, 43.0, 118.0, 74.0, 83.0, 141.0, 117.0, 54.0, 101.0, 29.0, 3.0, 107.0, 55.0, 47.0, 158.0, 87.0, 28.0, 59.0, 52.0, 44.0, 17.0, 111.0, 109.0, 14.0, 92.0, 94.0, 46.0, 133.0, 75.0, 38.0, 60.0, 100.0, 31.0, 61.0, 89.0, 27.0, 196.0, 24.0, 99.0, ...]                                                                                                                                                                                                                                                                                                                                                                                                                                                                                                                                                                                                                                                                                                                                                                                                                                                                             \n",
       "1  [311.8999999999999, 516.75, 467.6600000000001, 745.53, 418.74, 344.56, 431.6400000000001, 132.4, 43.39, 665.4100000000001, 560.5099999999998, 344.32, 437.1299999999999, 433.0699999999999, 587.9000000000001, 22.13, 18.73, 163.62000000000003, 532.62, 341.6699999999999, 691.37, 411.46, 351.6, 96.04999999999998, 360.3, 356.22, 624.71, 1078.64, 286.67999999999995, 358.01000000000005, 276.80999999999995, 77.09, 530.13, 482.35, 776.8499999999999, 814.8500000000004, 543.1799999999998, 422.6899999999999, 146.18, 519.48, 183.28, 85.31, 392.04, 323.98999999999995, 665.5599999999998, 235.58, 535.9099999999999, 327.45000000000005, 49.95, 474.9200000000001, 532.1000000000001, 842.3999999999999, 929.2300000000002, 421.27000000000015, 0.0, 106.03, 449.2900000000001, 585.09, 477.5399999999997, 356.3900000000001, 853.01, 823.5799999999999, 622.6600000000001, 814.5299999999999, 390.62000000000006, 677.18, 556.3600000000001, 238.7, 1009.11, 607.05, 546.1999999999998, 510.3400000000001, 477.5299999999999, 392.14, 427.6400000000001, 531.8000000000001, 633.2199999999998, 1.0, 562.27, 303.5100000000001, 843.2999999999997, 504.05, 593.5899999999999, 609.7000000000002, 397.14, 633.1100000000002, 1069.2099999999996, 326.3400000000001, 331.33, 525.6700000000001, 862.3399999999999, 416.22000000000014, 238.08, 527.63, 603.91, 666.9, 267.55000000000007, 538.8300000000002, 454.43, 434.59, ...]                                                                                 \n",
       "2  [83.0, 56.0, 86.0, 81.0, 1.0, 21.0, 20.0, 6.0, 3.0, 38.0, 13.0, 61.0, 16.0, 0.0, 4.0, 90.0, 31.0, 97.0, 66.0, 19.0, 30.0, 52.0, 48.0, 44.0, 27.0, 7.0, 9.0, 43.0, 33.0, 34.0, 10.0, 106.0, 65.0, 17.0, 11.0, 29.0, 75.0, 47.0, 49.0, 64.0, 144.0, 99.0, 46.0, 24.0, 22.0, 55.0, 8.0, 93.0, 153.0, 37.0, 69.0, 18.0, 78.0, 42.0, 82.0, 62.0, 40.0, 57.0, 60.0, 58.0, 123.0, 26.0, 51.0, 109.0, 5.0, 39.0, 35.0, 79.0, 12.0, 182.0, 36.0, 126.0, 59.0, 102.0, 14.0, 133.0, 110.0, 54.0, 72.0, 103.0, 23.0, 108.0, 92.0, 73.0, 15.0, 25.0, 91.0, 113.0, 105.0, 85.0, 191.0, 32.0, 50.0, 145.0, 41.0, 150.0, 53.0, 171.0, 176.0, 68.0, ...]                                                                                                                                                                                                                                                                                                                                                                                                                                                                                                                                                                                                                                                                                                                                                                                                                                                                                  \n",
       "3  [19915.42, 22696.96, 21060.45, 8437.39, 14502.750000000002, 15823.370000000004, 3738.900000000001, 21911.6, 2538.67, 17358.61, 9619.530000000002, 19898.81, 21523.580000000005, 16702.360000000004, 14406.500000000002, 2710.09, 588.89, 16870.340000000004, 19908.31, 11770.28, 25950.28, 15393.909999999998, 16469.9, 2305.74, 13560.15, 22471.769999999982, 8644.660000000002, 29335.15, 19542.45, 9998.83, 19815.62, 643.15, 20698.51, 23064.58, 20790.93, 20427.000000000004, 31845.109999999997, 11460.29, 9711.45, 12750.820000000003, 18631.660000000003, 10764.82, 19122.13, 20922.050000000003, 19538.83, 20710.709999999995, 11968.22, 12049.91, 3370.69, 17858.589999999993, 12403.260000000002, 21544.339999999997, 22508.960000000003, 14865.739999999998, 14010.329999999998, 37328.45, 18171.2, 27339.85000000001, 19090.740000000005, 20456.97, 26605.939999999988, 30323.430000000004, 20894.560000000005, 16917.439999999995, 12991.390000000005, 16285.669999999998, 24049.459999999995, 9308.63, 27807.13, 24875.02999999999, 11457.440000000002, 21765.5, 21437.28999999998, 22525.18, 19541.17000000001, 11299.6, 18421.17, 22753.120000000006, 17589.079999999994, 15063.409999999996, 28992.12, 19154.16, 15192.37, 16715.680000000004, 8449.530000000002, 21561.54, 24091.360000000004, 29084.42, 8000.360000000001, 20939.11, 7929.83, 19871.44999999999, 8470.33, 21441.45999999999, 18962.499999999996, 16777.760000000002, 16996.829999999994, 13721.94, 19776.5, 9613.390000000005, ...]  \n",
       "4  [0, 1]                                                                                                                                                                                                                                                                                                                                                                                                                                                                                                                                                                                                                                                                                                                                                                                                                                                                                                                                                                                                                                                                                                                                                                                                                                                                                                                                                                                                                                                                                                                   "
      ]
     },
     "execution_count": 6,
     "metadata": {},
     "output_type": "execute_result"
    }
   ],
   "source": [
    "# pengaturan ukuran tabel\n",
    "pd.set_option('display.max_colwidth', 0)\n",
    "\n",
    "# membuat tabel dengan unique value dan jumlahnya menggunakan loop\n",
    "list_item = []\n",
    "for col in df.columns:\n",
    "    list_item.append([col, df[col].nunique(), df[col].unique()])\n",
    "    \n",
    "unique_table = pd.DataFrame(data=list_item, columns=['column','number_of_unique','unique_item'])\n",
    "unique_table"
   ]
  },
  {
   "cell_type": "code",
   "execution_count": 7,
   "metadata": {},
   "outputs": [
    {
     "name": "stdout",
     "output_type": "stream",
     "text": [
      "Baris Data : 3214\n",
      "Kolom Data: 5\n"
     ]
    }
   ],
   "source": [
    "# melihat jumlah baris dan kolom\n",
    "print(f\"Baris Data : {df.shape[0]}\")\n",
    "print(f\"Kolom Data: {df.shape[1]}\")"
   ]
  },
  {
   "cell_type": "code",
   "execution_count": 8,
   "metadata": {},
   "outputs": [
    {
     "data": {
      "text/plain": [
       "0"
      ]
     },
     "execution_count": 8,
     "metadata": {},
     "output_type": "execute_result"
    }
   ],
   "source": [
    "# menghitung duplikat\n",
    "df.duplicated().sum()"
   ]
  },
  {
   "cell_type": "code",
   "execution_count": 9,
   "metadata": {},
   "outputs": [
    {
     "data": {
      "text/html": [
       "<div>\n",
       "<style scoped>\n",
       "    .dataframe tbody tr th:only-of-type {\n",
       "        vertical-align: middle;\n",
       "    }\n",
       "\n",
       "    .dataframe tbody tr th {\n",
       "        vertical-align: top;\n",
       "    }\n",
       "\n",
       "    .dataframe thead th {\n",
       "        text-align: right;\n",
       "    }\n",
       "</style>\n",
       "<table border=\"1\" class=\"dataframe\">\n",
       "  <thead>\n",
       "    <tr style=\"text-align: right;\">\n",
       "      <th></th>\n",
       "      <th>missing_count</th>\n",
       "      <th>percent_of_all</th>\n",
       "    </tr>\n",
       "  </thead>\n",
       "  <tbody>\n",
       "    <tr>\n",
       "      <th>calls</th>\n",
       "      <td>0</td>\n",
       "      <td>0.0%</td>\n",
       "    </tr>\n",
       "    <tr>\n",
       "      <th>minutes</th>\n",
       "      <td>0</td>\n",
       "      <td>0.0%</td>\n",
       "    </tr>\n",
       "    <tr>\n",
       "      <th>messages</th>\n",
       "      <td>0</td>\n",
       "      <td>0.0%</td>\n",
       "    </tr>\n",
       "    <tr>\n",
       "      <th>mb_used</th>\n",
       "      <td>0</td>\n",
       "      <td>0.0%</td>\n",
       "    </tr>\n",
       "    <tr>\n",
       "      <th>is_ultra</th>\n",
       "      <td>0</td>\n",
       "      <td>0.0%</td>\n",
       "    </tr>\n",
       "  </tbody>\n",
       "</table>\n",
       "</div>"
      ],
      "text/plain": [
       "          missing_count percent_of_all\n",
       "calls     0              0.0%         \n",
       "minutes   0              0.0%         \n",
       "messages  0              0.0%         \n",
       "mb_used   0              0.0%         \n",
       "is_ultra  0              0.0%         "
      ]
     },
     "execution_count": 9,
     "metadata": {},
     "output_type": "execute_result"
    }
   ],
   "source": [
    "# menghitung vissing value disetiap kolom\n",
    "missing_report = df.isna().sum().to_frame()\n",
    "missing_report.columns = ['missing_count']\n",
    "missing_report['percent_of_all'] = (missing_report.missing_count / len(df)).round(2).astype(str) + '%'\n",
    "missing_report"
   ]
  },
  {
   "cell_type": "markdown",
   "metadata": {},
   "source": [
    "**Kesimpulan**\n",
    "\n",
    "1. Kita memiliki `3124` baris data dan `5` kolom.\n",
    "2. Dari dataset kita dapat melihat bahwa pengguna paket ultra sebanyak `985` dan pengguna paket smart sebanyak `2229`.\n",
    "3. Dataset yang kita punya untuk features semuanya merupakan variabel kuantitatif, sedangkan untuk targetnya (`is_ultra`) merupakan variabel kategorik dimana bernilai `1` dan `0`. \n",
    "4. Kita tidak mempunyai variabel seperti `id` ataupun lainnya untuk melihat apakah terdapat duplikat eksplisit jadi untuk saat ini bisa dipastikan bahwa tabel kita tidak mempunyai duplikat sesuai dengan pemeriksaan diatas.\n",
    "5. Pada dataset juga tidak terdapat missing value.\n",
    "6. Beberapa kolom kita akan mengubah tipe datanya menjadi `integer` ataupun `boolean`, yaitu:\n",
    "    * `calls` - karena ini menghitung total jumlah panggilan pengguna jadi akan lebih baik jika tipe datanya `integer`.\n",
    "    * `messages` - kolom ini juga menghitung total pesan teks pengguna jadi akan lebih baik jika tipe datanya `integer`.\n",
    "    * `is_ultra` - kolom ini merupakana variabel kategorik yang bernilai `1` dan `0`."
   ]
  },
  {
   "cell_type": "markdown",
   "metadata": {},
   "source": [
    "<div class=\"alert alert-success\">\n",
    "<b>Chamdani's comment v.1</b> <a class=\"tocSkip\"></a>\n",
    "\n",
    "Hebat, Kerja bagus!\n",
    "\n",
    "</div>"
   ]
  },
  {
   "cell_type": "markdown",
   "metadata": {},
   "source": [
    "### Mengubah Tipe Data"
   ]
  },
  {
   "cell_type": "code",
   "execution_count": 10,
   "metadata": {},
   "outputs": [],
   "source": [
    "#mengubah tipe data pada kolom yang dibutuhkan\n",
    "columns = ['calls','messages','is_ultra']\n",
    "\n",
    "for col in columns:\n",
    "    if col != 'is_ultra':\n",
    "        df[col] = df[col].astype('int')\n",
    "    else:\n",
    "        df[col] = df[col].astype('bool')"
   ]
  },
  {
   "cell_type": "code",
   "execution_count": 11,
   "metadata": {},
   "outputs": [
    {
     "name": "stdout",
     "output_type": "stream",
     "text": [
      "<class 'pandas.core.frame.DataFrame'>\n",
      "RangeIndex: 3214 entries, 0 to 3213\n",
      "Data columns (total 5 columns):\n",
      " #   Column    Non-Null Count  Dtype  \n",
      "---  ------    --------------  -----  \n",
      " 0   calls     3214 non-null   int64  \n",
      " 1   minutes   3214 non-null   float64\n",
      " 2   messages  3214 non-null   int64  \n",
      " 3   mb_used   3214 non-null   float64\n",
      " 4   is_ultra  3214 non-null   bool   \n",
      "dtypes: bool(1), float64(2), int64(2)\n",
      "memory usage: 103.7 KB\n"
     ]
    }
   ],
   "source": [
    "df.info()"
   ]
  },
  {
   "cell_type": "markdown",
   "metadata": {},
   "source": [
    "<div class=\"alert alert-success\">\n",
    "<b>Chamdani's comment v.1</b> <a class=\"tocSkip\"></a>\n",
    "\n",
    "Hebat, Kerja bagus!\n",
    "\n",
    "</div>"
   ]
  },
  {
   "cell_type": "markdown",
   "metadata": {},
   "source": [
    "## Membagi Data Training, Data Validation, dan Data Testing"
   ]
  },
  {
   "cell_type": "markdown",
   "metadata": {},
   "source": [
    "Dalam membagi data yang kita punya, aturan untuk membagi data validation dan data testing yaitu mempunyai ukuran yang sama. Jadi kita akan membagi data dengan komposisi seperti ini:\n",
    "- Data Training - 60%\n",
    "- Data Validation - 20%\n",
    "- Data Testing - 20%"
   ]
  },
  {
   "cell_type": "code",
   "execution_count": 12,
   "metadata": {},
   "outputs": [],
   "source": [
    "# Data Training dengan komposisi 60%\n",
    "df_train, df_validation = train_test_split(df, train_size= .60, random_state=45)"
   ]
  },
  {
   "cell_type": "code",
   "execution_count": 13,
   "metadata": {},
   "outputs": [],
   "source": [
    "# Data Validation komposisi 20% dan Data Testing 20%\n",
    "df_valid, df_test = train_test_split(df_validation, test_size= .50, random_state=45)"
   ]
  },
  {
   "cell_type": "code",
   "execution_count": 14,
   "metadata": {},
   "outputs": [
    {
     "name": "stdout",
     "output_type": "stream",
     "text": [
      "Komposisi Data Training : 60%\n"
     ]
    }
   ],
   "source": [
    "train_comp = len(df_train) / len(df)\n",
    "print(f\"Komposisi Data Training : {train_comp:.0%}\")"
   ]
  },
  {
   "cell_type": "code",
   "execution_count": 15,
   "metadata": {},
   "outputs": [
    {
     "name": "stdout",
     "output_type": "stream",
     "text": [
      "Komposisi Data Validation : 20%\n"
     ]
    }
   ],
   "source": [
    "valid_comp = len(df_valid) / len(df)\n",
    "print(f\"Komposisi Data Validation : {valid_comp:.0%}\")"
   ]
  },
  {
   "cell_type": "code",
   "execution_count": 16,
   "metadata": {},
   "outputs": [
    {
     "name": "stdout",
     "output_type": "stream",
     "text": [
      "Komposisi Data Testing : 20%\n"
     ]
    }
   ],
   "source": [
    "test_comp = len(df_test) / len(df)\n",
    "print(f\"Komposisi Data Testing : {test_comp:.0%}\")"
   ]
  },
  {
   "cell_type": "markdown",
   "metadata": {},
   "source": [
    "<div class=\"alert alert-success\">\n",
    "<b>Chamdani's comment v.1</b> <a class=\"tocSkip\"></a>\n",
    "\n",
    "Hebat, Kerja bagus!\n",
    "\n",
    "</div>"
   ]
  },
  {
   "cell_type": "markdown",
   "metadata": {},
   "source": [
    "## Membagi Data Features dan Target"
   ]
  },
  {
   "cell_type": "markdown",
   "metadata": {},
   "source": [
    "Setelah kita memahami dataset kita. Kita akan membagi dataset tersebut menjadi 2 bagian:\n",
    "- **features** - data yang merupakan representasi struktural dari data yang digunakan untuk melatih model mesin, melakukan prediksi, atau melakukan tugas analisis data.\n",
    "- **target** - merupakan komponen yang menyimpan informasi atau label yang ingin diprediksi atau dimodelkan oleh algoritma machine learning."
   ]
  },
  {
   "cell_type": "markdown",
   "metadata": {},
   "source": [
    "**Data Features**"
   ]
  },
  {
   "cell_type": "code",
   "execution_count": 17,
   "metadata": {},
   "outputs": [],
   "source": [
    "# fitur untuk data training\n",
    "features_train = df_train.drop(['is_ultra'], axis=1)\n",
    "# fitur untuk data validation\n",
    "features_valid = df_valid.drop(['is_ultra'], axis=1)\n",
    "# fitur untuk data testing\n",
    "features_test = df_test.drop(['is_ultra'], axis=1)"
   ]
  },
  {
   "cell_type": "markdown",
   "metadata": {},
   "source": [
    "**Data Target**"
   ]
  },
  {
   "cell_type": "code",
   "execution_count": 18,
   "metadata": {},
   "outputs": [],
   "source": [
    "# target untuk data_train\n",
    "target_train = df_train.is_ultra\n",
    "# target untuk data validation\n",
    "target_valid = df_valid.is_ultra\n",
    "# target untuk data testing\n",
    "target_test = df_test.is_ultra"
   ]
  },
  {
   "cell_type": "markdown",
   "metadata": {},
   "source": [
    "<div class=\"alert alert-success\">\n",
    "<b>Chamdani's comment v.1</b> <a class=\"tocSkip\"></a>\n",
    "\n",
    "Hebat, Kerja bagus!\n",
    "\n",
    "</div>"
   ]
  },
  {
   "cell_type": "markdown",
   "metadata": {},
   "source": [
    "## Melatih Model "
   ]
  },
  {
   "cell_type": "markdown",
   "metadata": {},
   "source": [
    "### Algoritma Decision Tree"
   ]
  },
  {
   "cell_type": "code",
   "execution_count": 19,
   "metadata": {},
   "outputs": [
    {
     "name": "stdout",
     "output_type": "stream",
     "text": [
      "Akurasi Data Training: 1.0\n",
      "Akurasi Data Valid: 0.7231726283048211\n"
     ]
    }
   ],
   "source": [
    "DTClass = DecisionTreeClassifier(random_state = 45)\n",
    "DTClass.fit(features_train, target_train)\n",
    "\n",
    "pred_train = DTClass.predict(features_train)\n",
    "accuracy_train = accuracy_score(target_train, pred_train)\n",
    "print(f\"Akurasi Data Training: {accuracy_train}\")\n",
    "#\n",
    "pred_valid = DTClass.predict(features_valid)\n",
    "accuracy_valid = accuracy_score(target_valid, pred_valid)\n",
    "print(f\"Akurasi Data Valid: {accuracy_valid}\")"
   ]
  },
  {
   "cell_type": "markdown",
   "metadata": {},
   "source": [
    "Model kita sepertinya masih overfitting, dimana akurasi pada data validationnya hanya mencapai 73%. Sedangkan akurasi minimalnya yaitu 75%, untuk itu kita akan melakukan tuning hyper-parameter guna meningkatkan akurasi dari model kita."
   ]
  },
  {
   "cell_type": "code",
   "execution_count": 20,
   "metadata": {},
   "outputs": [],
   "source": [
    "# variabel untuk menyimpan nilai depth, sample_leaf, dan accuracy terbaik\n",
    "best_depth = 0\n",
    "best_min_samples_leaf = 0\n",
    "best_accuracy = 0"
   ]
  },
  {
   "cell_type": "code",
   "execution_count": 21,
   "metadata": {},
   "outputs": [],
   "source": [
    "# looping untuk mencari kedalaman dengan akurasi terbaik dari rentang 1:20\n",
    "for depth in range(1, 20):\n",
    "    DTClass = DecisionTreeClassifier(random_state = 45, max_depth = depth)\n",
    "    DTClass.fit(features_train, target_train)\n",
    "    #\n",
    "    score = DTClass.score(features_valid, target_valid)\n",
    "    if score > best_accuracy:\n",
    "        best_accuracy = score\n",
    "        best_depth = depth\n",
    "#     print(f\"Max Depth : {depth} Accuracy: {score}\")"
   ]
  },
  {
   "cell_type": "code",
   "execution_count": 22,
   "metadata": {},
   "outputs": [
    {
     "name": "stdout",
     "output_type": "stream",
     "text": [
      "Max Depth : 10\n",
      "Accuracy: 0.8009331259720062\n"
     ]
    }
   ],
   "source": [
    "print(f\"Max Depth : {best_depth}\\nAccuracy: {best_accuracy}\")"
   ]
  },
  {
   "cell_type": "code",
   "execution_count": 23,
   "metadata": {},
   "outputs": [],
   "source": [
    "#looping untuk mencari nilai min_samples_leaf\n",
    "for leaf in range(1, 20):\n",
    "    DTClass = DecisionTreeClassifier(random_state = 45, max_depth = best_depth, min_samples_leaf = leaf)\n",
    "    DTClass.fit(features_train, target_train)\n",
    "    score = DTClass.score(features_valid, target_valid)\n",
    "    if score >= best_accuracy:\n",
    "        best_accuracy = score\n",
    "        best_min_samples_leaf = leaf"
   ]
  },
  {
   "cell_type": "code",
   "execution_count": 24,
   "metadata": {},
   "outputs": [
    {
     "name": "stdout",
     "output_type": "stream",
     "text": [
      "Min Sample Leaf : 1\n",
      "Max_depth: 10\n",
      "Accuracy: 0.8009331259720062\n"
     ]
    }
   ],
   "source": [
    "print(f\"Min Sample Leaf : {best_min_samples_leaf}\\nMax_depth: {best_depth}\\nAccuracy: {best_accuracy}\")"
   ]
  },
  {
   "cell_type": "markdown",
   "metadata": {},
   "source": [
    "Sepertinya data validation sudah mencapai akurasi terbaiknya yang bernilai 80% dan dapat dilihat dari sini bahwa dengan mengatur hyper-parameter min_samples_leaf dari 1 s/d 20, nilai terbaiknya yaitu dengan min_samples_leaf 1 dan hyper-parameter ini nilai defaultnya juga 1. maka kita lanjut untuk sanity check pada data test kita menggunakan hyper parameter dengan max_depth = 10"
   ]
  },
  {
   "cell_type": "markdown",
   "metadata": {},
   "source": [
    "<div class=\"alert alert-success\">\n",
    "<b>Chamdani's comment v.1</b> <a class=\"tocSkip\"></a>\n",
    "\n",
    "Hebat, Kerja bagus!\n",
    "\n",
    "</div>"
   ]
  },
  {
   "cell_type": "code",
   "execution_count": 25,
   "metadata": {},
   "outputs": [
    {
     "name": "stdout",
     "output_type": "stream",
     "text": [
      "Akurasi Data Validation: 0.8009331259720062\n",
      "Akurasi Data Testing: 0.7869362363919129\n"
     ]
    }
   ],
   "source": [
    "# menguji data testing dengan hyper-parameter terbaik\n",
    "DTClass = DecisionTreeClassifier(random_state = 45, max_depth = best_depth)\n",
    "DTClass.fit(features_train, target_train)\n",
    "\n",
    "# data validation\n",
    "pred_valid = DTClass.predict(features_valid)\n",
    "accuracy_valid = accuracy_score(target_valid, pred_valid)\n",
    "print(f\"Akurasi Data Validation: {accuracy_valid}\")\n",
    "# data testing\n",
    "pred_test = DTClass.predict(features_test)\n",
    "accuracy_test = accuracy_score(target_test, pred_test)\n",
    "print(f\"Akurasi Data Testing: {accuracy_test}\")"
   ]
  },
  {
   "cell_type": "code",
   "execution_count": 26,
   "metadata": {},
   "outputs": [
    {
     "data": {
      "text/plain": [
       "0.7191780821917808"
      ]
     },
     "execution_count": 26,
     "metadata": {},
     "output_type": "execute_result"
    }
   ],
   "source": [
    "# nilai precision\n",
    "precision = precision_score(target_test, pred_test)\n",
    "precision"
   ]
  },
  {
   "cell_type": "code",
   "execution_count": 27,
   "metadata": {},
   "outputs": [
    {
     "data": {
      "text/plain": [
       "0.5223880597014925"
      ]
     },
     "execution_count": 27,
     "metadata": {},
     "output_type": "execute_result"
    }
   ],
   "source": [
    "# nilai recall\n",
    "recall = recall_score(target_test, pred_test)\n",
    "recall"
   ]
  },
  {
   "cell_type": "markdown",
   "metadata": {},
   "source": [
    "**Kesimpulan** \n",
    "\n",
    "Dengan algoritma Decision Tree dan dengan mengatur hyper-parameter `max_depth` menjadi 10, kita mendapatkan akurasi data validation sekitar 0.80. Dan saat diuji kedata testing kita mendapatkan hasil berikut:\n",
    "\n",
    "| Akurasi | Precision | Recall |\n",
    "| --- | --- | --- |\n",
    "| 0.78 | 0.71 | 0.52 |"
   ]
  },
  {
   "cell_type": "markdown",
   "metadata": {},
   "source": [
    "<div class=\"alert alert-success\">\n",
    "<b>Chamdani's comment v.1</b> <a class=\"tocSkip\"></a>\n",
    "\n",
    "Hebat, Kerja bagus!\n",
    "\n",
    "</div>"
   ]
  },
  {
   "cell_type": "markdown",
   "metadata": {},
   "source": [
    "### Algoritma Random Forest"
   ]
  },
  {
   "cell_type": "code",
   "execution_count": 28,
   "metadata": {},
   "outputs": [
    {
     "name": "stdout",
     "output_type": "stream",
     "text": [
      "Akurasi Data Training: 1.0\n",
      "Akurasi Data Validation: 0.7869362363919129\n"
     ]
    }
   ],
   "source": [
    "# melatih model tanpa tanpa merubah parameter `n_estimators`\n",
    "RFClass = RandomForestClassifier(random_state = 45)\n",
    "RFClass.fit(features_train, target_train) # pelatihan model\n",
    "\n",
    "pred_train = RFClass.predict(features_train)\n",
    "accuracy_train = accuracy_score(target_train, pred_train)\n",
    "print(f\"Akurasi Data Training: {accuracy_train}\")\n",
    "#\n",
    "pred_valid = RFClass.predict(features_valid)\n",
    "accuracy_valid = accuracy_score(target_valid, pred_valid)\n",
    "print(f\"Akurasi Data Validation: {accuracy_valid}\")"
   ]
  },
  {
   "cell_type": "code",
   "execution_count": 29,
   "metadata": {},
   "outputs": [],
   "source": [
    "best_score = 0\n",
    "best_est = 0"
   ]
  },
  {
   "cell_type": "code",
   "execution_count": 30,
   "metadata": {},
   "outputs": [],
   "source": [
    "# mencari akurasi terbaik dgn mencari n_estimators\n",
    "for est in range(1, 22):\n",
    "    RFClass = RandomForestClassifier(random_state = 45, n_estimators = est)\n",
    "    RFClass.fit(features_train, target_train)\n",
    "    pred_valid = RFClass.predict(features_valid)\n",
    "    accuracy_valid = accuracy_score(target_valid, pred_valid)\n",
    "    if accuracy_valid > best_score:\n",
    "        best_score = accuracy_valid # simpan skor accuracy terbaik pada validation set\n",
    "        best_est = est"
   ]
  },
  {
   "cell_type": "code",
   "execution_count": 31,
   "metadata": {},
   "outputs": [
    {
     "name": "stdout",
     "output_type": "stream",
     "text": [
      "best akurasi : 0.8040435458786936, best_est: 20\n"
     ]
    }
   ],
   "source": [
    "print(f\"best akurasi : {best_score}, best_est: {best_est}\")"
   ]
  },
  {
   "cell_type": "code",
   "execution_count": 32,
   "metadata": {},
   "outputs": [
    {
     "name": "stdout",
     "output_type": "stream",
     "text": [
      "bootstrap = False : 0.7511664074650077\n"
     ]
    }
   ],
   "source": [
    "# mencoba mengatur hyper-parameter bootstrap = False\n",
    "RFClass = RandomForestClassifier(random_state = 45, n_estimators = best_est, bootstrap = False)\n",
    "RFClass.fit(features_train, target_train)\n",
    "pred_valid = RFClass.predict(features_valid)\n",
    "accuracy_valid = accuracy_score(target_valid, pred_valid)\n",
    "print(f\"bootstrap = False : {accuracy_valid}\")"
   ]
  },
  {
   "cell_type": "markdown",
   "metadata": {},
   "source": [
    "Akurasi yang didapatkan dapat meningkat 2% dengan mengatur hyper-parameter `n_estimators` menjadi 20 dan tidak ada hasil yang lebih baik dari pada itu, jadi kita akan mengatur hyper-parameter hanya untuk `n_estimators` = 20 untuk menguji data testing."
   ]
  },
  {
   "cell_type": "markdown",
   "metadata": {},
   "source": [
    "<div class=\"alert alert-success\">\n",
    "<b>Chamdani's comment v.1</b> <a class=\"tocSkip\"></a>\n",
    "\n",
    "Hebat, Kerja bagus!\n",
    "\n",
    "</div>"
   ]
  },
  {
   "cell_type": "code",
   "execution_count": 33,
   "metadata": {},
   "outputs": [],
   "source": [
    "# menguji data testing\n",
    "RFClassClass = RandomForestClassifier(random_state = 45, n_estimators = 20)\n",
    "RFClass.fit(features_train, target_train)\n",
    "pred_test = RFClass.predict(features_test)\n",
    "accuracy_test = accuracy_score(target_test, pred_test)"
   ]
  },
  {
   "cell_type": "code",
   "execution_count": 34,
   "metadata": {},
   "outputs": [
    {
     "name": "stdout",
     "output_type": "stream",
     "text": [
      "Akurasi Data Testing: 0.7931570762052877\n"
     ]
    }
   ],
   "source": [
    "print(f\"Akurasi Data Testing: {accuracy_test}\")"
   ]
  },
  {
   "cell_type": "code",
   "execution_count": 35,
   "metadata": {},
   "outputs": [
    {
     "data": {
      "text/plain": [
       "0.6954022988505747"
      ]
     },
     "execution_count": 35,
     "metadata": {},
     "output_type": "execute_result"
    }
   ],
   "source": [
    "# nilai precision\n",
    "precision = precision_score(target_test, pred_test)\n",
    "precision"
   ]
  },
  {
   "cell_type": "code",
   "execution_count": 36,
   "metadata": {},
   "outputs": [
    {
     "data": {
      "text/plain": [
       "0.6019900497512438"
      ]
     },
     "execution_count": 36,
     "metadata": {},
     "output_type": "execute_result"
    }
   ],
   "source": [
    "# nilai recall\n",
    "recall = recall_score(target_test, pred_test)\n",
    "recall"
   ]
  },
  {
   "cell_type": "markdown",
   "metadata": {},
   "source": [
    "**Kesimpulan**\n",
    "\n",
    "Dengan menggunakan algoritma random forest dan mengatur hyper-parameter `n_estimators` menjadi 20, kita mendapatkan akurasi tertinggi untuk data validation yaitu 80%, dan metriks untuk data testing yaitu:\n",
    "\n",
    "| Akurasi | Precision | Recall |\n",
    "| --- | --- | --- |\n",
    "| 0.79 | 0.69 | 0.60 |"
   ]
  },
  {
   "cell_type": "markdown",
   "metadata": {},
   "source": [
    "<div class=\"alert alert-success\">\n",
    "<b>Chamdani's comment v.1</b> <a class=\"tocSkip\"></a>\n",
    "\n",
    "Hebat, Kerja bagus!\n",
    "\n",
    "</div>"
   ]
  },
  {
   "cell_type": "markdown",
   "metadata": {},
   "source": [
    "### Algoritma Regresi Logistik"
   ]
  },
  {
   "cell_type": "code",
   "execution_count": 37,
   "metadata": {},
   "outputs": [
    {
     "name": "stdout",
     "output_type": "stream",
     "text": [
      "Akurasi Data Training: 0.7090248962655602\n",
      "Akurasi Data Validation: 0.6702954898911353\n"
     ]
    }
   ],
   "source": [
    "logreg = LogisticRegression(random_state = 45, solver='liblinear')\n",
    "logreg.fit(features_train, target_train)\n",
    "\n",
    "pred_train = logreg.predict(features_train)\n",
    "accuracy_train = accuracy_score(target_train, pred_train)\n",
    "print(f\"Akurasi Data Training: {accuracy_train}\")\n",
    "#\n",
    "pred_valid = logreg.predict(features_valid)\n",
    "accuracy_valid = accuracy_score(target_valid, pred_valid)\n",
    "print(f\"Akurasi Data Validation: {accuracy_valid}\")"
   ]
  },
  {
   "cell_type": "code",
   "execution_count": 38,
   "metadata": {},
   "outputs": [],
   "source": [
    "param_grid = {\n",
    "    'C': [0.001, 0.01, 0.1, 1, 10, 10.5, 100],\n",
    "    'penalty': ['l1', 'l2'],\n",
    "    'max_iter' : [101, 126, 152, 182, 216, 241, 256]\n",
    "}\n",
    "\n",
    "grid_search = GridSearchCV(LogisticRegression(random_state=45, solver='liblinear'), param_grid, cv=10)\n",
    "grid_search.fit(features_train, target_train)\n",
    "\n",
    "best_params = grid_search.best_params_\n",
    "best_model = grid_search.best_estimator_"
   ]
  },
  {
   "cell_type": "code",
   "execution_count": 40,
   "metadata": {},
   "outputs": [
    {
     "data": {
      "text/plain": [
       "0.7247278382581649"
      ]
     },
     "execution_count": 40,
     "metadata": {},
     "output_type": "execute_result"
    }
   ],
   "source": [
    "best_model.fit(features_train, target_train)\n",
    "\n",
    "test_valid = best_model.predict(features_valid)\n",
    "accuracy_valid = accuracy_score(target_valid, test_valid)\n",
    "accuracy_valid"
   ]
  },
  {
   "cell_type": "markdown",
   "metadata": {},
   "source": [
    "<div class=\"alert alert-success\">\n",
    "<b>Chamdani's comment v.1</b> <a class=\"tocSkip\"></a>\n",
    "\n",
    "Hebat, Kerja bagus!\n",
    "\n",
    "</div>"
   ]
  },
  {
   "cell_type": "code",
   "execution_count": 39,
   "metadata": {},
   "outputs": [
    {
     "name": "stdout",
     "output_type": "stream",
     "text": [
      "Akurasi Data Training: 0.7588174273858921\n",
      "Akurasi Data Validation: 0.7247278382581649\n"
     ]
    }
   ],
   "source": [
    "logreg = LogisticRegression(C=10, max_iter=101, penalty='l1', random_state= 45, solver='liblinear')\n",
    "logreg.fit(features_train, target_train)\n",
    "\n",
    "pred_train = logreg.predict(features_train)\n",
    "accuracy_train = accuracy_score(target_train, pred_train)\n",
    "print(f\"Akurasi Data Training: {accuracy_train}\")\n",
    "#\n",
    "pred_valid = logreg.predict(features_valid)\n",
    "accuracy_valid = accuracy_score(target_valid, pred_valid)\n",
    "print(f\"Akurasi Data Validation: {accuracy_valid}\")"
   ]
  },
  {
   "cell_type": "code",
   "execution_count": 40,
   "metadata": {},
   "outputs": [
    {
     "name": "stdout",
     "output_type": "stream",
     "text": [
      "Akurasi Data Testing: 0.7418351477449455\n"
     ]
    }
   ],
   "source": [
    "# melihat akurasi pada data testing\n",
    "pred_test = logreg.predict(features_test)\n",
    "accuracy_test = accuracy_score(target_test, pred_test)\n",
    "print(f\"Akurasi Data Testing: {accuracy_test}\")"
   ]
  },
  {
   "cell_type": "code",
   "execution_count": 41,
   "metadata": {},
   "outputs": [
    {
     "data": {
      "text/plain": [
       "0.7536231884057971"
      ]
     },
     "execution_count": 41,
     "metadata": {},
     "output_type": "execute_result"
    }
   ],
   "source": [
    "# nilai precision\n",
    "precision = precision_score(target_test, pred_test)\n",
    "precision"
   ]
  },
  {
   "cell_type": "code",
   "execution_count": 42,
   "metadata": {},
   "outputs": [
    {
     "data": {
      "text/plain": [
       "0.25870646766169153"
      ]
     },
     "execution_count": 42,
     "metadata": {},
     "output_type": "execute_result"
    }
   ],
   "source": [
    "# nilai recall\n",
    "recall = recall_score(target_test, pred_test)\n",
    "recall"
   ]
  },
  {
   "cell_type": "markdown",
   "metadata": {},
   "source": [
    "**Kesimpulan**\n",
    "\n",
    "Dengan algoritma Regresi Logistik dengan parameter `C=1, max_iter=101, penalty='l1', random_state=45, solver='liblinear'` didapatkan hasil akurasi yang maksimal, namun pada data yang kita miliki angka akurasi dari algoritma ini tidak mencapai angka 75%, hasil untuk data testingnya seperti berikut ini:\n",
    "\n",
    "| Akurasi | Precision | Recall |\n",
    "| --- | --- | --- |\n",
    "| 0.74 | 0.75 | 0.25 |"
   ]
  },
  {
   "cell_type": "markdown",
   "metadata": {},
   "source": [
    "<div class=\"alert alert-success\">\n",
    "<b>Chamdani's comment v.1</b> <a class=\"tocSkip\"></a>\n",
    "\n",
    "Hebat, Kerja bagus!\n",
    "\n",
    "</div>"
   ]
  },
  {
   "cell_type": "markdown",
   "metadata": {},
   "source": [
    "## Kesimpulan Umum"
   ]
  },
  {
   "cell_type": "markdown",
   "metadata": {},
   "source": [
    "Dari peneletian ini dengan melakukan perbandingan menggunakan tiga(3) algoritma, *Decision Tree*, *Random Forest* , *Logistic Regression* hasil akurasi tertinggi yaitu dengan menggunakan algoritma *Random Forest* dengan nilai akurasi 79%, kemudian algoritma *Decision Tree* dengan akurasi 78% dan algoritma *Logistic Regression* yang akurasinya paling rendah yaitu 74%."
   ]
  },
  {
   "cell_type": "markdown",
   "metadata": {},
   "source": [
    "<div class=\"alert alert-success\">\n",
    "<b>Chamdani's comment v.1</b> <a class=\"tocSkip\"></a>\n",
    "\n",
    "Hebat, Kerja bagus!\n",
    "\n",
    "</div>"
   ]
  },
  {
   "cell_type": "code",
   "execution_count": null,
   "metadata": {},
   "outputs": [],
   "source": []
  }
 ],
 "metadata": {
  "kernelspec": {
   "display_name": "Python 3 (ipykernel)",
   "language": "python",
   "name": "python3"
  },
  "language_info": {
   "codemirror_mode": {
    "name": "ipython",
    "version": 3
   },
   "file_extension": ".py",
   "mimetype": "text/x-python",
   "name": "python",
   "nbconvert_exporter": "python",
   "pygments_lexer": "ipython3",
   "version": "3.11.5"
  },
  "toc": {
   "base_numbering": 1,
   "nav_menu": {},
   "number_sections": true,
   "sideBar": true,
   "skip_h1_title": true,
   "title_cell": "Table of Contents",
   "title_sidebar": "Contents",
   "toc_cell": false,
   "toc_position": {
    "height": "calc(100% - 180px)",
    "left": "10px",
    "top": "150px",
    "width": "303.993px"
   },
   "toc_section_display": true,
   "toc_window_display": false
  }
 },
 "nbformat": 4,
 "nbformat_minor": 4
}
