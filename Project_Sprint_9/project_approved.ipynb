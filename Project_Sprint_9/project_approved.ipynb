{
 "cells": [
  {
   "cell_type": "markdown",
   "metadata": {},
   "source": [
    "<div style=\"border:solid black 2px; padding: 20px\">\n",
    "\n",
    "# Reviewer's feedback v.1\n",
    "\n",
    "**Halo Teguh**\n",
    "    \n",
    "**Greetings from Chamdani**\n",
    "\n",
    "Terima kasih telah mengirimkan project kamu dengan ini kamu sudah memulai sebuah langkah yang luar biasa saat ini. Disini saya akan mereview proyek kamu ya.\n",
    "\n",
    "Saya akan memberikan beberapa komentar dan feedback seperti dibawah ini, **mohon jangan dipindah, dirubah, maupun dihapus ya :).**\n",
    "    \n",
    "> Mohon diperhatikan bahwa apabila ada temuan atau kesalahan yang sama namun tidak ada komentar perbaikan disana, itu berarti kamu masih tetap harus memperbaikinya yaa.\n",
    "\n",
    "Komentar yang saya berikan akan muncul dalam warna hijau, kuning, atau pun merah seperti ini:\n",
    "\n",
    "</div>\n",
    "\n",
    "<div class=\"alert alert-success\">\n",
    "<b>Chamdani's comment v.*</b> <a class=\"tocSkip\"></a>\n",
    "\n",
    "Bagus, semua berjalan lancar.\n",
    "\n",
    "</div>\n",
    "\n",
    "<div class=\"alert alert-warning\">\n",
    "<b>Chamdani's comment v.*</b> <a class=\"tocSkip\"></a>\n",
    "\n",
    "Ada beberapa catatan.\n",
    "\n",
    "</div>\n",
    "\n",
    "<div class=\"alert alert-danger\">\n",
    "<b>Chamdani's comment v.*</b> <a class=\"tocSkip\"></a>\n",
    "\n",
    "Perlu beberapa perbaikan.\n",
    "\n",
    "</div>\n",
    "\n",
    "<div class=\"alert alert-info\">\n",
    "<b>Chamdani's info v.1</b> <a class=\"tocSkip\"></a>\n",
    "\n",
    "Catatan umum:\n",
    "* Fungsi `print` tidak diperlukan untuk mencetak suatu nilai\n",
    "* Lebih baik tulis kode pada bagian akhir cell code untuk menampilkan output tanpa `print`\n",
    "* Perintah soal yang ada dalam tanda kurung siku `[...]` sebaiknya dihilangkan\n",
    "* Sangat disarankan untuk menggunakan cell markdown untuk memberikan deskripsi temuan atau kesimpulan.\n",
    "* Tidak disarankan menggunakan cell code untuk memberikan penjelasan / deskripsi.\n",
    "* Untuk menghindari galat pada notebook project kamu. Batasi jumlah output yang dikeluarkan setiap kode dengan batas max 10 baris data.\n",
    "\n",
    "</div>\n",
    "\n",
    "<div style=\"border:solid gray 5px; padding: 20px\" class=\"alert alert-warning\">\n",
    "\n",
    "**INGATLAH** \n",
    "* Project kamu tidak akan bisa diterima bila kamu masih memiliki feedback berwarna merah. \n",
    "* Kamu hanya memiliki 3 kali kesempatan iterasi submission disetiap projectnya \n",
    "* Jika merasa kesulitan kamu dapat menuliskan responmu atas feedback saya menggunakan blok markdown warna biru dan kamu bisa mengirimkan project pada submission selanjutnya untuk mendapatkan jawaban / respon dari saya segera yaa\n",
    "\n",
    "Kamu dapat menjawab saya dengan menggunakan blok berwarna biru seperti ini\n",
    "\n",
    "<div class=\"alert alert-info\">\n",
    "<b>Student answer</b> <a class=\"tocSkip\"></a>\n",
    "\n",
    "Siap kak.\n",
    "\n",
    "</div>"
   ]
  },
  {
   "cell_type": "markdown",
   "metadata": {},
   "source": [
    "<div style=\"border:solid black 2px; padding: 20px\" class=\"alert alert-success\">\n",
    "    \n",
    "# General feedback v.1 *Project Accepted*\n",
    "\n",
    "Terima kasih banyak telah mengirimkan proyek Anda! \n",
    "<br>\n",
    "    \n",
    "Secara keseluruhan, proyek Anda **SANGAT** mengesankan. Semoga apa yang kamu pelajari dalam project ini dapat membantu meningkatkan kemampuanmu. Pertahankan apa yang sudah bagus, dan tingkatkan apa yang menurutmu masih perlu ditingkatkan. Semoga berhasil pada project selanjutnya yaa :)\n",
    "\n",
    "**TETAP SEMANGAT!!**\n",
    "    \n",
    "</div>"
   ]
  },
  {
   "cell_type": "markdown",
   "metadata": {},
   "source": [
    "## Pendahuluan\n",
    "\n",
    "Dalam proyek ini, sebagai bagian dari tim OilyGiant, tugas saya adalah mencari lokasi optimal untuk mengembangkan 200 titik sumur minyak baru. Untuk mencapai tujuan ini, langkah-langkah utama yang harus diambil melibatkan membaca file dengan parameter yang terkumpul dari sumur-sumur minyak di tiga wilayah terpilih, yaitu kualitas minyak dan volume cadangannya. Selanjutnya, saya akan membuat sebuah model untuk memprediksi volume cadangan di sumur-sumur baru, memilih sumur minyak dengan nilai estimasi tertinggi, dan akhirnya memilih wilayah dengan total keuntungan tertinggi dari sumur minyak yang dipilih.\n",
    "\n",
    "Penting untuk mencatat bahwa analisis ini akan melibatkan penggunaan algoritma linear regression dan teknik bootstrapping untuk mengevaluasi potensi keuntungan dan risiko di setiap wilayah. Dengan memanfaatkan data sampel yang ada, langkah-langkah ini diharapkan dapat memberikan pandangan yang mendalam tentang proyek pengembangan sumur minyak baru ini, membantu OilyGiant membuat keputusan yang lebih informasional dan efektif.\n",
    "\n",
    "Dataset yang kita miliki:\n",
    "- Region 0: 100.000 baris 5 kolom\n",
    "- Region 1: 100.000 baris 5 kolom\n",
    "- Region 2: 100.000 baris 5 kolom\n",
    "\n"
   ]
  },
  {
   "cell_type": "markdown",
   "metadata": {},
   "source": [
    "<div class=\"alert alert-success\">\n",
    "<b>Chamdani's comment v.1</b> <a class=\"tocSkip\"></a>\n",
    "\n",
    "Hebat, Kerja bagus!\n",
    "\n",
    "</div>"
   ]
  },
  {
   "cell_type": "markdown",
   "metadata": {},
   "source": [
    "## Memuat Library"
   ]
  },
  {
   "cell_type": "code",
   "execution_count": 1,
   "metadata": {},
   "outputs": [],
   "source": [
    "#import library\n",
    "import pandas as pd\n",
    "import numpy as np\n",
    "import seaborn as sns\n",
    "import scipy.stats as st\n",
    "#\n",
    "import matplotlib.pyplot as plt\n",
    "import seaborn as sns\n",
    "#\n",
    "import warnings\n",
    "warnings.simplefilter(action='ignore', category=FutureWarning)\n",
    "#\n",
    "from sklearn.model_selection import train_test_split\n",
    "from sklearn.linear_model import LinearRegression\n",
    "from sklearn.metrics import mean_squared_error\n",
    "from sklearn.preprocessing import RobustScaler\n",
    "from sklearn.pipeline import Pipeline"
   ]
  },
  {
   "cell_type": "markdown",
   "metadata": {},
   "source": [
    "<div class=\"alert alert-success\">\n",
    "<b>Chamdani's comment v.1</b> <a class=\"tocSkip\"></a>\n",
    "\n",
    "Hebat, Kerja bagus!\n",
    "\n",
    "</div>"
   ]
  },
  {
   "cell_type": "markdown",
   "metadata": {},
   "source": [
    "## Memuat dan Pemahaman Data"
   ]
  },
  {
   "cell_type": "code",
   "execution_count": 2,
   "metadata": {},
   "outputs": [],
   "source": [
    "# memuat semua data\n",
    "data0 = pd.read_csv('/datasets/geo_data_0.csv')\n",
    "data1 = pd.read_csv('/datasets/geo_data_1.csv')\n",
    "data2 = pd.read_csv('/datasets/geo_data_2.csv')\n",
    "# menyimpan dataset ke-dalam list\n",
    "dataset = [data0, data1, data2]"
   ]
  },
  {
   "cell_type": "code",
   "execution_count": 3,
   "metadata": {},
   "outputs": [
    {
     "data": {
      "text/html": [
       "<style  type=\"text/css\" >\n",
       "</style><table id=\"T_aac43_\" ><caption>Region 0</caption><thead>    <tr>        <th class=\"blank level0\" ></th>        <th class=\"col_heading level0 col0\" >id</th>        <th class=\"col_heading level0 col1\" >f0</th>        <th class=\"col_heading level0 col2\" >f1</th>        <th class=\"col_heading level0 col3\" >f2</th>        <th class=\"col_heading level0 col4\" >product</th>    </tr></thead><tbody>\n",
       "                <tr>\n",
       "                        <th id=\"T_aac43_level0_row0\" class=\"row_heading level0 row0\" >51301</th>\n",
       "                        <td id=\"T_aac43_row0_col0\" class=\"data row0 col0\" >I6j9Y</td>\n",
       "                        <td id=\"T_aac43_row0_col1\" class=\"data row0 col1\" >-1.035541</td>\n",
       "                        <td id=\"T_aac43_row0_col2\" class=\"data row0 col2\" >0.300687</td>\n",
       "                        <td id=\"T_aac43_row0_col3\" class=\"data row0 col3\" >3.791028</td>\n",
       "                        <td id=\"T_aac43_row0_col4\" class=\"data row0 col4\" >64.189829</td>\n",
       "            </tr>\n",
       "            <tr>\n",
       "                        <th id=\"T_aac43_level0_row1\" class=\"row_heading level0 row1\" >26895</th>\n",
       "                        <td id=\"T_aac43_row1_col0\" class=\"data row1 col0\" >u0tCs</td>\n",
       "                        <td id=\"T_aac43_row1_col1\" class=\"data row1 col1\" >1.899115</td>\n",
       "                        <td id=\"T_aac43_row1_col2\" class=\"data row1 col2\" >0.326305</td>\n",
       "                        <td id=\"T_aac43_row1_col3\" class=\"data row1 col3\" >3.218054</td>\n",
       "                        <td id=\"T_aac43_row1_col4\" class=\"data row1 col4\" >78.060704</td>\n",
       "            </tr>\n",
       "    </tbody></table>"
      ],
      "text/plain": [
       "<pandas.io.formats.style.Styler at 0x7f22b05a12e0>"
      ]
     },
     "metadata": {},
     "output_type": "display_data"
    },
    {
     "data": {
      "text/html": [
       "<style  type=\"text/css\" >\n",
       "</style><table id=\"T_fc213_\" ><caption>Region 1</caption><thead>    <tr>        <th class=\"blank level0\" ></th>        <th class=\"col_heading level0 col0\" >id</th>        <th class=\"col_heading level0 col1\" >f0</th>        <th class=\"col_heading level0 col2\" >f1</th>        <th class=\"col_heading level0 col3\" >f2</th>        <th class=\"col_heading level0 col4\" >product</th>    </tr></thead><tbody>\n",
       "                <tr>\n",
       "                        <th id=\"T_fc213_level0_row0\" class=\"row_heading level0 row0\" >25144</th>\n",
       "                        <td id=\"T_fc213_row0_col0\" class=\"data row0 col0\" >PbsDU</td>\n",
       "                        <td id=\"T_fc213_row0_col1\" class=\"data row0 col1\" >22.726722</td>\n",
       "                        <td id=\"T_fc213_row0_col2\" class=\"data row0 col2\" >-0.124674</td>\n",
       "                        <td id=\"T_fc213_row0_col3\" class=\"data row0 col3\" >5.002832</td>\n",
       "                        <td id=\"T_fc213_row0_col4\" class=\"data row0 col4\" >134.766305</td>\n",
       "            </tr>\n",
       "            <tr>\n",
       "                        <th id=\"T_fc213_level0_row1\" class=\"row_heading level0 row1\" >56696</th>\n",
       "                        <td id=\"T_fc213_row1_col0\" class=\"data row1 col0\" >x6nC7</td>\n",
       "                        <td id=\"T_fc213_row1_col1\" class=\"data row1 col1\" >-9.961479</td>\n",
       "                        <td id=\"T_fc213_row1_col2\" class=\"data row1 col2\" >-11.114862</td>\n",
       "                        <td id=\"T_fc213_row1_col3\" class=\"data row1 col3\" >-0.001467</td>\n",
       "                        <td id=\"T_fc213_row1_col4\" class=\"data row1 col4\" >3.179103</td>\n",
       "            </tr>\n",
       "    </tbody></table>"
      ],
      "text/plain": [
       "<pandas.io.formats.style.Styler at 0x7f2255e1b7c0>"
      ]
     },
     "metadata": {},
     "output_type": "display_data"
    },
    {
     "data": {
      "text/html": [
       "<style  type=\"text/css\" >\n",
       "</style><table id=\"T_35591_\" ><caption>Region 2</caption><thead>    <tr>        <th class=\"blank level0\" ></th>        <th class=\"col_heading level0 col0\" >id</th>        <th class=\"col_heading level0 col1\" >f0</th>        <th class=\"col_heading level0 col2\" >f1</th>        <th class=\"col_heading level0 col3\" >f2</th>        <th class=\"col_heading level0 col4\" >product</th>    </tr></thead><tbody>\n",
       "                <tr>\n",
       "                        <th id=\"T_35591_level0_row0\" class=\"row_heading level0 row0\" >64392</th>\n",
       "                        <td id=\"T_35591_row0_col0\" class=\"data row0 col0\" >witnS</td>\n",
       "                        <td id=\"T_35591_row0_col1\" class=\"data row0 col1\" >-1.669633</td>\n",
       "                        <td id=\"T_35591_row0_col2\" class=\"data row0 col2\" >1.563683</td>\n",
       "                        <td id=\"T_35591_row0_col3\" class=\"data row0 col3\" >10.173611</td>\n",
       "                        <td id=\"T_35591_row0_col4\" class=\"data row0 col4\" >187.905217</td>\n",
       "            </tr>\n",
       "            <tr>\n",
       "                        <th id=\"T_35591_level0_row1\" class=\"row_heading level0 row1\" >6936</th>\n",
       "                        <td id=\"T_35591_row1_col0\" class=\"data row1 col0\" >E8JAS</td>\n",
       "                        <td id=\"T_35591_row1_col1\" class=\"data row1 col1\" >-1.932538</td>\n",
       "                        <td id=\"T_35591_row1_col2\" class=\"data row1 col2\" >0.416992</td>\n",
       "                        <td id=\"T_35591_row1_col3\" class=\"data row1 col3\" >3.485072</td>\n",
       "                        <td id=\"T_35591_row1_col4\" class=\"data row1 col4\" >109.533044</td>\n",
       "            </tr>\n",
       "    </tbody></table>"
      ],
      "text/plain": [
       "<pandas.io.formats.style.Styler at 0x7f2255e1b5b0>"
      ]
     },
     "metadata": {},
     "output_type": "display_data"
    }
   ],
   "source": [
    "# menampilkan 2 baris sampel pada ke-3 dataset\n",
    "display(data0.sample(2).style.set_caption('Region 0'),\n",
    "        data1.sample(2).style.set_caption('Region 1'),\n",
    "        data2.sample(2).style.set_caption('Region 2'))"
   ]
  },
  {
   "cell_type": "code",
   "execution_count": 4,
   "metadata": {},
   "outputs": [
    {
     "name": "stdout",
     "output_type": "stream",
     "text": [
      "<class 'pandas.core.frame.DataFrame'>\n",
      "RangeIndex: 100000 entries, 0 to 99999\n",
      "Data columns (total 5 columns):\n",
      " #   Column   Non-Null Count   Dtype  \n",
      "---  ------   --------------   -----  \n",
      " 0   id       100000 non-null  object \n",
      " 1   f0       100000 non-null  float64\n",
      " 2   f1       100000 non-null  float64\n",
      " 3   f2       100000 non-null  float64\n",
      " 4   product  100000 non-null  float64\n",
      "dtypes: float64(4), object(1)\n",
      "memory usage: 3.8+ MB\n",
      "<class 'pandas.core.frame.DataFrame'>\n",
      "RangeIndex: 100000 entries, 0 to 99999\n",
      "Data columns (total 5 columns):\n",
      " #   Column   Non-Null Count   Dtype  \n",
      "---  ------   --------------   -----  \n",
      " 0   id       100000 non-null  object \n",
      " 1   f0       100000 non-null  float64\n",
      " 2   f1       100000 non-null  float64\n",
      " 3   f2       100000 non-null  float64\n",
      " 4   product  100000 non-null  float64\n",
      "dtypes: float64(4), object(1)\n",
      "memory usage: 3.8+ MB\n",
      "<class 'pandas.core.frame.DataFrame'>\n",
      "RangeIndex: 100000 entries, 0 to 99999\n",
      "Data columns (total 5 columns):\n",
      " #   Column   Non-Null Count   Dtype  \n",
      "---  ------   --------------   -----  \n",
      " 0   id       100000 non-null  object \n",
      " 1   f0       100000 non-null  float64\n",
      " 2   f1       100000 non-null  float64\n",
      " 3   f2       100000 non-null  float64\n",
      " 4   product  100000 non-null  float64\n",
      "dtypes: float64(4), object(1)\n",
      "memory usage: 3.8+ MB\n"
     ]
    }
   ],
   "source": [
    "# menampilkan informasi ke-3 dataset\n",
    "data0.info()\n",
    "data1.info()\n",
    "data2.info()"
   ]
  },
  {
   "cell_type": "code",
   "execution_count": 5,
   "metadata": {},
   "outputs": [
    {
     "data": {
      "text/html": [
       "<style  type=\"text/css\" >\n",
       "</style><table id=\"T_b3812_\" ><caption>Region 0</caption><thead>    <tr>        <th class=\"blank level0\" ></th>        <th class=\"col_heading level0 col0\" >count</th>        <th class=\"col_heading level0 col1\" >unique</th>        <th class=\"col_heading level0 col2\" >top</th>        <th class=\"col_heading level0 col3\" >freq</th>        <th class=\"col_heading level0 col4\" >mean</th>        <th class=\"col_heading level0 col5\" >std</th>        <th class=\"col_heading level0 col6\" >min</th>        <th class=\"col_heading level0 col7\" >25%</th>        <th class=\"col_heading level0 col8\" >50%</th>        <th class=\"col_heading level0 col9\" >75%</th>        <th class=\"col_heading level0 col10\" >max</th>    </tr></thead><tbody>\n",
       "                <tr>\n",
       "                        <th id=\"T_b3812_level0_row0\" class=\"row_heading level0 row0\" >id</th>\n",
       "                        <td id=\"T_b3812_row0_col0\" class=\"data row0 col0\" >100000</td>\n",
       "                        <td id=\"T_b3812_row0_col1\" class=\"data row0 col1\" >99990</td>\n",
       "                        <td id=\"T_b3812_row0_col2\" class=\"data row0 col2\" >AGS9W</td>\n",
       "                        <td id=\"T_b3812_row0_col3\" class=\"data row0 col3\" >2</td>\n",
       "                        <td id=\"T_b3812_row0_col4\" class=\"data row0 col4\" >nan</td>\n",
       "                        <td id=\"T_b3812_row0_col5\" class=\"data row0 col5\" >nan</td>\n",
       "                        <td id=\"T_b3812_row0_col6\" class=\"data row0 col6\" >nan</td>\n",
       "                        <td id=\"T_b3812_row0_col7\" class=\"data row0 col7\" >nan</td>\n",
       "                        <td id=\"T_b3812_row0_col8\" class=\"data row0 col8\" >nan</td>\n",
       "                        <td id=\"T_b3812_row0_col9\" class=\"data row0 col9\" >nan</td>\n",
       "                        <td id=\"T_b3812_row0_col10\" class=\"data row0 col10\" >nan</td>\n",
       "            </tr>\n",
       "            <tr>\n",
       "                        <th id=\"T_b3812_level0_row1\" class=\"row_heading level0 row1\" >f0</th>\n",
       "                        <td id=\"T_b3812_row1_col0\" class=\"data row1 col0\" >100000.000000</td>\n",
       "                        <td id=\"T_b3812_row1_col1\" class=\"data row1 col1\" >nan</td>\n",
       "                        <td id=\"T_b3812_row1_col2\" class=\"data row1 col2\" >nan</td>\n",
       "                        <td id=\"T_b3812_row1_col3\" class=\"data row1 col3\" >nan</td>\n",
       "                        <td id=\"T_b3812_row1_col4\" class=\"data row1 col4\" >0.500419</td>\n",
       "                        <td id=\"T_b3812_row1_col5\" class=\"data row1 col5\" >0.871832</td>\n",
       "                        <td id=\"T_b3812_row1_col6\" class=\"data row1 col6\" >-1.408605</td>\n",
       "                        <td id=\"T_b3812_row1_col7\" class=\"data row1 col7\" >-0.072580</td>\n",
       "                        <td id=\"T_b3812_row1_col8\" class=\"data row1 col8\" >0.502360</td>\n",
       "                        <td id=\"T_b3812_row1_col9\" class=\"data row1 col9\" >1.073581</td>\n",
       "                        <td id=\"T_b3812_row1_col10\" class=\"data row1 col10\" >2.362331</td>\n",
       "            </tr>\n",
       "            <tr>\n",
       "                        <th id=\"T_b3812_level0_row2\" class=\"row_heading level0 row2\" >f1</th>\n",
       "                        <td id=\"T_b3812_row2_col0\" class=\"data row2 col0\" >100000.000000</td>\n",
       "                        <td id=\"T_b3812_row2_col1\" class=\"data row2 col1\" >nan</td>\n",
       "                        <td id=\"T_b3812_row2_col2\" class=\"data row2 col2\" >nan</td>\n",
       "                        <td id=\"T_b3812_row2_col3\" class=\"data row2 col3\" >nan</td>\n",
       "                        <td id=\"T_b3812_row2_col4\" class=\"data row2 col4\" >0.250143</td>\n",
       "                        <td id=\"T_b3812_row2_col5\" class=\"data row2 col5\" >0.504433</td>\n",
       "                        <td id=\"T_b3812_row2_col6\" class=\"data row2 col6\" >-0.848218</td>\n",
       "                        <td id=\"T_b3812_row2_col7\" class=\"data row2 col7\" >-0.200881</td>\n",
       "                        <td id=\"T_b3812_row2_col8\" class=\"data row2 col8\" >0.250252</td>\n",
       "                        <td id=\"T_b3812_row2_col9\" class=\"data row2 col9\" >0.700646</td>\n",
       "                        <td id=\"T_b3812_row2_col10\" class=\"data row2 col10\" >1.343769</td>\n",
       "            </tr>\n",
       "            <tr>\n",
       "                        <th id=\"T_b3812_level0_row3\" class=\"row_heading level0 row3\" >f2</th>\n",
       "                        <td id=\"T_b3812_row3_col0\" class=\"data row3 col0\" >100000.000000</td>\n",
       "                        <td id=\"T_b3812_row3_col1\" class=\"data row3 col1\" >nan</td>\n",
       "                        <td id=\"T_b3812_row3_col2\" class=\"data row3 col2\" >nan</td>\n",
       "                        <td id=\"T_b3812_row3_col3\" class=\"data row3 col3\" >nan</td>\n",
       "                        <td id=\"T_b3812_row3_col4\" class=\"data row3 col4\" >2.502647</td>\n",
       "                        <td id=\"T_b3812_row3_col5\" class=\"data row3 col5\" >3.248248</td>\n",
       "                        <td id=\"T_b3812_row3_col6\" class=\"data row3 col6\" >-12.088328</td>\n",
       "                        <td id=\"T_b3812_row3_col7\" class=\"data row3 col7\" >0.287748</td>\n",
       "                        <td id=\"T_b3812_row3_col8\" class=\"data row3 col8\" >2.515969</td>\n",
       "                        <td id=\"T_b3812_row3_col9\" class=\"data row3 col9\" >4.715088</td>\n",
       "                        <td id=\"T_b3812_row3_col10\" class=\"data row3 col10\" >16.003790</td>\n",
       "            </tr>\n",
       "            <tr>\n",
       "                        <th id=\"T_b3812_level0_row4\" class=\"row_heading level0 row4\" >product</th>\n",
       "                        <td id=\"T_b3812_row4_col0\" class=\"data row4 col0\" >100000.000000</td>\n",
       "                        <td id=\"T_b3812_row4_col1\" class=\"data row4 col1\" >nan</td>\n",
       "                        <td id=\"T_b3812_row4_col2\" class=\"data row4 col2\" >nan</td>\n",
       "                        <td id=\"T_b3812_row4_col3\" class=\"data row4 col3\" >nan</td>\n",
       "                        <td id=\"T_b3812_row4_col4\" class=\"data row4 col4\" >92.500000</td>\n",
       "                        <td id=\"T_b3812_row4_col5\" class=\"data row4 col5\" >44.288691</td>\n",
       "                        <td id=\"T_b3812_row4_col6\" class=\"data row4 col6\" >0.000000</td>\n",
       "                        <td id=\"T_b3812_row4_col7\" class=\"data row4 col7\" >56.497507</td>\n",
       "                        <td id=\"T_b3812_row4_col8\" class=\"data row4 col8\" >91.849972</td>\n",
       "                        <td id=\"T_b3812_row4_col9\" class=\"data row4 col9\" >128.564089</td>\n",
       "                        <td id=\"T_b3812_row4_col10\" class=\"data row4 col10\" >185.364347</td>\n",
       "            </tr>\n",
       "    </tbody></table>"
      ],
      "text/plain": [
       "<pandas.io.formats.style.Styler at 0x7f22b064f790>"
      ]
     },
     "metadata": {},
     "output_type": "display_data"
    },
    {
     "data": {
      "text/html": [
       "<style  type=\"text/css\" >\n",
       "</style><table id=\"T_e97ec_\" ><caption>Region 1</caption><thead>    <tr>        <th class=\"blank level0\" ></th>        <th class=\"col_heading level0 col0\" >count</th>        <th class=\"col_heading level0 col1\" >unique</th>        <th class=\"col_heading level0 col2\" >top</th>        <th class=\"col_heading level0 col3\" >freq</th>        <th class=\"col_heading level0 col4\" >mean</th>        <th class=\"col_heading level0 col5\" >std</th>        <th class=\"col_heading level0 col6\" >min</th>        <th class=\"col_heading level0 col7\" >25%</th>        <th class=\"col_heading level0 col8\" >50%</th>        <th class=\"col_heading level0 col9\" >75%</th>        <th class=\"col_heading level0 col10\" >max</th>    </tr></thead><tbody>\n",
       "                <tr>\n",
       "                        <th id=\"T_e97ec_level0_row0\" class=\"row_heading level0 row0\" >id</th>\n",
       "                        <td id=\"T_e97ec_row0_col0\" class=\"data row0 col0\" >100000</td>\n",
       "                        <td id=\"T_e97ec_row0_col1\" class=\"data row0 col1\" >99996</td>\n",
       "                        <td id=\"T_e97ec_row0_col2\" class=\"data row0 col2\" >bfPNe</td>\n",
       "                        <td id=\"T_e97ec_row0_col3\" class=\"data row0 col3\" >2</td>\n",
       "                        <td id=\"T_e97ec_row0_col4\" class=\"data row0 col4\" >nan</td>\n",
       "                        <td id=\"T_e97ec_row0_col5\" class=\"data row0 col5\" >nan</td>\n",
       "                        <td id=\"T_e97ec_row0_col6\" class=\"data row0 col6\" >nan</td>\n",
       "                        <td id=\"T_e97ec_row0_col7\" class=\"data row0 col7\" >nan</td>\n",
       "                        <td id=\"T_e97ec_row0_col8\" class=\"data row0 col8\" >nan</td>\n",
       "                        <td id=\"T_e97ec_row0_col9\" class=\"data row0 col9\" >nan</td>\n",
       "                        <td id=\"T_e97ec_row0_col10\" class=\"data row0 col10\" >nan</td>\n",
       "            </tr>\n",
       "            <tr>\n",
       "                        <th id=\"T_e97ec_level0_row1\" class=\"row_heading level0 row1\" >f0</th>\n",
       "                        <td id=\"T_e97ec_row1_col0\" class=\"data row1 col0\" >100000.000000</td>\n",
       "                        <td id=\"T_e97ec_row1_col1\" class=\"data row1 col1\" >nan</td>\n",
       "                        <td id=\"T_e97ec_row1_col2\" class=\"data row1 col2\" >nan</td>\n",
       "                        <td id=\"T_e97ec_row1_col3\" class=\"data row1 col3\" >nan</td>\n",
       "                        <td id=\"T_e97ec_row1_col4\" class=\"data row1 col4\" >1.141296</td>\n",
       "                        <td id=\"T_e97ec_row1_col5\" class=\"data row1 col5\" >8.965932</td>\n",
       "                        <td id=\"T_e97ec_row1_col6\" class=\"data row1 col6\" >-31.609576</td>\n",
       "                        <td id=\"T_e97ec_row1_col7\" class=\"data row1 col7\" >-6.298551</td>\n",
       "                        <td id=\"T_e97ec_row1_col8\" class=\"data row1 col8\" >1.153055</td>\n",
       "                        <td id=\"T_e97ec_row1_col9\" class=\"data row1 col9\" >8.621015</td>\n",
       "                        <td id=\"T_e97ec_row1_col10\" class=\"data row1 col10\" >29.421755</td>\n",
       "            </tr>\n",
       "            <tr>\n",
       "                        <th id=\"T_e97ec_level0_row2\" class=\"row_heading level0 row2\" >f1</th>\n",
       "                        <td id=\"T_e97ec_row2_col0\" class=\"data row2 col0\" >100000.000000</td>\n",
       "                        <td id=\"T_e97ec_row2_col1\" class=\"data row2 col1\" >nan</td>\n",
       "                        <td id=\"T_e97ec_row2_col2\" class=\"data row2 col2\" >nan</td>\n",
       "                        <td id=\"T_e97ec_row2_col3\" class=\"data row2 col3\" >nan</td>\n",
       "                        <td id=\"T_e97ec_row2_col4\" class=\"data row2 col4\" >-4.796579</td>\n",
       "                        <td id=\"T_e97ec_row2_col5\" class=\"data row2 col5\" >5.119872</td>\n",
       "                        <td id=\"T_e97ec_row2_col6\" class=\"data row2 col6\" >-26.358598</td>\n",
       "                        <td id=\"T_e97ec_row2_col7\" class=\"data row2 col7\" >-8.267985</td>\n",
       "                        <td id=\"T_e97ec_row2_col8\" class=\"data row2 col8\" >-4.813172</td>\n",
       "                        <td id=\"T_e97ec_row2_col9\" class=\"data row2 col9\" >-1.332816</td>\n",
       "                        <td id=\"T_e97ec_row2_col10\" class=\"data row2 col10\" >18.734063</td>\n",
       "            </tr>\n",
       "            <tr>\n",
       "                        <th id=\"T_e97ec_level0_row3\" class=\"row_heading level0 row3\" >f2</th>\n",
       "                        <td id=\"T_e97ec_row3_col0\" class=\"data row3 col0\" >100000.000000</td>\n",
       "                        <td id=\"T_e97ec_row3_col1\" class=\"data row3 col1\" >nan</td>\n",
       "                        <td id=\"T_e97ec_row3_col2\" class=\"data row3 col2\" >nan</td>\n",
       "                        <td id=\"T_e97ec_row3_col3\" class=\"data row3 col3\" >nan</td>\n",
       "                        <td id=\"T_e97ec_row3_col4\" class=\"data row3 col4\" >2.494541</td>\n",
       "                        <td id=\"T_e97ec_row3_col5\" class=\"data row3 col5\" >1.703572</td>\n",
       "                        <td id=\"T_e97ec_row3_col6\" class=\"data row3 col6\" >-0.018144</td>\n",
       "                        <td id=\"T_e97ec_row3_col7\" class=\"data row3 col7\" >1.000021</td>\n",
       "                        <td id=\"T_e97ec_row3_col8\" class=\"data row3 col8\" >2.011479</td>\n",
       "                        <td id=\"T_e97ec_row3_col9\" class=\"data row3 col9\" >3.999904</td>\n",
       "                        <td id=\"T_e97ec_row3_col10\" class=\"data row3 col10\" >5.019721</td>\n",
       "            </tr>\n",
       "            <tr>\n",
       "                        <th id=\"T_e97ec_level0_row4\" class=\"row_heading level0 row4\" >product</th>\n",
       "                        <td id=\"T_e97ec_row4_col0\" class=\"data row4 col0\" >100000.000000</td>\n",
       "                        <td id=\"T_e97ec_row4_col1\" class=\"data row4 col1\" >nan</td>\n",
       "                        <td id=\"T_e97ec_row4_col2\" class=\"data row4 col2\" >nan</td>\n",
       "                        <td id=\"T_e97ec_row4_col3\" class=\"data row4 col3\" >nan</td>\n",
       "                        <td id=\"T_e97ec_row4_col4\" class=\"data row4 col4\" >68.825000</td>\n",
       "                        <td id=\"T_e97ec_row4_col5\" class=\"data row4 col5\" >45.944423</td>\n",
       "                        <td id=\"T_e97ec_row4_col6\" class=\"data row4 col6\" >0.000000</td>\n",
       "                        <td id=\"T_e97ec_row4_col7\" class=\"data row4 col7\" >26.953261</td>\n",
       "                        <td id=\"T_e97ec_row4_col8\" class=\"data row4 col8\" >57.085625</td>\n",
       "                        <td id=\"T_e97ec_row4_col9\" class=\"data row4 col9\" >107.813044</td>\n",
       "                        <td id=\"T_e97ec_row4_col10\" class=\"data row4 col10\" >137.945408</td>\n",
       "            </tr>\n",
       "    </tbody></table>"
      ],
      "text/plain": [
       "<pandas.io.formats.style.Styler at 0x7f22b05a11f0>"
      ]
     },
     "metadata": {},
     "output_type": "display_data"
    },
    {
     "data": {
      "text/html": [
       "<style  type=\"text/css\" >\n",
       "</style><table id=\"T_18c3d_\" ><caption>Region 2</caption><thead>    <tr>        <th class=\"blank level0\" ></th>        <th class=\"col_heading level0 col0\" >count</th>        <th class=\"col_heading level0 col1\" >unique</th>        <th class=\"col_heading level0 col2\" >top</th>        <th class=\"col_heading level0 col3\" >freq</th>        <th class=\"col_heading level0 col4\" >mean</th>        <th class=\"col_heading level0 col5\" >std</th>        <th class=\"col_heading level0 col6\" >min</th>        <th class=\"col_heading level0 col7\" >25%</th>        <th class=\"col_heading level0 col8\" >50%</th>        <th class=\"col_heading level0 col9\" >75%</th>        <th class=\"col_heading level0 col10\" >max</th>    </tr></thead><tbody>\n",
       "                <tr>\n",
       "                        <th id=\"T_18c3d_level0_row0\" class=\"row_heading level0 row0\" >id</th>\n",
       "                        <td id=\"T_18c3d_row0_col0\" class=\"data row0 col0\" >100000</td>\n",
       "                        <td id=\"T_18c3d_row0_col1\" class=\"data row0 col1\" >99996</td>\n",
       "                        <td id=\"T_18c3d_row0_col2\" class=\"data row0 col2\" >Vcm5J</td>\n",
       "                        <td id=\"T_18c3d_row0_col3\" class=\"data row0 col3\" >2</td>\n",
       "                        <td id=\"T_18c3d_row0_col4\" class=\"data row0 col4\" >nan</td>\n",
       "                        <td id=\"T_18c3d_row0_col5\" class=\"data row0 col5\" >nan</td>\n",
       "                        <td id=\"T_18c3d_row0_col6\" class=\"data row0 col6\" >nan</td>\n",
       "                        <td id=\"T_18c3d_row0_col7\" class=\"data row0 col7\" >nan</td>\n",
       "                        <td id=\"T_18c3d_row0_col8\" class=\"data row0 col8\" >nan</td>\n",
       "                        <td id=\"T_18c3d_row0_col9\" class=\"data row0 col9\" >nan</td>\n",
       "                        <td id=\"T_18c3d_row0_col10\" class=\"data row0 col10\" >nan</td>\n",
       "            </tr>\n",
       "            <tr>\n",
       "                        <th id=\"T_18c3d_level0_row1\" class=\"row_heading level0 row1\" >f0</th>\n",
       "                        <td id=\"T_18c3d_row1_col0\" class=\"data row1 col0\" >100000.000000</td>\n",
       "                        <td id=\"T_18c3d_row1_col1\" class=\"data row1 col1\" >nan</td>\n",
       "                        <td id=\"T_18c3d_row1_col2\" class=\"data row1 col2\" >nan</td>\n",
       "                        <td id=\"T_18c3d_row1_col3\" class=\"data row1 col3\" >nan</td>\n",
       "                        <td id=\"T_18c3d_row1_col4\" class=\"data row1 col4\" >0.002023</td>\n",
       "                        <td id=\"T_18c3d_row1_col5\" class=\"data row1 col5\" >1.732045</td>\n",
       "                        <td id=\"T_18c3d_row1_col6\" class=\"data row1 col6\" >-8.760004</td>\n",
       "                        <td id=\"T_18c3d_row1_col7\" class=\"data row1 col7\" >-1.162288</td>\n",
       "                        <td id=\"T_18c3d_row1_col8\" class=\"data row1 col8\" >0.009424</td>\n",
       "                        <td id=\"T_18c3d_row1_col9\" class=\"data row1 col9\" >1.158535</td>\n",
       "                        <td id=\"T_18c3d_row1_col10\" class=\"data row1 col10\" >7.238262</td>\n",
       "            </tr>\n",
       "            <tr>\n",
       "                        <th id=\"T_18c3d_level0_row2\" class=\"row_heading level0 row2\" >f1</th>\n",
       "                        <td id=\"T_18c3d_row2_col0\" class=\"data row2 col0\" >100000.000000</td>\n",
       "                        <td id=\"T_18c3d_row2_col1\" class=\"data row2 col1\" >nan</td>\n",
       "                        <td id=\"T_18c3d_row2_col2\" class=\"data row2 col2\" >nan</td>\n",
       "                        <td id=\"T_18c3d_row2_col3\" class=\"data row2 col3\" >nan</td>\n",
       "                        <td id=\"T_18c3d_row2_col4\" class=\"data row2 col4\" >-0.002081</td>\n",
       "                        <td id=\"T_18c3d_row2_col5\" class=\"data row2 col5\" >1.730417</td>\n",
       "                        <td id=\"T_18c3d_row2_col6\" class=\"data row2 col6\" >-7.084020</td>\n",
       "                        <td id=\"T_18c3d_row2_col7\" class=\"data row2 col7\" >-1.174820</td>\n",
       "                        <td id=\"T_18c3d_row2_col8\" class=\"data row2 col8\" >-0.009482</td>\n",
       "                        <td id=\"T_18c3d_row2_col9\" class=\"data row2 col9\" >1.163678</td>\n",
       "                        <td id=\"T_18c3d_row2_col10\" class=\"data row2 col10\" >7.844801</td>\n",
       "            </tr>\n",
       "            <tr>\n",
       "                        <th id=\"T_18c3d_level0_row3\" class=\"row_heading level0 row3\" >f2</th>\n",
       "                        <td id=\"T_18c3d_row3_col0\" class=\"data row3 col0\" >100000.000000</td>\n",
       "                        <td id=\"T_18c3d_row3_col1\" class=\"data row3 col1\" >nan</td>\n",
       "                        <td id=\"T_18c3d_row3_col2\" class=\"data row3 col2\" >nan</td>\n",
       "                        <td id=\"T_18c3d_row3_col3\" class=\"data row3 col3\" >nan</td>\n",
       "                        <td id=\"T_18c3d_row3_col4\" class=\"data row3 col4\" >2.495128</td>\n",
       "                        <td id=\"T_18c3d_row3_col5\" class=\"data row3 col5\" >3.473445</td>\n",
       "                        <td id=\"T_18c3d_row3_col6\" class=\"data row3 col6\" >-11.970335</td>\n",
       "                        <td id=\"T_18c3d_row3_col7\" class=\"data row3 col7\" >0.130359</td>\n",
       "                        <td id=\"T_18c3d_row3_col8\" class=\"data row3 col8\" >2.484236</td>\n",
       "                        <td id=\"T_18c3d_row3_col9\" class=\"data row3 col9\" >4.858794</td>\n",
       "                        <td id=\"T_18c3d_row3_col10\" class=\"data row3 col10\" >16.739402</td>\n",
       "            </tr>\n",
       "            <tr>\n",
       "                        <th id=\"T_18c3d_level0_row4\" class=\"row_heading level0 row4\" >product</th>\n",
       "                        <td id=\"T_18c3d_row4_col0\" class=\"data row4 col0\" >100000.000000</td>\n",
       "                        <td id=\"T_18c3d_row4_col1\" class=\"data row4 col1\" >nan</td>\n",
       "                        <td id=\"T_18c3d_row4_col2\" class=\"data row4 col2\" >nan</td>\n",
       "                        <td id=\"T_18c3d_row4_col3\" class=\"data row4 col3\" >nan</td>\n",
       "                        <td id=\"T_18c3d_row4_col4\" class=\"data row4 col4\" >95.000000</td>\n",
       "                        <td id=\"T_18c3d_row4_col5\" class=\"data row4 col5\" >44.749921</td>\n",
       "                        <td id=\"T_18c3d_row4_col6\" class=\"data row4 col6\" >0.000000</td>\n",
       "                        <td id=\"T_18c3d_row4_col7\" class=\"data row4 col7\" >59.450441</td>\n",
       "                        <td id=\"T_18c3d_row4_col8\" class=\"data row4 col8\" >94.925613</td>\n",
       "                        <td id=\"T_18c3d_row4_col9\" class=\"data row4 col9\" >130.595027</td>\n",
       "                        <td id=\"T_18c3d_row4_col10\" class=\"data row4 col10\" >190.029838</td>\n",
       "            </tr>\n",
       "    </tbody></table>"
      ],
      "text/plain": [
       "<pandas.io.formats.style.Styler at 0x7f2255ecf3a0>"
      ]
     },
     "metadata": {},
     "output_type": "display_data"
    }
   ],
   "source": [
    "# menampilkan deskripsi umum pada ke-3 dataset\n",
    "display(data0.describe(include='all').transpose().style.set_caption('Region 0'),\n",
    "        data1.describe(include='all').transpose().style.set_caption('Region 1'),\n",
    "        data2.describe(include='all').transpose().style.set_caption('Region 2'))"
   ]
  },
  {
   "cell_type": "markdown",
   "metadata": {},
   "source": [
    "**Kesimpulan**\n",
    "\n",
    "Ke-tiga dataset yang kita miliki mempunyai 100.000 baris dan 5 kolom, berikut adalah rinciannya:\n",
    "1. `id` - ID unik sumur minyak.\n",
    "2. `f0 hingga f2` - Fitur titik wilayah.\n",
    "3. `product` - Volume cadangan di dalam sumur minyak (1 unit = 1.000 barel).\n",
    "\n",
    "Pada kolom `id` untuk ke-tiga dataset kita sepertinya terdapat data yang duplikat, dapat dilihat dari jumlah uniknya tidak mencapai angka 100.000. Sebelum kita memutuskan untuk menghapusnya, nanti kita akan coba lihat bagaimana data yang terdapat ID duplikat tersebut dan memperhitungkan apakah data tersebut penting atau tidak. Sedangkan untuk tipe data sepertinya sudah sesuai, tidak perlu dilakukan perubahan."
   ]
  },
  {
   "cell_type": "markdown",
   "metadata": {},
   "source": [
    "<div class=\"alert alert-success\">\n",
    "<b>Chamdani's comment v.1</b> <a class=\"tocSkip\"></a>\n",
    "\n",
    "Hebat, Kerja bagus!\n",
    "\n",
    "</div>"
   ]
  },
  {
   "cell_type": "code",
   "execution_count": 6,
   "metadata": {},
   "outputs": [
    {
     "data": {
      "text/plain": [
       "0"
      ]
     },
     "metadata": {},
     "output_type": "display_data"
    },
    {
     "data": {
      "text/plain": [
       "0"
      ]
     },
     "metadata": {},
     "output_type": "display_data"
    },
    {
     "data": {
      "text/plain": [
       "0"
      ]
     },
     "metadata": {},
     "output_type": "display_data"
    }
   ],
   "source": [
    "# menghitung nilai duplikat eksplisit secara keseluruhan untuk ke-3 dataset\n",
    "display(data0.duplicated().sum(),\n",
    "       data1.duplicated().sum(),\n",
    "       data2.duplicated().sum())"
   ]
  },
  {
   "cell_type": "code",
   "execution_count": 7,
   "metadata": {},
   "outputs": [
    {
     "data": {
      "text/html": [
       "<style  type=\"text/css\" >\n",
       "</style><table id=\"T_b1f57_\" ><caption>Region 0</caption><thead>    <tr>        <th class=\"blank level0\" ></th>        <th class=\"col_heading level0 col0\" >id</th>        <th class=\"col_heading level0 col1\" >f0</th>        <th class=\"col_heading level0 col2\" >f1</th>        <th class=\"col_heading level0 col3\" >f2</th>        <th class=\"col_heading level0 col4\" >product</th>    </tr></thead><tbody>\n",
       "                <tr>\n",
       "                        <th id=\"T_b1f57_level0_row0\" class=\"row_heading level0 row0\" >66136</th>\n",
       "                        <td id=\"T_b1f57_row0_col0\" class=\"data row0 col0\" >74z30</td>\n",
       "                        <td id=\"T_b1f57_row0_col1\" class=\"data row0 col1\" >1.084962</td>\n",
       "                        <td id=\"T_b1f57_row0_col2\" class=\"data row0 col2\" >-0.312358</td>\n",
       "                        <td id=\"T_b1f57_row0_col3\" class=\"data row0 col3\" >6.990771</td>\n",
       "                        <td id=\"T_b1f57_row0_col4\" class=\"data row0 col4\" >127.643327</td>\n",
       "            </tr>\n",
       "            <tr>\n",
       "                        <th id=\"T_b1f57_level0_row1\" class=\"row_heading level0 row1\" >64022</th>\n",
       "                        <td id=\"T_b1f57_row1_col0\" class=\"data row1 col0\" >74z30</td>\n",
       "                        <td id=\"T_b1f57_row1_col1\" class=\"data row1 col1\" >0.741456</td>\n",
       "                        <td id=\"T_b1f57_row1_col2\" class=\"data row1 col2\" >0.459229</td>\n",
       "                        <td id=\"T_b1f57_row1_col3\" class=\"data row1 col3\" >5.153109</td>\n",
       "                        <td id=\"T_b1f57_row1_col4\" class=\"data row1 col4\" >140.771492</td>\n",
       "            </tr>\n",
       "            <tr>\n",
       "                        <th id=\"T_b1f57_level0_row2\" class=\"row_heading level0 row2\" >51970</th>\n",
       "                        <td id=\"T_b1f57_row2_col0\" class=\"data row2 col0\" >A5aEY</td>\n",
       "                        <td id=\"T_b1f57_row2_col1\" class=\"data row2 col1\" >-0.180335</td>\n",
       "                        <td id=\"T_b1f57_row2_col2\" class=\"data row2 col2\" >0.935548</td>\n",
       "                        <td id=\"T_b1f57_row2_col3\" class=\"data row2 col3\" >-2.094773</td>\n",
       "                        <td id=\"T_b1f57_row2_col4\" class=\"data row2 col4\" >33.020205</td>\n",
       "            </tr>\n",
       "            <tr>\n",
       "                        <th id=\"T_b1f57_level0_row3\" class=\"row_heading level0 row3\" >3389</th>\n",
       "                        <td id=\"T_b1f57_row3_col0\" class=\"data row3 col0\" >A5aEY</td>\n",
       "                        <td id=\"T_b1f57_row3_col1\" class=\"data row3 col1\" >-0.039949</td>\n",
       "                        <td id=\"T_b1f57_row3_col2\" class=\"data row3 col2\" >0.156872</td>\n",
       "                        <td id=\"T_b1f57_row3_col3\" class=\"data row3 col3\" >0.209861</td>\n",
       "                        <td id=\"T_b1f57_row3_col4\" class=\"data row3 col4\" >89.249364</td>\n",
       "            </tr>\n",
       "            <tr>\n",
       "                        <th id=\"T_b1f57_level0_row4\" class=\"row_heading level0 row4\" >69163</th>\n",
       "                        <td id=\"T_b1f57_row4_col0\" class=\"data row4 col0\" >AGS9W</td>\n",
       "                        <td id=\"T_b1f57_row4_col1\" class=\"data row4 col1\" >-0.933795</td>\n",
       "                        <td id=\"T_b1f57_row4_col2\" class=\"data row4 col2\" >0.116194</td>\n",
       "                        <td id=\"T_b1f57_row4_col3\" class=\"data row4 col3\" >-3.655896</td>\n",
       "                        <td id=\"T_b1f57_row4_col4\" class=\"data row4 col4\" >19.230453</td>\n",
       "            </tr>\n",
       "            <tr>\n",
       "                        <th id=\"T_b1f57_level0_row5\" class=\"row_heading level0 row5\" >42529</th>\n",
       "                        <td id=\"T_b1f57_row5_col0\" class=\"data row5 col0\" >AGS9W</td>\n",
       "                        <td id=\"T_b1f57_row5_col1\" class=\"data row5 col1\" >1.454747</td>\n",
       "                        <td id=\"T_b1f57_row5_col2\" class=\"data row5 col2\" >-0.479651</td>\n",
       "                        <td id=\"T_b1f57_row5_col3\" class=\"data row5 col3\" >0.683380</td>\n",
       "                        <td id=\"T_b1f57_row5_col4\" class=\"data row5 col4\" >126.370504</td>\n",
       "            </tr>\n",
       "    </tbody></table>"
      ],
      "text/plain": [
       "<pandas.io.formats.style.Styler at 0x7f2255ecfb50>"
      ]
     },
     "execution_count": 7,
     "metadata": {},
     "output_type": "execute_result"
    }
   ],
   "source": [
    "# memeriksa duplikat berdasarkan id sumur minyak \n",
    "data0_id = data0[data0.duplicated(subset='id')]['id']\n",
    "data0.query('id in @data0_id').sort_values('id').head(6).style.set_caption('Region 0')"
   ]
  },
  {
   "cell_type": "code",
   "execution_count": 8,
   "metadata": {},
   "outputs": [
    {
     "data": {
      "text/html": [
       "<style  type=\"text/css\" >\n",
       "</style><table id=\"T_01293_\" ><caption>Region 1</caption><thead>    <tr>        <th class=\"blank level0\" ></th>        <th class=\"col_heading level0 col0\" >id</th>        <th class=\"col_heading level0 col1\" >f0</th>        <th class=\"col_heading level0 col2\" >f1</th>        <th class=\"col_heading level0 col3\" >f2</th>        <th class=\"col_heading level0 col4\" >product</th>    </tr></thead><tbody>\n",
       "                <tr>\n",
       "                        <th id=\"T_01293_level0_row0\" class=\"row_heading level0 row0\" >5849</th>\n",
       "                        <td id=\"T_01293_row0_col0\" class=\"data row0 col0\" >5ltQ6</td>\n",
       "                        <td id=\"T_01293_row0_col1\" class=\"data row0 col1\" >-3.435401</td>\n",
       "                        <td id=\"T_01293_row0_col2\" class=\"data row0 col2\" >-12.296043</td>\n",
       "                        <td id=\"T_01293_row0_col3\" class=\"data row0 col3\" >1.999796</td>\n",
       "                        <td id=\"T_01293_row0_col4\" class=\"data row0 col4\" >57.085625</td>\n",
       "            </tr>\n",
       "            <tr>\n",
       "                        <th id=\"T_01293_level0_row1\" class=\"row_heading level0 row1\" >84461</th>\n",
       "                        <td id=\"T_01293_row1_col0\" class=\"data row1 col0\" >5ltQ6</td>\n",
       "                        <td id=\"T_01293_row1_col1\" class=\"data row1 col1\" >18.213839</td>\n",
       "                        <td id=\"T_01293_row1_col2\" class=\"data row1 col2\" >2.191999</td>\n",
       "                        <td id=\"T_01293_row1_col3\" class=\"data row1 col3\" >3.993869</td>\n",
       "                        <td id=\"T_01293_row1_col4\" class=\"data row1 col4\" >107.813044</td>\n",
       "            </tr>\n",
       "            <tr>\n",
       "                        <th id=\"T_01293_level0_row2\" class=\"row_heading level0 row2\" >1305</th>\n",
       "                        <td id=\"T_01293_row2_col0\" class=\"data row2 col0\" >LHZR0</td>\n",
       "                        <td id=\"T_01293_row2_col1\" class=\"data row2 col1\" >11.170835</td>\n",
       "                        <td id=\"T_01293_row2_col2\" class=\"data row2 col2\" >-1.945066</td>\n",
       "                        <td id=\"T_01293_row2_col3\" class=\"data row2 col3\" >3.002872</td>\n",
       "                        <td id=\"T_01293_row2_col4\" class=\"data row2 col4\" >80.859783</td>\n",
       "            </tr>\n",
       "            <tr>\n",
       "                        <th id=\"T_01293_level0_row3\" class=\"row_heading level0 row3\" >41906</th>\n",
       "                        <td id=\"T_01293_row3_col0\" class=\"data row3 col0\" >LHZR0</td>\n",
       "                        <td id=\"T_01293_row3_col1\" class=\"data row3 col1\" >-8.989672</td>\n",
       "                        <td id=\"T_01293_row3_col2\" class=\"data row3 col2\" >-4.286607</td>\n",
       "                        <td id=\"T_01293_row3_col3\" class=\"data row3 col3\" >2.009139</td>\n",
       "                        <td id=\"T_01293_row3_col4\" class=\"data row3 col4\" >57.085625</td>\n",
       "            </tr>\n",
       "            <tr>\n",
       "                        <th id=\"T_01293_level0_row4\" class=\"row_heading level0 row4\" >2721</th>\n",
       "                        <td id=\"T_01293_row4_col0\" class=\"data row4 col0\" >bfPNe</td>\n",
       "                        <td id=\"T_01293_row4_col1\" class=\"data row4 col1\" >-9.494442</td>\n",
       "                        <td id=\"T_01293_row4_col2\" class=\"data row4 col2\" >-5.463692</td>\n",
       "                        <td id=\"T_01293_row4_col3\" class=\"data row4 col3\" >4.006042</td>\n",
       "                        <td id=\"T_01293_row4_col4\" class=\"data row4 col4\" >110.992147</td>\n",
       "            </tr>\n",
       "            <tr>\n",
       "                        <th id=\"T_01293_level0_row5\" class=\"row_heading level0 row5\" >82178</th>\n",
       "                        <td id=\"T_01293_row5_col0\" class=\"data row5 col0\" >bfPNe</td>\n",
       "                        <td id=\"T_01293_row5_col1\" class=\"data row5 col1\" >-6.202799</td>\n",
       "                        <td id=\"T_01293_row5_col2\" class=\"data row5 col2\" >-4.820045</td>\n",
       "                        <td id=\"T_01293_row5_col3\" class=\"data row5 col3\" >2.995107</td>\n",
       "                        <td id=\"T_01293_row5_col4\" class=\"data row5 col4\" >84.038886</td>\n",
       "            </tr>\n",
       "    </tbody></table>"
      ],
      "text/plain": [
       "<pandas.io.formats.style.Styler at 0x7f2255ec4310>"
      ]
     },
     "execution_count": 8,
     "metadata": {},
     "output_type": "execute_result"
    }
   ],
   "source": [
    "# memeriksa duplikat berdasarkan id sumur minyak\n",
    "data1_id = data1[data1.duplicated(subset='id')]['id']\n",
    "data1.query('id in @data1_id').sort_values('id').head(6).style.set_caption('Region 1')"
   ]
  },
  {
   "cell_type": "code",
   "execution_count": 9,
   "metadata": {},
   "outputs": [
    {
     "data": {
      "text/html": [
       "<style  type=\"text/css\" >\n",
       "</style><table id=\"T_18e83_\" ><caption>Region 2</caption><thead>    <tr>        <th class=\"blank level0\" ></th>        <th class=\"col_heading level0 col0\" >id</th>        <th class=\"col_heading level0 col1\" >f0</th>        <th class=\"col_heading level0 col2\" >f1</th>        <th class=\"col_heading level0 col3\" >f2</th>        <th class=\"col_heading level0 col4\" >product</th>    </tr></thead><tbody>\n",
       "                <tr>\n",
       "                        <th id=\"T_18e83_level0_row0\" class=\"row_heading level0 row0\" >45404</th>\n",
       "                        <td id=\"T_18e83_row0_col0\" class=\"data row0 col0\" >KUPhW</td>\n",
       "                        <td id=\"T_18e83_row0_col1\" class=\"data row0 col1\" >0.231846</td>\n",
       "                        <td id=\"T_18e83_row0_col2\" class=\"data row0 col2\" >-1.698941</td>\n",
       "                        <td id=\"T_18e83_row0_col3\" class=\"data row0 col3\" >4.990775</td>\n",
       "                        <td id=\"T_18e83_row0_col4\" class=\"data row0 col4\" >11.716299</td>\n",
       "            </tr>\n",
       "            <tr>\n",
       "                        <th id=\"T_18e83_level0_row1\" class=\"row_heading level0 row1\" >55967</th>\n",
       "                        <td id=\"T_18e83_row1_col0\" class=\"data row1 col0\" >KUPhW</td>\n",
       "                        <td id=\"T_18e83_row1_col1\" class=\"data row1 col1\" >1.211150</td>\n",
       "                        <td id=\"T_18e83_row1_col2\" class=\"data row1 col2\" >3.176408</td>\n",
       "                        <td id=\"T_18e83_row1_col3\" class=\"data row1 col3\" >5.543540</td>\n",
       "                        <td id=\"T_18e83_row1_col4\" class=\"data row1 col4\" >132.831802</td>\n",
       "            </tr>\n",
       "            <tr>\n",
       "                        <th id=\"T_18e83_level0_row2\" class=\"row_heading level0 row2\" >11449</th>\n",
       "                        <td id=\"T_18e83_row2_col0\" class=\"data row2 col0\" >VF7Jo</td>\n",
       "                        <td id=\"T_18e83_row2_col1\" class=\"data row2 col1\" >2.122656</td>\n",
       "                        <td id=\"T_18e83_row2_col2\" class=\"data row2 col2\" >-0.858275</td>\n",
       "                        <td id=\"T_18e83_row2_col3\" class=\"data row2 col3\" >5.746001</td>\n",
       "                        <td id=\"T_18e83_row2_col4\" class=\"data row2 col4\" >181.716817</td>\n",
       "            </tr>\n",
       "            <tr>\n",
       "                        <th id=\"T_18e83_level0_row3\" class=\"row_heading level0 row3\" >49564</th>\n",
       "                        <td id=\"T_18e83_row3_col0\" class=\"data row3 col0\" >VF7Jo</td>\n",
       "                        <td id=\"T_18e83_row3_col1\" class=\"data row3 col1\" >-0.883115</td>\n",
       "                        <td id=\"T_18e83_row3_col2\" class=\"data row3 col2\" >0.560537</td>\n",
       "                        <td id=\"T_18e83_row3_col3\" class=\"data row3 col3\" >0.723601</td>\n",
       "                        <td id=\"T_18e83_row3_col4\" class=\"data row3 col4\" >136.233420</td>\n",
       "            </tr>\n",
       "            <tr>\n",
       "                        <th id=\"T_18e83_level0_row4\" class=\"row_heading level0 row4\" >44378</th>\n",
       "                        <td id=\"T_18e83_row4_col0\" class=\"data row4 col0\" >Vcm5J</td>\n",
       "                        <td id=\"T_18e83_row4_col1\" class=\"data row4 col1\" >-1.229484</td>\n",
       "                        <td id=\"T_18e83_row4_col2\" class=\"data row4 col2\" >-2.439204</td>\n",
       "                        <td id=\"T_18e83_row4_col3\" class=\"data row4 col3\" >1.222909</td>\n",
       "                        <td id=\"T_18e83_row4_col4\" class=\"data row4 col4\" >137.968290</td>\n",
       "            </tr>\n",
       "            <tr>\n",
       "                        <th id=\"T_18e83_level0_row5\" class=\"row_heading level0 row5\" >95090</th>\n",
       "                        <td id=\"T_18e83_row5_col0\" class=\"data row5 col0\" >Vcm5J</td>\n",
       "                        <td id=\"T_18e83_row5_col1\" class=\"data row5 col1\" >2.587702</td>\n",
       "                        <td id=\"T_18e83_row5_col2\" class=\"data row5 col2\" >1.986875</td>\n",
       "                        <td id=\"T_18e83_row5_col3\" class=\"data row5 col3\" >2.482245</td>\n",
       "                        <td id=\"T_18e83_row5_col4\" class=\"data row5 col4\" >92.327572</td>\n",
       "            </tr>\n",
       "    </tbody></table>"
      ],
      "text/plain": [
       "<pandas.io.formats.style.Styler at 0x7f2255ecf640>"
      ]
     },
     "execution_count": 9,
     "metadata": {},
     "output_type": "execute_result"
    }
   ],
   "source": [
    "# memeriksa duplikat berdasarkan id sumur minyak\n",
    "data2_id = data2[data2.duplicated(subset='id')]['id']\n",
    "data2.query('id in @data2_id').sort_values('id').head(6).style.set_caption('Region 2')"
   ]
  },
  {
   "cell_type": "markdown",
   "metadata": {},
   "source": [
    "**Kesimpulan**\n",
    "\n",
    "Seperti nya kita dapat menyimpulkan bahwa untuk `id` sumur minyak yang sama tetapi berada dititik wilayah yang berbeda, serta untuk hasil `product` juga terdapat perbedaan yang cukup jauh. Untuk itu kita tidak akan menghapus satupun nilai duplikat pada dataset yang kita miliki."
   ]
  },
  {
   "cell_type": "markdown",
   "metadata": {},
   "source": [
    "<div class=\"alert alert-success\">\n",
    "<b>Chamdani's comment v.1</b> <a class=\"tocSkip\"></a>\n",
    "\n",
    "Hebat, Kerja bagus!\n",
    "\n",
    "</div>"
   ]
  },
  {
   "cell_type": "markdown",
   "metadata": {},
   "source": [
    "## Distribusi Data"
   ]
  },
  {
   "cell_type": "code",
   "execution_count": 10,
   "metadata": {},
   "outputs": [
    {
     "data": {
      "image/png": "[encoded data removed]",
      "text/plain": [
       "<Figure size 1080x1080 with 12 Axes>"
      ]
     },
     "metadata": {
      "needs_background": "light"
     },
     "output_type": "display_data"
    }
   ],
   "source": [
    "# \n",
    "fig, axes = plt.subplots(3, 4, figsize=(15, 15))\n",
    "\n",
    "# visualisasi \n",
    "for i, df in enumerate(dataset):\n",
    "    df = df.drop('id', axis=1)\n",
    "    for j, col in enumerate(df.columns):\n",
    "        ax = axes[i, j]\n",
    "        sns.boxplot(data=df, x=col, ax=ax)\n",
    "        ax.set_title(f'{col}', size=15)\n",
    "# Tambahkan judul\n",
    "for i in range(3):\n",
    "    axes[i, 0].set_ylabel(f'Region {i}', rotation=0, ha='right', va='center', size=20)\n",
    "    \n",
    "# Adjust layout\n",
    "plt.tight_layout(rect=[0, 0, 1, 0.95])  # Rect parameter untuk memastikan judul tidak terpotong\n",
    "plt.show()"
   ]
  },
  {
   "cell_type": "markdown",
   "metadata": {},
   "source": [
    "Sepertinya untuk ketiga dataset yang kita miliki terdapat distribusi normal dan tidak. Selanjutnya kita akan mencoba melatih model."
   ]
  },
  {
   "cell_type": "markdown",
   "metadata": {},
   "source": [
    "<div class=\"alert alert-success\">\n",
    "<b>Chamdani's comment v.1</b> <a class=\"tocSkip\"></a>\n",
    "\n",
    "Hebat, Kerja bagus!\n",
    "\n",
    "</div>"
   ]
  },
  {
   "cell_type": "markdown",
   "metadata": {},
   "source": [
    "## Melatih Model Untuk Tiap Region\n",
    "\n",
    "Kita akan melatih model menggunakan algoritma LinearRegression dengan test size = 25% dan penskalaan untuk data yang akan kita gunakan adalah RobustScaler. Dalam langkah ini kita akan melihat metriks volume rata-rata aktual dan prediksi serta nilai RMSE untuk setiap region."
   ]
  },
  {
   "cell_type": "code",
   "execution_count": 11,
   "metadata": {},
   "outputs": [],
   "source": [
    "# membuat fungsi untuk melatih model\n",
    "def train_model_regression(dataset):\n",
    "    # membagi featurues dan target\n",
    "    features = dataset.drop(['id','product'], axis=1)\n",
    "    target = dataset['product']\n",
    "    \n",
    "    # splitting data training dan validation\n",
    "    features_train, features_valid, target_train, target_valid = train_test_split(features, target, \n",
    "                                                          test_size=.25, \n",
    "                                                          random_state = 12345\n",
    "                                                         )\n",
    "    # model & scaler\n",
    "    regressor = LinearRegression()\n",
    "    scaler = RobustScaler()\n",
    "    \n",
    "    model_reg = Pipeline([\n",
    "        ('scaler', scaler),\n",
    "        ('algo', regressor)\n",
    "    ])\n",
    "    # training and predictions\n",
    "    model_reg.fit(features_train, target_train)\n",
    "    predict_valid = model_reg.predict(features_valid)\n",
    "    rmse = np.sqrt(mean_squared_error(target_valid, predict_valid))\n",
    "    \n",
    "    print(f'{70*\"-\"}')\n",
    "    print(f'{\"Rata-rata volume aktual dari data validation\":47} | {target_valid.mean()}')\n",
    "    print(f'{70*\"-\"}')\n",
    "    print(f'{\"Rata-rata volume prediksi dari data validation\":47} | {predict_valid.mean()}')\n",
    "    print(f'{70*\"-\"}')\n",
    "    print(f'{\"Root Mean Squared Error (RMSE)\":47} | {rmse}')\n",
    "    \n",
    "    return target_valid, pd.Series(predict_valid, index=target_valid.index)"
   ]
  },
  {
   "cell_type": "markdown",
   "metadata": {},
   "source": [
    "<div class=\"alert alert-success\">\n",
    "<b>Chamdani's comment v.1</b> <a class=\"tocSkip\"></a>\n",
    "\n",
    "Hebat, Kerja bagus!\n",
    "\n",
    "</div>"
   ]
  },
  {
   "cell_type": "markdown",
   "metadata": {},
   "source": [
    "### Dataset Region 0"
   ]
  },
  {
   "cell_type": "code",
   "execution_count": 12,
   "metadata": {
    "scrolled": true
   },
   "outputs": [
    {
     "name": "stdout",
     "output_type": "stream",
     "text": [
      "                               Region 0                               \n",
      "----------------------------------------------------------------------\n",
      "Rata-rata volume aktual dari data validation    | 92.07859674082927\n",
      "----------------------------------------------------------------------\n",
      "Rata-rata volume prediksi dari data validation  | 92.59256778438035\n",
      "----------------------------------------------------------------------\n",
      "Root Mean Squared Error (RMSE)                  | 37.5794217150813\n"
     ]
    }
   ],
   "source": [
    "print(f'{\"Region 0\".center(70)}')\n",
    "region0_target_valid, region0_target_predict = train_model_regression(data0)"
   ]
  },
  {
   "cell_type": "markdown",
   "metadata": {},
   "source": [
    "<div class=\"alert alert-success\">\n",
    "<b>Chamdani's comment v.1</b> <a class=\"tocSkip\"></a>\n",
    "\n",
    "Hebat, Kerja bagus!\n",
    "\n",
    "</div>"
   ]
  },
  {
   "cell_type": "markdown",
   "metadata": {},
   "source": [
    "### Dataset Region 1"
   ]
  },
  {
   "cell_type": "code",
   "execution_count": 13,
   "metadata": {
    "scrolled": true
   },
   "outputs": [
    {
     "name": "stdout",
     "output_type": "stream",
     "text": [
      "                               Region 1                               \n",
      "----------------------------------------------------------------------\n",
      "Rata-rata volume aktual dari data validation    | 68.72313602435997\n",
      "----------------------------------------------------------------------\n",
      "Rata-rata volume prediksi dari data validation  | 68.728546895446\n",
      "----------------------------------------------------------------------\n",
      "Root Mean Squared Error (RMSE)                  | 0.893099286775617\n"
     ]
    }
   ],
   "source": [
    "print(f'{\"Region 1\".center(70)}')\n",
    "region1_target_valid, region1_target_predict = train_model_regression(data1)"
   ]
  },
  {
   "cell_type": "markdown",
   "metadata": {},
   "source": [
    "<div class=\"alert alert-success\">\n",
    "<b>Chamdani's comment v.1</b> <a class=\"tocSkip\"></a>\n",
    "\n",
    "Hebat, Kerja bagus!\n",
    "\n",
    "</div>"
   ]
  },
  {
   "cell_type": "markdown",
   "metadata": {},
   "source": [
    "### Dataset Region 2"
   ]
  },
  {
   "cell_type": "code",
   "execution_count": 14,
   "metadata": {},
   "outputs": [
    {
     "name": "stdout",
     "output_type": "stream",
     "text": [
      "                               Region 2                               \n",
      "----------------------------------------------------------------------\n",
      "Rata-rata volume aktual dari data validation    | 94.88423280885438\n",
      "----------------------------------------------------------------------\n",
      "Rata-rata volume prediksi dari data validation  | 94.96504596800489\n",
      "----------------------------------------------------------------------\n",
      "Root Mean Squared Error (RMSE)                  | 40.02970873393434\n"
     ]
    }
   ],
   "source": [
    "print(f'{\"Region 2\".center(70)}')\n",
    "region2_target_valid, region2_target_predict = train_model_regression(data2)"
   ]
  },
  {
   "cell_type": "markdown",
   "metadata": {},
   "source": [
    "**Kesimpulan**\n",
    "\n",
    "Setelah melatih model dan memprediksi untuk ketiga wilayah, untuk rata-rata nilai volume kita mendapatkan Region 2 yang paling terbesar dan disusul oleh Region 0. Sedangkan untuk Region 1 merupakan rata-rata nilai terendah, akan tetapi untuk Region 1 kita mendapatkan nilai RMSE sebesar 0.89. Disini artinya nilai RMSE yang kecil berarti model regresi linear kita sangat bagus dan mendekati nilai aktual dalam memprediksi. "
   ]
  },
  {
   "cell_type": "markdown",
   "metadata": {},
   "source": [
    "<div class=\"alert alert-success\">\n",
    "<b>Chamdani's comment v.1</b> <a class=\"tocSkip\"></a>\n",
    "\n",
    "Hebat, Kerja bagus!\n",
    "\n",
    "</div>"
   ]
  },
  {
   "cell_type": "markdown",
   "metadata": {},
   "source": [
    "## Menghitung Laba 200 Sumur Minyak Terbanyak\n",
    "\n",
    "Dari informasi yang kita dapat sebelumnya bahwa untuk membangun 200 sumur minyak dibutuhkan modal sebanyak 100 juta USD. Mari kita hitung modal untuk membangun 1 sumur minyak."
   ]
  },
  {
   "cell_type": "code",
   "execution_count": 15,
   "metadata": {},
   "outputs": [
    {
     "name": "stdout",
     "output_type": "stream",
     "text": [
      "$500,000.00\n"
     ]
    }
   ],
   "source": [
    "# menghitung investasi per sumur minyak\n",
    "invest_per_well = 100000000 / 200\n",
    "print(f'${invest_per_well:,.2f}')"
   ]
  },
  {
   "cell_type": "markdown",
   "metadata": {},
   "source": [
    "Modal untuk membangun 1 sumur adalah 500.000 USD. Kemudian pendapatan dari 1 unit (volume) produk adalah 4.500 USD. Mari kita hitung minimum volume yang harus dihasilkan setiap sumur untuk menghindari kerugian."
   ]
  },
  {
   "cell_type": "code",
   "execution_count": 16,
   "metadata": {},
   "outputs": [
    {
     "name": "stdout",
     "output_type": "stream",
     "text": [
      "111.1\n"
     ]
    }
   ],
   "source": [
    "# menghitung minimum volume yang dihasilkan\n",
    "minimum_volume =  invest_per_well/4500\n",
    "print(f'{minimum_volume:.1f}')"
   ]
  },
  {
   "cell_type": "code",
   "execution_count": 17,
   "metadata": {
    "scrolled": false
   },
   "outputs": [],
   "source": [
    "# menyimpan class target data validation kedalam sebuah list\n",
    "target_list = [region0_target_valid,region1_target_valid,region2_target_valid]\n",
    "# menyimpan data prediction ke dalam sebuah list\n",
    "prediction_list = [region0_target_predict,region1_target_predict,region2_target_predict]"
   ]
  },
  {
   "cell_type": "code",
   "execution_count": 18,
   "metadata": {},
   "outputs": [],
   "source": [
    "# fungsi untuk menghitung profit\n",
    "def profits_volumes_calculate(target, predictions, count):\n",
    "    preds_sorted = predictions.sort_values(ascending=False)\n",
    "    selected = target[preds_sorted.index][:count]\n",
    "    #\n",
    "    income = 4500*selected.sum() # pendapatan\n",
    "    profits = (4500*selected.sum()) - 100000000 # keuntungan = pendapatan - modal\n",
    "    volume = selected.sum() # total volume yang dihasilkan dari 200sumur\n",
    "    return income, profits, volume"
   ]
  },
  {
   "cell_type": "code",
   "execution_count": 19,
   "metadata": {},
   "outputs": [
    {
     "name": "stdout",
     "output_type": "stream",
     "text": [
      "------------------------Region 0-----------------------\n",
      "Total volume dari 200 sumur         |        29,601.84\n",
      "Pendapatan                          | $ 133,208,260.43\n",
      "Keuntungan                          | $  33,208,260.43\n",
      "-------------------------------------------------------\n",
      "------------------------Region 1-----------------------\n",
      "Total volume dari 200 sumur         |        27,589.08\n",
      "Pendapatan                          | $ 124,150,866.97\n",
      "Keuntungan                          | $  24,150,866.97\n",
      "-------------------------------------------------------\n",
      "------------------------Region 2-----------------------\n",
      "Total volume dari 200 sumur         |        28,245.22\n",
      "Pendapatan                          | $ 127,103,499.64\n",
      "Keuntungan                          | $  27,103,499.64\n",
      "-------------------------------------------------------\n"
     ]
    }
   ],
   "source": [
    "for target, pred, i in zip(target_list, prediction_list, range(len(prediction_list))):\n",
    "    income, profits, volume = profits_volumes_calculate(target, pred, 200)\n",
    "    print(f\"Region {i}\".center(55,'-'))\n",
    "    print(f\"{'Total volume dari 200 sumur':35} | {volume:>16,.2f}\")\n",
    "    print(f\"{'Pendapatan':35} | ${income:>15,.2f}\")\n",
    "    print(f\"{'Keuntungan':35} | ${profits:>15,.2f}\")\n",
    "    print(55*'-')"
   ]
  },
  {
   "cell_type": "markdown",
   "metadata": {},
   "source": [
    "**Kesimpulan**\n",
    "\n",
    "Dari 200 sumur minyak yang menghasilkan volume terbanyak, kita melihat bahwa Region 0 dengan keuntungan paling tinggi yaitu sekitar 33 juta USD dengan total volume sebanyak 29.601, sedangkan Region 1 mendapatkan yang terkecil dengan 24 juta USD dengan total volume sebanyak 27.589. \n"
   ]
  },
  {
   "cell_type": "markdown",
   "metadata": {},
   "source": [
    "<div class=\"alert alert-success\">\n",
    "<b>Chamdani's comment v.1</b> <a class=\"tocSkip\"></a>\n",
    "\n",
    "Hebat, Kerja bagus!\n",
    "\n",
    "</div>"
   ]
  },
  {
   "cell_type": "markdown",
   "metadata": {},
   "source": [
    "## Menghitung Pendapatan Rata-Rata dan Resiko Tiap Wilayah\n",
    "\n",
    "Untuk menghitung rata-rata kentungan dengan menggunakan teknik bootstrapping dengan 1.000 sampel dan nilai sub-sampel (n) adalah 500. "
   ]
  },
  {
   "cell_type": "code",
   "execution_count": 20,
   "metadata": {},
   "outputs": [],
   "source": [
    "# subsample\n",
    "sub_sample = 500"
   ]
  },
  {
   "cell_type": "code",
   "execution_count": 21,
   "metadata": {},
   "outputs": [],
   "source": [
    "# fungsi bootstrap\n",
    "def bootstrap(target, predictions, count):\n",
    "    state = np.random.RandomState(12345)\n",
    "    \n",
    "    values = []\n",
    "    for i in range(1000):\n",
    "        target_subsample = target.sample(n=sub_sample, replace=True, random_state = state)\n",
    "        pred_subsample = predictions[target_subsample.index]\n",
    "        # target dan predict subsample sebanyak 500 akan disort berdasarkan volume terbanyak 200baris\n",
    "        preds_sorted = pred_subsample.sort_values(ascending=False)\n",
    "        selected = target_subsample[preds_sorted.index][:count]\n",
    "        # perhitungan profits\n",
    "        profits = (4500*selected.sum()) - 100000000 # keuntungan = pendapatan - modal\n",
    "        # penambahan nilai pada variabel values dengan pendapatan hasil bootsrapping\n",
    "        values.append(profits)\n",
    "    return pd.Series(values)"
   ]
  },
  {
   "cell_type": "code",
   "execution_count": 22,
   "metadata": {
    "scrolled": false
   },
   "outputs": [
    {
     "data": {
      "image/png": "[encoded data removed]",
      "text/plain": [
       "<Figure size 800x480 with 1 Axes>"
      ]
     },
     "metadata": {
      "needs_background": "light"
     },
     "output_type": "display_data"
    }
   ],
   "source": [
    "region0_bootstrap_profit = bootstrap(region0_target_valid, region0_target_predict, 200)\n",
    "region1_bootstrap_profit = bootstrap(region1_target_valid, region1_target_predict, 200)\n",
    "region2_bootstrap_profit = bootstrap(region2_target_valid, region2_target_predict, 200)\n",
    "\n",
    "bootstrap_list = [region0_bootstrap_profit,region1_bootstrap_profit,region2_bootstrap_profit]\n",
    "# Plot satu plot dengan kurva KDE untuk mewakili ke-3 data\n",
    "plt.figure(figsize=(10, 6), dpi=80)\n",
    "kwargs = dict(hist_kws={'alpha': 0.6}, kde_kws={'linewidth': 2})\n",
    "for region, i in zip(bootstrap_list, range(len(bootstrap_list))):\n",
    "    sns.distplot(region, label=f'Region {i}', **kwargs)\n",
    "\n",
    "plt.axvline(0, c=\"r\", linestyle='--')\n",
    "plt.title('Distribusi Profit Dengan Bootstraping di Setiap Region')\n",
    "plt.legend()\n",
    "plt.show()"
   ]
  },
  {
   "cell_type": "markdown",
   "metadata": {},
   "source": [
    "Sepertinya Region 1 memiliki resiko kerugian yang paling rendah, karena dapat dilihat untuk nilai yang berada disebelah kiri garis vertikal merupakan kemungkinan resiko kerugian dari setiap wilayah."
   ]
  },
  {
   "cell_type": "markdown",
   "metadata": {},
   "source": [
    "<div class=\"alert alert-success\">\n",
    "<b>Chamdani's comment v.1</b> <a class=\"tocSkip\"></a>\n",
    "\n",
    "Hebat, Kerja bagus!\n",
    "\n",
    "</div>"
   ]
  },
  {
   "cell_type": "code",
   "execution_count": 23,
   "metadata": {},
   "outputs": [],
   "source": [
    "# variabel untuk menampung nilai\n",
    "regions = []\n",
    "confidence_interval = []\n",
    "lower_quantile = []\n",
    "avg_profits = []\n",
    "risk_of_losses = []\n",
    "\n",
    "for result, i in zip(bootstrap_list, range(len(bootstrap_list))):\n",
    "    lower = result.quantile(.025).round(2)\n",
    "    # persentil 97.5% (batas atas)\n",
    "    higher = result.quantile(.975).round(2)\n",
    "    negative_profits = (result < 0).mean()\n",
    "    # memasukkan nilai ke dalam variabel yang berisi list kosong\n",
    "    regions.append(f'Region {i}')\n",
    "    confidence_interval.append(f'{lower:,.2f} - {higher:,.2f}')\n",
    "    lower_quantile.append(f'{lower:,.2f}')\n",
    "    avg_profits.append(f'{result.mean():>16,.2f}')\n",
    "    risk_of_losses.append(f'{negative_profits:>15,.2%}')\n",
    "    #"
   ]
  },
  {
   "cell_type": "code",
   "execution_count": 24,
   "metadata": {},
   "outputs": [
    {
     "data": {
      "text/html": [
       "<div>\n",
       "<style scoped>\n",
       "    .dataframe tbody tr th:only-of-type {\n",
       "        vertical-align: middle;\n",
       "    }\n",
       "\n",
       "    .dataframe tbody tr th {\n",
       "        vertical-align: top;\n",
       "    }\n",
       "\n",
       "    .dataframe thead th {\n",
       "        text-align: right;\n",
       "    }\n",
       "</style>\n",
       "<table border=\"1\" class=\"dataframe\">\n",
       "  <thead>\n",
       "    <tr style=\"text-align: right;\">\n",
       "      <th></th>\n",
       "      <th>region</th>\n",
       "      <th>95%_confidence_interval</th>\n",
       "      <th>2.5%_quantile</th>\n",
       "      <th>average_profits_usd</th>\n",
       "      <th>risk_of_losses</th>\n",
       "    </tr>\n",
       "  </thead>\n",
       "  <tbody>\n",
       "    <tr>\n",
       "      <th>0</th>\n",
       "      <td>Region 0x</td>\n",
       "      <td>-1,020,900.95 - 9,479,763.53</td>\n",
       "      <td>-1,020,900.95</td>\n",
       "      <td>4,259,385.27</td>\n",
       "      <td>6.00%</td>\n",
       "    </tr>\n",
       "    <tr>\n",
       "      <th>1</th>\n",
       "      <td>Region 1x</td>\n",
       "      <td>688,732.25 - 9,315,475.91</td>\n",
       "      <td>688,732.25</td>\n",
       "      <td>5,152,227.73</td>\n",
       "      <td>1.00%</td>\n",
       "    </tr>\n",
       "    <tr>\n",
       "      <th>2</th>\n",
       "      <td>Region 2x</td>\n",
       "      <td>-1,288,805.47 - 9,697,069.54</td>\n",
       "      <td>-1,288,805.47</td>\n",
       "      <td>4,350,083.63</td>\n",
       "      <td>6.40%</td>\n",
       "    </tr>\n",
       "  </tbody>\n",
       "</table>\n",
       "</div>"
      ],
      "text/plain": [
       "      region       95%_confidence_interval  2.5%_quantile average_profits_usd  \\\n",
       "0  Region 0x  -1,020,900.95 - 9,479,763.53  -1,020,900.95        4,259,385.27   \n",
       "1  Region 1x     688,732.25 - 9,315,475.91     688,732.25        5,152,227.73   \n",
       "2  Region 2x  -1,288,805.47 - 9,697,069.54  -1,288,805.47        4,350,083.63   \n",
       "\n",
       "    risk_of_losses  \n",
       "0            6.00%  \n",
       "1            1.00%  \n",
       "2            6.40%  "
      ]
     },
     "execution_count": 24,
     "metadata": {},
     "output_type": "execute_result"
    }
   ],
   "source": [
    "# menampilkan laporan akhir\n",
    "report = pd.DataFrame({\n",
    "    'region' : regions,\n",
    "    '95%_confidence_interval' : confidence_interval,\n",
    "    '2.5%_quantile' : lower_quantile,\n",
    "    'average_profits_usd' : avg_profits,\n",
    "    'risk_of_losses' : risk_of_losses\n",
    "})\n",
    "report"
   ]
  },
  {
   "cell_type": "markdown",
   "metadata": {},
   "source": [
    "**Kesimpulan**\n",
    "\n",
    "Dari ketiga wilayah yang kita analisis, untuk **region 1** risiko kerugian dalam pembangunan 200 sumur paling rendah hanya bernilai 1% dan rata-rata keuntungan paling besar sebanyak `5,152,227` USD kemudian nilai selang kepercayaan 95% nya berada diangka `688,732 - 9,315,475` dan dengan model linear regresi kita mendapatkan hasil yang sangat baik dimana RMSE-nya sebesar 0.89, dimana artinya model memprediksi hampir mendekati nilai aktual. Menurut pendapat saya, perlu dilakukan penelitian lebih lanjut karena **region 1** memiliki volume produk rata-rata per sumur paling rendah berdasarkan penghasilan 200 sumur teratas, namun model memprediksi nilai dengan lebih baik.\n",
    "\n",
    "Oleh karena itu, ada kemungkinan bahwa nilai risiko yang lebih tinggi/nilai keuntungan yang lebih rendah di region lain disebabkan oleh kinerja buruk dari model pada dataset tertentu."
   ]
  },
  {
   "cell_type": "markdown",
   "metadata": {},
   "source": [
    "<div class=\"alert alert-success\">\n",
    "<b>Chamdani's comment v.1</b> <a class=\"tocSkip\"></a>\n",
    "\n",
    "Hebat, Kerja bagus!\n",
    "\n",
    "</div>"
   ]
  },
  {
   "cell_type": "code",
   "execution_count": 27,
   "metadata": {},
   "outputs": [
    {
     "name": "stdout",
     "output_type": "stream",
     "text": [
      "(4087322.0706869857, 4431448.467524861)\n",
      "rata-rata: 4259385.269105923\n"
     ]
    }
   ],
   "source": [
    "region0_bootstrap_profit = bootstrap(region0_target_valid, region0_target_predict, 200)\n",
    "\n",
    "confidence_interval = st.t.interval(0.95, len(region0_bootstrap_profit)-1, loc=region0_bootstrap_profit.mean(), scale=region0_bootstrap_profit.sem())\n",
    "print(f\"{confidence_interval}\")\n",
    "\n",
    "print(f\"rata-rata: {region0_bootstrap_profit.mean()}\")"
   ]
  },
  {
   "cell_type": "code",
   "execution_count": null,
   "metadata": {},
   "outputs": [],
   "source": []
  }
 ],
 "metadata": {
  "kernelspec": {
   "display_name": "Python 3 (ipykernel)",
   "language": "python",
   "name": "python3"
  },
  "language_info": {
   "codemirror_mode": {
    "name": "ipython",
    "version": 3
   },
   "file_extension": ".py",
   "mimetype": "text/x-python",
   "name": "python",
   "nbconvert_exporter": "python",
   "pygments_lexer": "ipython3",
   "version": "3.11.5"
  },
  "toc": {
   "base_numbering": 1,
   "nav_menu": {},
   "number_sections": true,
   "sideBar": true,
   "skip_h1_title": true,
   "title_cell": "Table of Contents",
   "title_sidebar": "Contents",
   "toc_cell": false,
   "toc_position": {
    "height": "calc(100% - 180px)",
    "left": "10px",
    "top": "150px",
    "width": "268.195px"
   },
   "toc_section_display": true,
   "toc_window_display": true
  }
 },
 "nbformat": 4,
 "nbformat_minor": 2
}
