{
 "cells": [
  {
   "cell_type": "markdown",
   "metadata": {},
   "source": [
    "<div style=\"border:solid black 2px; padding: 20px\"><h1 style=\"color:black; margin-bottom:20px\">Reviewer's comment v1</h1>\n",
    "Halo Teguh !\n",
    "\n",
    "Perkenalkan saya disini sebagai Code Reviewers, disini dengan senang hati saya akan mereview tugas Teguh ya.\n",
    "\n",
    "Saya akan memberikan beberapa komen seperti dibawah ini, tolong jangan dipindah, dirubah, maupun dihapus ya.\n",
    "\n",
    "Komen yang saya berikan akan muncul dalam warna hijau, kuning, atau pun merah seperti ini:\n",
    "\n",
    "<div class=\"alert alert-success\">\n",
    "<b>Code Reviewers's comment v.1</b> <a class=\"tocSkip\"></a>\n",
    "\n",
    "Bagus, code yang dijalankan sudah sesuai dengan instruksi dari project.\n",
    "\n",
    "</div>\n",
    "\n",
    "<div class=\"alert alert-warning\">\n",
    "<b>Code Reviewers's comment v.1</b> <a class=\"tocSkip\"></a>\n",
    "\n",
    "Terdapat beberapa catatan.\n",
    "\n",
    "</div>\n",
    "\n",
    "<div class=\"alert alert-danger\">\n",
    "<b>Code Reviewers's comment v.1</b> <a class=\"tocSkip\"></a>\n",
    "\n",
    "Perlu beberapa perbaikan\n",
    "\n",
    "</div>\n",
    "\n",
    "Dan tentu saja Teguh dapat menjawab saya dengan menggunakan ini\n",
    "\n",
    "<div class=\"alert alert-block alert-info\">\n",
    "<b>Student answer.</b> <a class=\"tocSkip\"></a>\n",
    "    \n",
    "Baik kak\n",
    "</div>"
   ]
  },
  {
   "cell_type": "markdown",
   "metadata": {},
   "source": [
    "Rusty Bargain adalah perusahaan jual beli mobil bekas yang sedang mengembangkan sebuah aplikasi untuk menarik pembeli baru. Dalam aplikasi tersebut, kamu bisa dengan cepat mengetahui nilai pasar mobilmu. Kamu memiliki akses ke data historis, spesifikasi teknis kendaraan, versi model kendaraan, dan harga kendaraan. Tugasmu adalah membuat suatu model yang mampu menentukan nilai pasar mobil.\n",
    "Rusty Bargain tertarik pada:\n",
    "\n",
    "- kualitas prediksi;\n",
    "- kecepatan model dalam memprediksi;\n",
    "- waktu yang diperlukan untuk melatih model"
   ]
  },
  {
   "cell_type": "markdown",
   "metadata": {},
   "source": [
    "<div class=\"alert alert-success\">\n",
    "<b>Code Reviewers's comment v.1</b> <a class=\"tocSkip\"></a>\n",
    "\n",
    "Bagus, code yang dijalankan sudah sesuai dengan instruksi dari project.\n",
    "\n",
    "</div>"
   ]
  },
  {
   "cell_type": "markdown",
   "metadata": {},
   "source": [
    "## Persiapan Data"
   ]
  },
  {
   "cell_type": "markdown",
   "metadata": {},
   "source": [
    "### Mengimport Library"
   ]
  },
  {
   "cell_type": "code",
   "execution_count": 1,
   "metadata": {},
   "outputs": [],
   "source": [
    "import pandas as pd\n",
    "import numpy as np\n",
    "import random as rand\n",
    "import seaborn as sns\n",
    "import matplotlib.pyplot as plt\n",
    "import time\n",
    "from scipy.stats import randint\n",
    "\n",
    "from sklearn.pipeline import Pipeline\n",
    "from sklearn.preprocessing import RobustScaler, OneHotEncoder, OrdinalEncoder\n",
    "from sklearn.model_selection import RandomizedSearchCV, train_test_split, KFold, cross_val_score\n",
    "from sklearn.compose import ColumnTransformer\n",
    "from sklearn.metrics import make_scorer, mean_squared_error\n",
    "\n",
    "from sklearn.ensemble import RandomForestRegressor\n",
    "from sklearn.linear_model import LinearRegression\n",
    "from sklearn.tree import DecisionTreeRegressor\n",
    "from sklearn.neighbors import KNeighborsRegressor\n",
    "\n",
    "from catboost import CatBoostRegressor, Pool\n",
    "from lightgbm import LGBMRegressor\n",
    "from xgboost import XGBRegressor"
   ]
  },
  {
   "cell_type": "markdown",
   "metadata": {},
   "source": [
    "**Library Fungsi**\n"
   ]
  },
  {
   "cell_type": "code",
   "execution_count": 2,
   "metadata": {},
   "outputs": [],
   "source": [
    "# fungsi untuk laporan missing value\n",
    "def missing_report(data):\n",
    "    report = data.isna().sum().to_frame(name='count')\n",
    "    report['percentage'] = (report['count'] / len(data) * 100).round(2).astype('str')+'%'\n",
    "    return report\n",
    "\n",
    "# fungsi untuk menghapus outlier\n",
    "def remove_outlier(data, col):\n",
    "    Q1 = data[col].quantile(.25)\n",
    "    Q3 = data[col].quantile(.75)\n",
    "    IQR = Q3 - Q1\n",
    "    #\n",
    "    upper_whisker = Q3 + 1.5 * IQR\n",
    "    lower_whisker = Q1 - 1.5 * IQR\n",
    "    #\n",
    "    data = data[(data[col] >= lower_whisker) & (data[col] <= upper_whisker)]\n",
    "    return data"
   ]
  },
  {
   "cell_type": "markdown",
   "metadata": {},
   "source": [
    "### Memuat dan Pemahaman Data"
   ]
  },
  {
   "cell_type": "code",
   "execution_count": 3,
   "metadata": {},
   "outputs": [],
   "source": [
    "# memuat data\n",
    "df = pd.read_csv('/datasets/car_data.csv')"
   ]
  },
  {
   "cell_type": "code",
   "execution_count": 4,
   "metadata": {},
   "outputs": [
    {
     "name": "stdout",
     "output_type": "stream",
     "text": [
      "<class 'pandas.core.frame.DataFrame'>\n",
      "RangeIndex: 354369 entries, 0 to 354368\n",
      "Data columns (total 16 columns):\n",
      " #   Column             Non-Null Count   Dtype \n",
      "---  ------             --------------   ----- \n",
      " 0   DateCrawled        354369 non-null  object\n",
      " 1   Price              354369 non-null  int64 \n",
      " 2   VehicleType        316879 non-null  object\n",
      " 3   RegistrationYear   354369 non-null  int64 \n",
      " 4   Gearbox            334536 non-null  object\n",
      " 5   Power              354369 non-null  int64 \n",
      " 6   Model              334664 non-null  object\n",
      " 7   Mileage            354369 non-null  int64 \n",
      " 8   RegistrationMonth  354369 non-null  int64 \n",
      " 9   FuelType           321474 non-null  object\n",
      " 10  Brand              354369 non-null  object\n",
      " 11  NotRepaired        283215 non-null  object\n",
      " 12  DateCreated        354369 non-null  object\n",
      " 13  NumberOfPictures   354369 non-null  int64 \n",
      " 14  PostalCode         354369 non-null  int64 \n",
      " 15  LastSeen           354369 non-null  object\n",
      "dtypes: int64(7), object(9)\n",
      "memory usage: 43.3+ MB\n"
     ]
    }
   ],
   "source": [
    "# menampilkan informasi umum dari data\n",
    "df.info()"
   ]
  },
  {
   "cell_type": "markdown",
   "metadata": {},
   "source": [
    "Nama-nama kolom pada dataset sepertinya perlu dirubah."
   ]
  },
  {
   "cell_type": "code",
   "execution_count": 5,
   "metadata": {},
   "outputs": [
    {
     "data": {
      "text/html": [
       "<div>\n",
       "<style scoped>\n",
       "    .dataframe tbody tr th:only-of-type {\n",
       "        vertical-align: middle;\n",
       "    }\n",
       "\n",
       "    .dataframe tbody tr th {\n",
       "        vertical-align: top;\n",
       "    }\n",
       "\n",
       "    .dataframe thead th {\n",
       "        text-align: right;\n",
       "    }\n",
       "</style>\n",
       "<table border=\"1\" class=\"dataframe\">\n",
       "  <thead>\n",
       "    <tr style=\"text-align: right;\">\n",
       "      <th></th>\n",
       "      <th>count</th>\n",
       "      <th>mean</th>\n",
       "      <th>std</th>\n",
       "      <th>min</th>\n",
       "      <th>25%</th>\n",
       "      <th>50%</th>\n",
       "      <th>75%</th>\n",
       "      <th>max</th>\n",
       "    </tr>\n",
       "  </thead>\n",
       "  <tbody>\n",
       "    <tr>\n",
       "      <th>Price</th>\n",
       "      <td>354369.0</td>\n",
       "      <td>4416.656776</td>\n",
       "      <td>4514.158514</td>\n",
       "      <td>0.0</td>\n",
       "      <td>1050.0</td>\n",
       "      <td>2700.0</td>\n",
       "      <td>6400.0</td>\n",
       "      <td>20000.0</td>\n",
       "    </tr>\n",
       "    <tr>\n",
       "      <th>RegistrationYear</th>\n",
       "      <td>354369.0</td>\n",
       "      <td>2004.234448</td>\n",
       "      <td>90.227958</td>\n",
       "      <td>1000.0</td>\n",
       "      <td>1999.0</td>\n",
       "      <td>2003.0</td>\n",
       "      <td>2008.0</td>\n",
       "      <td>9999.0</td>\n",
       "    </tr>\n",
       "    <tr>\n",
       "      <th>Power</th>\n",
       "      <td>354369.0</td>\n",
       "      <td>110.094337</td>\n",
       "      <td>189.850405</td>\n",
       "      <td>0.0</td>\n",
       "      <td>69.0</td>\n",
       "      <td>105.0</td>\n",
       "      <td>143.0</td>\n",
       "      <td>20000.0</td>\n",
       "    </tr>\n",
       "    <tr>\n",
       "      <th>Mileage</th>\n",
       "      <td>354369.0</td>\n",
       "      <td>128211.172535</td>\n",
       "      <td>37905.341530</td>\n",
       "      <td>5000.0</td>\n",
       "      <td>125000.0</td>\n",
       "      <td>150000.0</td>\n",
       "      <td>150000.0</td>\n",
       "      <td>150000.0</td>\n",
       "    </tr>\n",
       "    <tr>\n",
       "      <th>RegistrationMonth</th>\n",
       "      <td>354369.0</td>\n",
       "      <td>5.714645</td>\n",
       "      <td>3.726421</td>\n",
       "      <td>0.0</td>\n",
       "      <td>3.0</td>\n",
       "      <td>6.0</td>\n",
       "      <td>9.0</td>\n",
       "      <td>12.0</td>\n",
       "    </tr>\n",
       "    <tr>\n",
       "      <th>NumberOfPictures</th>\n",
       "      <td>354369.0</td>\n",
       "      <td>0.000000</td>\n",
       "      <td>0.000000</td>\n",
       "      <td>0.0</td>\n",
       "      <td>0.0</td>\n",
       "      <td>0.0</td>\n",
       "      <td>0.0</td>\n",
       "      <td>0.0</td>\n",
       "    </tr>\n",
       "    <tr>\n",
       "      <th>PostalCode</th>\n",
       "      <td>354369.0</td>\n",
       "      <td>50508.689087</td>\n",
       "      <td>25783.096248</td>\n",
       "      <td>1067.0</td>\n",
       "      <td>30165.0</td>\n",
       "      <td>49413.0</td>\n",
       "      <td>71083.0</td>\n",
       "      <td>99998.0</td>\n",
       "    </tr>\n",
       "  </tbody>\n",
       "</table>\n",
       "</div>"
      ],
      "text/plain": [
       "                      count           mean           std     min       25%  \\\n",
       "Price              354369.0    4416.656776   4514.158514     0.0    1050.0   \n",
       "RegistrationYear   354369.0    2004.234448     90.227958  1000.0    1999.0   \n",
       "Power              354369.0     110.094337    189.850405     0.0      69.0   \n",
       "Mileage            354369.0  128211.172535  37905.341530  5000.0  125000.0   \n",
       "RegistrationMonth  354369.0       5.714645      3.726421     0.0       3.0   \n",
       "NumberOfPictures   354369.0       0.000000      0.000000     0.0       0.0   \n",
       "PostalCode         354369.0   50508.689087  25783.096248  1067.0   30165.0   \n",
       "\n",
       "                        50%       75%       max  \n",
       "Price                2700.0    6400.0   20000.0  \n",
       "RegistrationYear     2003.0    2008.0    9999.0  \n",
       "Power                 105.0     143.0   20000.0  \n",
       "Mileage            150000.0  150000.0  150000.0  \n",
       "RegistrationMonth       6.0       9.0      12.0  \n",
       "NumberOfPictures        0.0       0.0       0.0  \n",
       "PostalCode          49413.0   71083.0   99998.0  "
      ]
     },
     "metadata": {},
     "output_type": "display_data"
    },
    {
     "data": {
      "text/html": [
       "<div>\n",
       "<style scoped>\n",
       "    .dataframe tbody tr th:only-of-type {\n",
       "        vertical-align: middle;\n",
       "    }\n",
       "\n",
       "    .dataframe tbody tr th {\n",
       "        vertical-align: top;\n",
       "    }\n",
       "\n",
       "    .dataframe thead th {\n",
       "        text-align: right;\n",
       "    }\n",
       "</style>\n",
       "<table border=\"1\" class=\"dataframe\">\n",
       "  <thead>\n",
       "    <tr style=\"text-align: right;\">\n",
       "      <th></th>\n",
       "      <th>count</th>\n",
       "      <th>unique</th>\n",
       "      <th>top</th>\n",
       "      <th>freq</th>\n",
       "    </tr>\n",
       "  </thead>\n",
       "  <tbody>\n",
       "    <tr>\n",
       "      <th>DateCrawled</th>\n",
       "      <td>354369</td>\n",
       "      <td>15470</td>\n",
       "      <td>05/03/2016 14:25</td>\n",
       "      <td>66</td>\n",
       "    </tr>\n",
       "    <tr>\n",
       "      <th>VehicleType</th>\n",
       "      <td>316879</td>\n",
       "      <td>8</td>\n",
       "      <td>sedan</td>\n",
       "      <td>91457</td>\n",
       "    </tr>\n",
       "    <tr>\n",
       "      <th>Gearbox</th>\n",
       "      <td>334536</td>\n",
       "      <td>2</td>\n",
       "      <td>manual</td>\n",
       "      <td>268251</td>\n",
       "    </tr>\n",
       "    <tr>\n",
       "      <th>Model</th>\n",
       "      <td>334664</td>\n",
       "      <td>250</td>\n",
       "      <td>golf</td>\n",
       "      <td>29232</td>\n",
       "    </tr>\n",
       "    <tr>\n",
       "      <th>FuelType</th>\n",
       "      <td>321474</td>\n",
       "      <td>7</td>\n",
       "      <td>petrol</td>\n",
       "      <td>216352</td>\n",
       "    </tr>\n",
       "    <tr>\n",
       "      <th>Brand</th>\n",
       "      <td>354369</td>\n",
       "      <td>40</td>\n",
       "      <td>volkswagen</td>\n",
       "      <td>77013</td>\n",
       "    </tr>\n",
       "    <tr>\n",
       "      <th>NotRepaired</th>\n",
       "      <td>283215</td>\n",
       "      <td>2</td>\n",
       "      <td>no</td>\n",
       "      <td>247161</td>\n",
       "    </tr>\n",
       "    <tr>\n",
       "      <th>DateCreated</th>\n",
       "      <td>354369</td>\n",
       "      <td>109</td>\n",
       "      <td>03/04/2016 00:00</td>\n",
       "      <td>13719</td>\n",
       "    </tr>\n",
       "    <tr>\n",
       "      <th>LastSeen</th>\n",
       "      <td>354369</td>\n",
       "      <td>18592</td>\n",
       "      <td>07/04/2016 07:16</td>\n",
       "      <td>654</td>\n",
       "    </tr>\n",
       "  </tbody>\n",
       "</table>\n",
       "</div>"
      ],
      "text/plain": [
       "              count unique               top    freq\n",
       "DateCrawled  354369  15470  05/03/2016 14:25      66\n",
       "VehicleType  316879      8             sedan   91457\n",
       "Gearbox      334536      2            manual  268251\n",
       "Model        334664    250              golf   29232\n",
       "FuelType     321474      7            petrol  216352\n",
       "Brand        354369     40        volkswagen   77013\n",
       "NotRepaired  283215      2                no  247161\n",
       "DateCreated  354369    109  03/04/2016 00:00   13719\n",
       "LastSeen     354369  18592  07/04/2016 07:16     654"
      ]
     },
     "metadata": {},
     "output_type": "display_data"
    }
   ],
   "source": [
    "# statistika deskriptif data\n",
    "display(df.describe().transpose(),\n",
    "       df.describe(include='object').transpose())"
   ]
  },
  {
   "cell_type": "code",
   "execution_count": 6,
   "metadata": {},
   "outputs": [
    {
     "data": {
      "text/plain": [
       "(354369, 16)"
      ]
     },
     "execution_count": 6,
     "metadata": {},
     "output_type": "execute_result"
    }
   ],
   "source": [
    "# ukuran dataset\n",
    "df.shape"
   ]
  },
  {
   "cell_type": "code",
   "execution_count": 7,
   "metadata": {},
   "outputs": [
    {
     "data": {
      "text/plain": [
       "262"
      ]
     },
     "execution_count": 7,
     "metadata": {},
     "output_type": "execute_result"
    }
   ],
   "source": [
    "# memeriksa duplikat\n",
    "df.duplicated().sum()"
   ]
  },
  {
   "cell_type": "code",
   "execution_count": 8,
   "metadata": {},
   "outputs": [],
   "source": [
    "# menghapus duplikat\n",
    "df.drop_duplicates(inplace=True)"
   ]
  },
  {
   "cell_type": "code",
   "execution_count": 9,
   "metadata": {},
   "outputs": [
    {
     "data": {
      "text/html": [
       "<div>\n",
       "<style scoped>\n",
       "    .dataframe tbody tr th:only-of-type {\n",
       "        vertical-align: middle;\n",
       "    }\n",
       "\n",
       "    .dataframe tbody tr th {\n",
       "        vertical-align: top;\n",
       "    }\n",
       "\n",
       "    .dataframe thead th {\n",
       "        text-align: right;\n",
       "    }\n",
       "</style>\n",
       "<table border=\"1\" class=\"dataframe\">\n",
       "  <thead>\n",
       "    <tr style=\"text-align: right;\">\n",
       "      <th></th>\n",
       "      <th>count</th>\n",
       "      <th>percentage</th>\n",
       "    </tr>\n",
       "  </thead>\n",
       "  <tbody>\n",
       "    <tr>\n",
       "      <th>DateCrawled</th>\n",
       "      <td>0</td>\n",
       "      <td>0.0%</td>\n",
       "    </tr>\n",
       "    <tr>\n",
       "      <th>Price</th>\n",
       "      <td>0</td>\n",
       "      <td>0.0%</td>\n",
       "    </tr>\n",
       "    <tr>\n",
       "      <th>VehicleType</th>\n",
       "      <td>37484</td>\n",
       "      <td>10.59%</td>\n",
       "    </tr>\n",
       "    <tr>\n",
       "      <th>RegistrationYear</th>\n",
       "      <td>0</td>\n",
       "      <td>0.0%</td>\n",
       "    </tr>\n",
       "    <tr>\n",
       "      <th>Gearbox</th>\n",
       "      <td>19830</td>\n",
       "      <td>5.6%</td>\n",
       "    </tr>\n",
       "    <tr>\n",
       "      <th>Power</th>\n",
       "      <td>0</td>\n",
       "      <td>0.0%</td>\n",
       "    </tr>\n",
       "    <tr>\n",
       "      <th>Model</th>\n",
       "      <td>19701</td>\n",
       "      <td>5.56%</td>\n",
       "    </tr>\n",
       "    <tr>\n",
       "      <th>Mileage</th>\n",
       "      <td>0</td>\n",
       "      <td>0.0%</td>\n",
       "    </tr>\n",
       "    <tr>\n",
       "      <th>RegistrationMonth</th>\n",
       "      <td>0</td>\n",
       "      <td>0.0%</td>\n",
       "    </tr>\n",
       "    <tr>\n",
       "      <th>FuelType</th>\n",
       "      <td>32889</td>\n",
       "      <td>9.29%</td>\n",
       "    </tr>\n",
       "    <tr>\n",
       "      <th>Brand</th>\n",
       "      <td>0</td>\n",
       "      <td>0.0%</td>\n",
       "    </tr>\n",
       "    <tr>\n",
       "      <th>NotRepaired</th>\n",
       "      <td>71145</td>\n",
       "      <td>20.09%</td>\n",
       "    </tr>\n",
       "    <tr>\n",
       "      <th>DateCreated</th>\n",
       "      <td>0</td>\n",
       "      <td>0.0%</td>\n",
       "    </tr>\n",
       "    <tr>\n",
       "      <th>NumberOfPictures</th>\n",
       "      <td>0</td>\n",
       "      <td>0.0%</td>\n",
       "    </tr>\n",
       "    <tr>\n",
       "      <th>PostalCode</th>\n",
       "      <td>0</td>\n",
       "      <td>0.0%</td>\n",
       "    </tr>\n",
       "    <tr>\n",
       "      <th>LastSeen</th>\n",
       "      <td>0</td>\n",
       "      <td>0.0%</td>\n",
       "    </tr>\n",
       "  </tbody>\n",
       "</table>\n",
       "</div>"
      ],
      "text/plain": [
       "                   count percentage\n",
       "DateCrawled            0       0.0%\n",
       "Price                  0       0.0%\n",
       "VehicleType        37484     10.59%\n",
       "RegistrationYear       0       0.0%\n",
       "Gearbox            19830       5.6%\n",
       "Power                  0       0.0%\n",
       "Model              19701      5.56%\n",
       "Mileage                0       0.0%\n",
       "RegistrationMonth      0       0.0%\n",
       "FuelType           32889      9.29%\n",
       "Brand                  0       0.0%\n",
       "NotRepaired        71145     20.09%\n",
       "DateCreated            0       0.0%\n",
       "NumberOfPictures       0       0.0%\n",
       "PostalCode             0       0.0%\n",
       "LastSeen               0       0.0%"
      ]
     },
     "execution_count": 9,
     "metadata": {},
     "output_type": "execute_result"
    }
   ],
   "source": [
    "# menghitung missing value\n",
    "missing_report(df)"
   ]
  },
  {
   "cell_type": "code",
   "execution_count": 10,
   "metadata": {},
   "outputs": [
    {
     "data": {
      "text/html": [
       "<div>\n",
       "<style scoped>\n",
       "    .dataframe tbody tr th:only-of-type {\n",
       "        vertical-align: middle;\n",
       "    }\n",
       "\n",
       "    .dataframe tbody tr th {\n",
       "        vertical-align: top;\n",
       "    }\n",
       "\n",
       "    .dataframe thead th {\n",
       "        text-align: right;\n",
       "    }\n",
       "</style>\n",
       "<table border=\"1\" class=\"dataframe\">\n",
       "  <thead>\n",
       "    <tr style=\"text-align: right;\">\n",
       "      <th></th>\n",
       "      <th>DateCrawled</th>\n",
       "      <th>Price</th>\n",
       "      <th>VehicleType</th>\n",
       "      <th>RegistrationYear</th>\n",
       "      <th>Gearbox</th>\n",
       "      <th>Power</th>\n",
       "      <th>Model</th>\n",
       "      <th>Mileage</th>\n",
       "      <th>RegistrationMonth</th>\n",
       "      <th>FuelType</th>\n",
       "      <th>Brand</th>\n",
       "      <th>NotRepaired</th>\n",
       "      <th>DateCreated</th>\n",
       "      <th>NumberOfPictures</th>\n",
       "      <th>PostalCode</th>\n",
       "      <th>LastSeen</th>\n",
       "    </tr>\n",
       "  </thead>\n",
       "  <tbody>\n",
       "    <tr>\n",
       "      <th>0</th>\n",
       "      <td>24/03/2016 11:52</td>\n",
       "      <td>480</td>\n",
       "      <td>NaN</td>\n",
       "      <td>1993</td>\n",
       "      <td>manual</td>\n",
       "      <td>0</td>\n",
       "      <td>golf</td>\n",
       "      <td>150000</td>\n",
       "      <td>0</td>\n",
       "      <td>petrol</td>\n",
       "      <td>volkswagen</td>\n",
       "      <td>NaN</td>\n",
       "      <td>24/03/2016 00:00</td>\n",
       "      <td>0</td>\n",
       "      <td>70435</td>\n",
       "      <td>07/04/2016 03:16</td>\n",
       "    </tr>\n",
       "    <tr>\n",
       "      <th>1</th>\n",
       "      <td>24/03/2016 10:58</td>\n",
       "      <td>18300</td>\n",
       "      <td>coupe</td>\n",
       "      <td>2011</td>\n",
       "      <td>manual</td>\n",
       "      <td>190</td>\n",
       "      <td>NaN</td>\n",
       "      <td>125000</td>\n",
       "      <td>5</td>\n",
       "      <td>gasoline</td>\n",
       "      <td>audi</td>\n",
       "      <td>yes</td>\n",
       "      <td>24/03/2016 00:00</td>\n",
       "      <td>0</td>\n",
       "      <td>66954</td>\n",
       "      <td>07/04/2016 01:46</td>\n",
       "    </tr>\n",
       "    <tr>\n",
       "      <th>2</th>\n",
       "      <td>14/03/2016 12:52</td>\n",
       "      <td>9800</td>\n",
       "      <td>suv</td>\n",
       "      <td>2004</td>\n",
       "      <td>auto</td>\n",
       "      <td>163</td>\n",
       "      <td>grand</td>\n",
       "      <td>125000</td>\n",
       "      <td>8</td>\n",
       "      <td>gasoline</td>\n",
       "      <td>jeep</td>\n",
       "      <td>NaN</td>\n",
       "      <td>14/03/2016 00:00</td>\n",
       "      <td>0</td>\n",
       "      <td>90480</td>\n",
       "      <td>05/04/2016 12:47</td>\n",
       "    </tr>\n",
       "    <tr>\n",
       "      <th>3</th>\n",
       "      <td>17/03/2016 16:54</td>\n",
       "      <td>1500</td>\n",
       "      <td>small</td>\n",
       "      <td>2001</td>\n",
       "      <td>manual</td>\n",
       "      <td>75</td>\n",
       "      <td>golf</td>\n",
       "      <td>150000</td>\n",
       "      <td>6</td>\n",
       "      <td>petrol</td>\n",
       "      <td>volkswagen</td>\n",
       "      <td>no</td>\n",
       "      <td>17/03/2016 00:00</td>\n",
       "      <td>0</td>\n",
       "      <td>91074</td>\n",
       "      <td>17/03/2016 17:40</td>\n",
       "    </tr>\n",
       "    <tr>\n",
       "      <th>4</th>\n",
       "      <td>31/03/2016 17:25</td>\n",
       "      <td>3600</td>\n",
       "      <td>small</td>\n",
       "      <td>2008</td>\n",
       "      <td>manual</td>\n",
       "      <td>69</td>\n",
       "      <td>fabia</td>\n",
       "      <td>90000</td>\n",
       "      <td>7</td>\n",
       "      <td>gasoline</td>\n",
       "      <td>skoda</td>\n",
       "      <td>no</td>\n",
       "      <td>31/03/2016 00:00</td>\n",
       "      <td>0</td>\n",
       "      <td>60437</td>\n",
       "      <td>06/04/2016 10:17</td>\n",
       "    </tr>\n",
       "  </tbody>\n",
       "</table>\n",
       "</div>"
      ],
      "text/plain": [
       "        DateCrawled  Price VehicleType  RegistrationYear Gearbox  Power  \\\n",
       "0  24/03/2016 11:52    480         NaN              1993  manual      0   \n",
       "1  24/03/2016 10:58  18300       coupe              2011  manual    190   \n",
       "2  14/03/2016 12:52   9800         suv              2004    auto    163   \n",
       "3  17/03/2016 16:54   1500       small              2001  manual     75   \n",
       "4  31/03/2016 17:25   3600       small              2008  manual     69   \n",
       "\n",
       "   Model  Mileage  RegistrationMonth  FuelType       Brand NotRepaired  \\\n",
       "0   golf   150000                  0    petrol  volkswagen         NaN   \n",
       "1    NaN   125000                  5  gasoline        audi         yes   \n",
       "2  grand   125000                  8  gasoline        jeep         NaN   \n",
       "3   golf   150000                  6    petrol  volkswagen          no   \n",
       "4  fabia    90000                  7  gasoline       skoda          no   \n",
       "\n",
       "        DateCreated  NumberOfPictures  PostalCode          LastSeen  \n",
       "0  24/03/2016 00:00                 0       70435  07/04/2016 03:16  \n",
       "1  24/03/2016 00:00                 0       66954  07/04/2016 01:46  \n",
       "2  14/03/2016 00:00                 0       90480  05/04/2016 12:47  \n",
       "3  17/03/2016 00:00                 0       91074  17/03/2016 17:40  \n",
       "4  31/03/2016 00:00                 0       60437  06/04/2016 10:17  "
      ]
     },
     "execution_count": 10,
     "metadata": {},
     "output_type": "execute_result"
    }
   ],
   "source": [
    "# menampilkan 5 baris pertama\n",
    "df.head(5)"
   ]
  },
  {
   "cell_type": "markdown",
   "metadata": {},
   "source": [
    "**Insight**\n",
    "\n",
    "1. Dataset ini memiliki `354.369` baris observasi dan `16` kolom, lalu kita menjumpai *missing value* pada beberapa kolom yang persentasenya terbilang cukup besar. \n",
    "2. Dari ke-16 kolom kita akan menghapus beberapa kolom yang tidak relevan. Untuk nama-nama kolomnya yaitu:\n",
    "    - `DateCrawled`\n",
    "    - `RegistrationMonth`\n",
    "    - `DateCreated`\n",
    "    - `NumberOfPictures`\n",
    "    - `PostalCode`\n",
    "    - `LastSeen`\n",
    "    - `model`\n",
    "    \n",
    "3. Untuk kolom `Price`,`RegistrationYear` dan `Power` kita menemukan nilai yang tidak mungkin atau mustahil, dimana harga dari kendaraan bernilai `0` dan terdaftar kendaraan dimulai dari tahun `1000` dan berakhir di tahun `9999`. Pada tahap selanjutnya nilai pada kedua kolom tersebut akan kita atasi."
   ]
  },
  {
   "cell_type": "markdown",
   "metadata": {},
   "source": [
    "<div class=\"alert alert-success\">\n",
    "<b>Code Reviewers's comment v.1</b> <a class=\"tocSkip\"></a>\n",
    "\n",
    "Bagus, code yang dijalankan sudah sesuai dengan instruksi dari project.\n",
    "\n",
    "</div>"
   ]
  },
  {
   "cell_type": "markdown",
   "metadata": {},
   "source": [
    "### Memperbaiki Kualitas Data"
   ]
  },
  {
   "cell_type": "code",
   "execution_count": 11,
   "metadata": {},
   "outputs": [],
   "source": [
    "# menghapus kolom yang tidak relevan\n",
    "df = df.drop(['DateCrawled','RegistrationMonth','DateCreated'\\\n",
    "              ,'NumberOfPictures','PostalCode','LastSeen'], axis=1)"
   ]
  },
  {
   "cell_type": "code",
   "execution_count": 12,
   "metadata": {},
   "outputs": [],
   "source": [
    "# mengganti nama kolom\n",
    "df.columns = ['price','vehicle_type','registration_year','gearbox'\\\n",
    "              ,'power','model','mileage','fuel_type','brand','not_repaired']"
   ]
  },
  {
   "cell_type": "code",
   "execution_count": 13,
   "metadata": {},
   "outputs": [
    {
     "data": {
      "image/png": "[encoded data removed]",
      "text/plain": [
       "<Figure size 720x576 with 2 Axes>"
      ]
     },
     "metadata": {
      "needs_background": "light"
     },
     "output_type": "display_data"
    }
   ],
   "source": [
    "corr = df.corr()['price']\n",
    "\n",
    "# Membuat DataFrame baru yang berisi korelasi terhadap kolom 'price'\n",
    "corr_df = df.corr()['price'].drop('price')  # Menghapus korelasi kolom 'price' terhadap dirinya sendiri\n",
    "\n",
    "\n",
    "# Menghitung korelasi antar kolom dan membuat heatmap\n",
    "plt.figure(figsize=(10, 8))\n",
    "a = sns.color_palette(\"mako\", as_cmap=True)\n",
    "\n",
    "sns.heatmap(corr_df.to_frame(), annot=True, cmap='coolwarm', vmin=-1, vmax=1, linewidths=0.5)\n",
    "plt.title('Heatmap Korelasi terhadap Kolom Price')\n",
    "plt.show()"
   ]
  },
  {
   "cell_type": "markdown",
   "metadata": {},
   "source": [
    "#### `registration_year`"
   ]
  },
  {
   "cell_type": "code",
   "execution_count": 14,
   "metadata": {},
   "outputs": [
    {
     "data": {
      "text/plain": [
       "(1000, 9999)"
      ]
     },
     "execution_count": 14,
     "metadata": {},
     "output_type": "execute_result"
    }
   ],
   "source": [
    "# memeriksa nilai minimum dan maksimum dari registration_year\n",
    "df.registration_year.min(), df.registration_year.max() "
   ]
  },
  {
   "cell_type": "markdown",
   "metadata": {},
   "source": [
    "Kita akan melakukan pembersihan data pada dataset dengan fokus pada rentang tahun yang masuk akal dengan memfilter data menggunakan batas rentang interquartile."
   ]
  },
  {
   "cell_type": "code",
   "execution_count": 15,
   "metadata": {},
   "outputs": [],
   "source": [
    "# menerapkan fungsi\n",
    "df = remove_outlier(df, 'registration_year')"
   ]
  },
  {
   "cell_type": "code",
   "execution_count": 16,
   "metadata": {},
   "outputs": [
    {
     "data": {
      "text/plain": [
       "(1986, 2019)"
      ]
     },
     "execution_count": 16,
     "metadata": {},
     "output_type": "execute_result"
    }
   ],
   "source": [
    "# memeriksa kembali nilai minimum dan maksimum dari registration_year\n",
    "df.registration_year.min(), df.registration_year.max() "
   ]
  },
  {
   "cell_type": "markdown",
   "metadata": {},
   "source": [
    "#### `price`"
   ]
  },
  {
   "cell_type": "markdown",
   "metadata": {},
   "source": [
    "Dalam jual beli khususnya dalam penjualan mobil, sangat tidak mungkin jika terdapat harga kendaraan tersebut senilai `0` euro. Untuk itu kita akan menentukan batas minimum untuk kolom `price` adalah `100` euro. \n",
    "\n",
    "kita tidak akan menghapus data menggunakan batas interquartile karena variabel ini merupakan termasuk variabel response (dependen)"
   ]
  },
  {
   "cell_type": "code",
   "execution_count": 17,
   "metadata": {},
   "outputs": [],
   "source": [
    "# memfilter dataset dengan price diatas 100\n",
    "df = df.query('price > 100')"
   ]
  },
  {
   "cell_type": "markdown",
   "metadata": {},
   "source": [
    "#### `power`"
   ]
  },
  {
   "cell_type": "markdown",
   "metadata": {},
   "source": [
    "Untuk kolom power kita akan melakukan hal yang sama seperti kolom `registration_year`."
   ]
  },
  {
   "cell_type": "code",
   "execution_count": 18,
   "metadata": {},
   "outputs": [
    {
     "data": {
      "text/plain": [
       "(0, 20000)"
      ]
     },
     "execution_count": 18,
     "metadata": {},
     "output_type": "execute_result"
    }
   ],
   "source": [
    "# nilai min dan max pada kolom power\n",
    "df.power.min(), df.power.max()"
   ]
  },
  {
   "cell_type": "code",
   "execution_count": 19,
   "metadata": {},
   "outputs": [],
   "source": [
    "# menghapus outlier dengan memanggil fungsi\n",
    "df = remove_outlier(df, 'power')"
   ]
  },
  {
   "cell_type": "code",
   "execution_count": 20,
   "metadata": {},
   "outputs": [
    {
     "data": {
      "text/plain": [
       "(0, 251)"
      ]
     },
     "execution_count": 20,
     "metadata": {},
     "output_type": "execute_result"
    }
   ],
   "source": [
    "# nilai min dan max sesudahnya\n",
    "df.power.min(), df.power.max()"
   ]
  },
  {
   "cell_type": "markdown",
   "metadata": {},
   "source": [
    "<div class=\"alert alert-success\">\n",
    "<b>Code Reviewers's comment v.1</b> <a class=\"tocSkip\"></a>\n",
    "\n",
    "Bagus, code yang dijalankan sudah sesuai dengan instruksi dari project.\n",
    "\n",
    "</div>"
   ]
  },
  {
   "cell_type": "markdown",
   "metadata": {},
   "source": [
    "### Mengatasi *Missing Value*"
   ]
  },
  {
   "cell_type": "markdown",
   "metadata": {},
   "source": [
    "Sebelumnya kita mendapati terdapat 5 kolom yang mengandung *missing value*, berikut untuk nama-nama kolom tersebut:\n",
    "- `vehicle_type`\n",
    "- `gearbox`\n",
    "- `model`\n",
    "- `fuel_type`\n",
    "- `not_repaired`"
   ]
  },
  {
   "cell_type": "code",
   "execution_count": 21,
   "metadata": {},
   "outputs": [
    {
     "data": {
      "text/html": [
       "<div>\n",
       "<style scoped>\n",
       "    .dataframe tbody tr th:only-of-type {\n",
       "        vertical-align: middle;\n",
       "    }\n",
       "\n",
       "    .dataframe tbody tr th {\n",
       "        vertical-align: top;\n",
       "    }\n",
       "\n",
       "    .dataframe thead th {\n",
       "        text-align: right;\n",
       "    }\n",
       "</style>\n",
       "<table border=\"1\" class=\"dataframe\">\n",
       "  <thead>\n",
       "    <tr style=\"text-align: right;\">\n",
       "      <th></th>\n",
       "      <th>columns</th>\n",
       "      <th>number_unique</th>\n",
       "      <th>unique_value</th>\n",
       "      <th>length</th>\n",
       "    </tr>\n",
       "  </thead>\n",
       "  <tbody>\n",
       "    <tr>\n",
       "      <th>0</th>\n",
       "      <td>vehicle_type</td>\n",
       "      <td>8</td>\n",
       "      <td>[nan, coupe, suv, small, sedan, convertible, bus, wagon, other]</td>\n",
       "      <td>327163</td>\n",
       "    </tr>\n",
       "    <tr>\n",
       "      <th>1</th>\n",
       "      <td>gearbox</td>\n",
       "      <td>2</td>\n",
       "      <td>[manual, auto, nan]</td>\n",
       "      <td>327163</td>\n",
       "    </tr>\n",
       "    <tr>\n",
       "      <th>2</th>\n",
       "      <td>model</td>\n",
       "      <td>247</td>\n",
       "      <td>[golf, nan, grand, fabia, 3er, 2_reihe, c_max, 3_reihe, passat, navara, polo, twingo, a_klasse, scirocco, 5er, meriva, arosa, other, c4, civic, punto, e_klasse, clio, kadett, kangoo, one, fortwo, 1er, b_klasse, signum, astra, a8, jetta, fiesta, c_klasse, micra, vito, sprinter, 156, escort, forester, xc_reihe, scenic, a4, ka, a1, insignia, transporter, combo, focus, tt, corsa, a6, jazz, omega, slk, 80, 147, z_reihe, sportage, sorento, v40, ibiza, eos, touran, getz, a3, almera, megane, 7er, lupo, r19, zafira, mondeo, cordoba, colt, impreza, vectra, berlingo, tiguan, i_reihe, mustang, espace, sharan, 6_reihe, panda, up, seicento, ceed, 5_reihe, yeti, octavia, mii, rx_reihe, modus, fox, matiz, beetle, c1, rio, ...]</td>\n",
       "      <td>327163</td>\n",
       "    </tr>\n",
       "    <tr>\n",
       "      <th>3</th>\n",
       "      <td>fuel_type</td>\n",
       "      <td>7</td>\n",
       "      <td>[petrol, gasoline, nan, lpg, other, hybrid, cng, electric]</td>\n",
       "      <td>327163</td>\n",
       "    </tr>\n",
       "    <tr>\n",
       "      <th>4</th>\n",
       "      <td>not_repaired</td>\n",
       "      <td>2</td>\n",
       "      <td>[nan, yes, no]</td>\n",
       "      <td>327163</td>\n",
       "    </tr>\n",
       "  </tbody>\n",
       "</table>\n",
       "</div>"
      ],
      "text/plain": [
       "        columns  number_unique  \\\n",
       "0  vehicle_type  8               \n",
       "1  gearbox       2               \n",
       "2  model         247             \n",
       "3  fuel_type     7               \n",
       "4  not_repaired  2               \n",
       "\n",
       "                                                                                                                                                                                                                                                                                                                                                                                                                                                                                                                                                                                                                                                                                                                                       unique_value  \\\n",
       "0  [nan, coupe, suv, small, sedan, convertible, bus, wagon, other]                                                                                                                                                                                                                                                                                                                                                                                                                                                                                                                                                                                                                                                                                    \n",
       "1  [manual, auto, nan]                                                                                                                                                                                                                                                                                                                                                                                                                                                                                                                                                                                                                                                                                                                                \n",
       "2  [golf, nan, grand, fabia, 3er, 2_reihe, c_max, 3_reihe, passat, navara, polo, twingo, a_klasse, scirocco, 5er, meriva, arosa, other, c4, civic, punto, e_klasse, clio, kadett, kangoo, one, fortwo, 1er, b_klasse, signum, astra, a8, jetta, fiesta, c_klasse, micra, vito, sprinter, 156, escort, forester, xc_reihe, scenic, a4, ka, a1, insignia, transporter, combo, focus, tt, corsa, a6, jazz, omega, slk, 80, 147, z_reihe, sportage, sorento, v40, ibiza, eos, touran, getz, a3, almera, megane, 7er, lupo, r19, zafira, mondeo, cordoba, colt, impreza, vectra, berlingo, tiguan, i_reihe, mustang, espace, sharan, 6_reihe, panda, up, seicento, ceed, 5_reihe, yeti, octavia, mii, rx_reihe, modus, fox, matiz, beetle, c1, rio, ...]   \n",
       "3  [petrol, gasoline, nan, lpg, other, hybrid, cng, electric]                                                                                                                                                                                                                                                                                                                                                                                                                                                                                                                                                                                                                                                                                         \n",
       "4  [nan, yes, no]                                                                                                                                                                                                                                                                                                                                                                                                                                                                                                                                                                                                                                                                                                                                     \n",
       "\n",
       "   length  \n",
       "0  327163  \n",
       "1  327163  \n",
       "2  327163  \n",
       "3  327163  \n",
       "4  327163  "
      ]
     },
     "execution_count": 21,
     "metadata": {},
     "output_type": "execute_result"
    }
   ],
   "source": [
    "# mengatur ukuran tabel\n",
    "pd.set_option('display.max_colwidth', 1)\n",
    "\n",
    "columns_to_check = ['vehicle_type','gearbox','model','fuel_type','not_repaired']\n",
    "\n",
    "# list untuk menampung item\n",
    "list_item = []\n",
    "\n",
    "for col in columns_to_check:\n",
    "    list_item.append([col, df[col].nunique(), df[col].unique(), len(df[col])])\n",
    "    \n",
    "# membuat tabel unique\n",
    "unique_table_info = pd.DataFrame(list_item, columns=['columns', 'number_unique', 'unique_value', 'length'])\n",
    "# menampilkan tabel unique\n",
    "unique_table_info"
   ]
  },
  {
   "cell_type": "markdown",
   "metadata": {},
   "source": [
    "Kita akan mengisi nilai yang hilang dengan nilai `unknown` karena ini memungkinkan model untuk memperlakukan *missing value* sebagai kategori yang terpisah dan biasanya lebih aman karena tidak memengaruhi statistik dasar."
   ]
  },
  {
   "cell_type": "code",
   "execution_count": 22,
   "metadata": {},
   "outputs": [],
   "source": [
    "# mengisi missing value dengan unknown\n",
    "df[columns_to_check] = df[columns_to_check].fillna('unknown')"
   ]
  },
  {
   "cell_type": "markdown",
   "metadata": {},
   "source": [
    "### Memeriksa Final Dataset"
   ]
  },
  {
   "cell_type": "code",
   "execution_count": 23,
   "metadata": {},
   "outputs": [
    {
     "data": {
      "text/html": [
       "<div>\n",
       "<style scoped>\n",
       "    .dataframe tbody tr th:only-of-type {\n",
       "        vertical-align: middle;\n",
       "    }\n",
       "\n",
       "    .dataframe tbody tr th {\n",
       "        vertical-align: top;\n",
       "    }\n",
       "\n",
       "    .dataframe thead th {\n",
       "        text-align: right;\n",
       "    }\n",
       "</style>\n",
       "<table border=\"1\" class=\"dataframe\">\n",
       "  <thead>\n",
       "    <tr style=\"text-align: right;\">\n",
       "      <th></th>\n",
       "      <th>count</th>\n",
       "      <th>percentage</th>\n",
       "    </tr>\n",
       "  </thead>\n",
       "  <tbody>\n",
       "    <tr>\n",
       "      <th>price</th>\n",
       "      <td>0</td>\n",
       "      <td>0.0%</td>\n",
       "    </tr>\n",
       "    <tr>\n",
       "      <th>vehicle_type</th>\n",
       "      <td>0</td>\n",
       "      <td>0.0%</td>\n",
       "    </tr>\n",
       "    <tr>\n",
       "      <th>registration_year</th>\n",
       "      <td>0</td>\n",
       "      <td>0.0%</td>\n",
       "    </tr>\n",
       "    <tr>\n",
       "      <th>gearbox</th>\n",
       "      <td>0</td>\n",
       "      <td>0.0%</td>\n",
       "    </tr>\n",
       "    <tr>\n",
       "      <th>power</th>\n",
       "      <td>0</td>\n",
       "      <td>0.0%</td>\n",
       "    </tr>\n",
       "    <tr>\n",
       "      <th>model</th>\n",
       "      <td>0</td>\n",
       "      <td>0.0%</td>\n",
       "    </tr>\n",
       "    <tr>\n",
       "      <th>mileage</th>\n",
       "      <td>0</td>\n",
       "      <td>0.0%</td>\n",
       "    </tr>\n",
       "    <tr>\n",
       "      <th>fuel_type</th>\n",
       "      <td>0</td>\n",
       "      <td>0.0%</td>\n",
       "    </tr>\n",
       "    <tr>\n",
       "      <th>brand</th>\n",
       "      <td>0</td>\n",
       "      <td>0.0%</td>\n",
       "    </tr>\n",
       "    <tr>\n",
       "      <th>not_repaired</th>\n",
       "      <td>0</td>\n",
       "      <td>0.0%</td>\n",
       "    </tr>\n",
       "  </tbody>\n",
       "</table>\n",
       "</div>"
      ],
      "text/plain": [
       "                   count percentage\n",
       "price              0      0.0%     \n",
       "vehicle_type       0      0.0%     \n",
       "registration_year  0      0.0%     \n",
       "gearbox            0      0.0%     \n",
       "power              0      0.0%     \n",
       "model              0      0.0%     \n",
       "mileage            0      0.0%     \n",
       "fuel_type          0      0.0%     \n",
       "brand              0      0.0%     \n",
       "not_repaired       0      0.0%     "
      ]
     },
     "execution_count": 23,
     "metadata": {},
     "output_type": "execute_result"
    }
   ],
   "source": [
    "# memeriksa missing value\n",
    "missing_report(df)"
   ]
  },
  {
   "cell_type": "code",
   "execution_count": 24,
   "metadata": {},
   "outputs": [
    {
     "data": {
      "text/plain": [
       "41817"
      ]
     },
     "execution_count": 24,
     "metadata": {},
     "output_type": "execute_result"
    }
   ],
   "source": [
    "# memeriksa duplikat\n",
    "df.duplicated().sum()"
   ]
  },
  {
   "cell_type": "code",
   "execution_count": 25,
   "metadata": {},
   "outputs": [],
   "source": [
    "# menghapus duplikat\n",
    "df.drop_duplicates(inplace=True)"
   ]
  },
  {
   "cell_type": "code",
   "execution_count": 26,
   "metadata": {},
   "outputs": [
    {
     "data": {
      "text/html": [
       "<div>\n",
       "<style scoped>\n",
       "    .dataframe tbody tr th:only-of-type {\n",
       "        vertical-align: middle;\n",
       "    }\n",
       "\n",
       "    .dataframe tbody tr th {\n",
       "        vertical-align: top;\n",
       "    }\n",
       "\n",
       "    .dataframe thead th {\n",
       "        text-align: right;\n",
       "    }\n",
       "</style>\n",
       "<table border=\"1\" class=\"dataframe\">\n",
       "  <thead>\n",
       "    <tr style=\"text-align: right;\">\n",
       "      <th></th>\n",
       "      <th>count</th>\n",
       "      <th>mean</th>\n",
       "      <th>std</th>\n",
       "      <th>min</th>\n",
       "      <th>25%</th>\n",
       "      <th>50%</th>\n",
       "      <th>75%</th>\n",
       "      <th>max</th>\n",
       "    </tr>\n",
       "  </thead>\n",
       "  <tbody>\n",
       "    <tr>\n",
       "      <th>price</th>\n",
       "      <td>285346.0</td>\n",
       "      <td>4500.424786</td>\n",
       "      <td>4426.137004</td>\n",
       "      <td>101.0</td>\n",
       "      <td>1200.0</td>\n",
       "      <td>2860.0</td>\n",
       "      <td>6490.0</td>\n",
       "      <td>20000.0</td>\n",
       "    </tr>\n",
       "    <tr>\n",
       "      <th>registration_year</th>\n",
       "      <td>285346.0</td>\n",
       "      <td>2003.781623</td>\n",
       "      <td>6.435535</td>\n",
       "      <td>1986.0</td>\n",
       "      <td>1999.0</td>\n",
       "      <td>2003.0</td>\n",
       "      <td>2008.0</td>\n",
       "      <td>2019.0</td>\n",
       "    </tr>\n",
       "    <tr>\n",
       "      <th>power</th>\n",
       "      <td>285346.0</td>\n",
       "      <td>104.762699</td>\n",
       "      <td>55.984439</td>\n",
       "      <td>0.0</td>\n",
       "      <td>71.0</td>\n",
       "      <td>105.0</td>\n",
       "      <td>140.0</td>\n",
       "      <td>251.0</td>\n",
       "    </tr>\n",
       "    <tr>\n",
       "      <th>mileage</th>\n",
       "      <td>285346.0</td>\n",
       "      <td>127930.740224</td>\n",
       "      <td>37425.474035</td>\n",
       "      <td>5000.0</td>\n",
       "      <td>125000.0</td>\n",
       "      <td>150000.0</td>\n",
       "      <td>150000.0</td>\n",
       "      <td>150000.0</td>\n",
       "    </tr>\n",
       "  </tbody>\n",
       "</table>\n",
       "</div>"
      ],
      "text/plain": [
       "                      count           mean           std     min       25%  \\\n",
       "price              285346.0  4500.424786    4426.137004   101.0   1200.0     \n",
       "registration_year  285346.0  2003.781623    6.435535      1986.0  1999.0     \n",
       "power              285346.0  104.762699     55.984439     0.0     71.0       \n",
       "mileage            285346.0  127930.740224  37425.474035  5000.0  125000.0   \n",
       "\n",
       "                        50%       75%       max  \n",
       "price              2860.0    6490.0    20000.0   \n",
       "registration_year  2003.0    2008.0    2019.0    \n",
       "power              105.0     140.0     251.0     \n",
       "mileage            150000.0  150000.0  150000.0  "
      ]
     },
     "metadata": {},
     "output_type": "display_data"
    },
    {
     "data": {
      "text/html": [
       "<div>\n",
       "<style scoped>\n",
       "    .dataframe tbody tr th:only-of-type {\n",
       "        vertical-align: middle;\n",
       "    }\n",
       "\n",
       "    .dataframe tbody tr th {\n",
       "        vertical-align: top;\n",
       "    }\n",
       "\n",
       "    .dataframe thead th {\n",
       "        text-align: right;\n",
       "    }\n",
       "</style>\n",
       "<table border=\"1\" class=\"dataframe\">\n",
       "  <thead>\n",
       "    <tr style=\"text-align: right;\">\n",
       "      <th></th>\n",
       "      <th>count</th>\n",
       "      <th>unique</th>\n",
       "      <th>top</th>\n",
       "      <th>freq</th>\n",
       "    </tr>\n",
       "  </thead>\n",
       "  <tbody>\n",
       "    <tr>\n",
       "      <th>vehicle_type</th>\n",
       "      <td>285346</td>\n",
       "      <td>9</td>\n",
       "      <td>sedan</td>\n",
       "      <td>71745</td>\n",
       "    </tr>\n",
       "    <tr>\n",
       "      <th>gearbox</th>\n",
       "      <td>285346</td>\n",
       "      <td>3</td>\n",
       "      <td>manual</td>\n",
       "      <td>219939</td>\n",
       "    </tr>\n",
       "    <tr>\n",
       "      <th>model</th>\n",
       "      <td>285346</td>\n",
       "      <td>248</td>\n",
       "      <td>golf</td>\n",
       "      <td>22254</td>\n",
       "    </tr>\n",
       "    <tr>\n",
       "      <th>fuel_type</th>\n",
       "      <td>285346</td>\n",
       "      <td>8</td>\n",
       "      <td>petrol</td>\n",
       "      <td>172799</td>\n",
       "    </tr>\n",
       "    <tr>\n",
       "      <th>brand</th>\n",
       "      <td>285346</td>\n",
       "      <td>40</td>\n",
       "      <td>volkswagen</td>\n",
       "      <td>59652</td>\n",
       "    </tr>\n",
       "    <tr>\n",
       "      <th>not_repaired</th>\n",
       "      <td>285346</td>\n",
       "      <td>3</td>\n",
       "      <td>no</td>\n",
       "      <td>199697</td>\n",
       "    </tr>\n",
       "  </tbody>\n",
       "</table>\n",
       "</div>"
      ],
      "text/plain": [
       "               count unique         top    freq\n",
       "vehicle_type  285346  9      sedan       71745 \n",
       "gearbox       285346  3      manual      219939\n",
       "model         285346  248    golf        22254 \n",
       "fuel_type     285346  8      petrol      172799\n",
       "brand         285346  40     volkswagen  59652 \n",
       "not_repaired  285346  3      no          199697"
      ]
     },
     "metadata": {},
     "output_type": "display_data"
    }
   ],
   "source": [
    "# deskriptif umum dataset\n",
    "display(df.describe().transpose(),\n",
    "        df.describe(include='object').transpose())"
   ]
  },
  {
   "cell_type": "code",
   "execution_count": 27,
   "metadata": {},
   "outputs": [
    {
     "data": {
      "text/html": [
       "<div>\n",
       "<style scoped>\n",
       "    .dataframe tbody tr th:only-of-type {\n",
       "        vertical-align: middle;\n",
       "    }\n",
       "\n",
       "    .dataframe tbody tr th {\n",
       "        vertical-align: top;\n",
       "    }\n",
       "\n",
       "    .dataframe thead th {\n",
       "        text-align: right;\n",
       "    }\n",
       "</style>\n",
       "<table border=\"1\" class=\"dataframe\">\n",
       "  <thead>\n",
       "    <tr style=\"text-align: right;\">\n",
       "      <th></th>\n",
       "      <th>price</th>\n",
       "      <th>vehicle_type</th>\n",
       "      <th>registration_year</th>\n",
       "      <th>gearbox</th>\n",
       "      <th>power</th>\n",
       "      <th>model</th>\n",
       "      <th>mileage</th>\n",
       "      <th>fuel_type</th>\n",
       "      <th>brand</th>\n",
       "      <th>not_repaired</th>\n",
       "    </tr>\n",
       "  </thead>\n",
       "  <tbody>\n",
       "    <tr>\n",
       "      <th>256653</th>\n",
       "      <td>1400</td>\n",
       "      <td>unknown</td>\n",
       "      <td>2018</td>\n",
       "      <td>manual</td>\n",
       "      <td>0</td>\n",
       "      <td>scenic</td>\n",
       "      <td>150000</td>\n",
       "      <td>petrol</td>\n",
       "      <td>renault</td>\n",
       "      <td>no</td>\n",
       "    </tr>\n",
       "    <tr>\n",
       "      <th>145589</th>\n",
       "      <td>7700</td>\n",
       "      <td>wagon</td>\n",
       "      <td>2005</td>\n",
       "      <td>manual</td>\n",
       "      <td>147</td>\n",
       "      <td>avensis</td>\n",
       "      <td>40000</td>\n",
       "      <td>petrol</td>\n",
       "      <td>toyota</td>\n",
       "      <td>no</td>\n",
       "    </tr>\n",
       "    <tr>\n",
       "      <th>241110</th>\n",
       "      <td>11699</td>\n",
       "      <td>suv</td>\n",
       "      <td>2008</td>\n",
       "      <td>auto</td>\n",
       "      <td>239</td>\n",
       "      <td>touareg</td>\n",
       "      <td>150000</td>\n",
       "      <td>gasoline</td>\n",
       "      <td>volkswagen</td>\n",
       "      <td>unknown</td>\n",
       "    </tr>\n",
       "    <tr>\n",
       "      <th>102924</th>\n",
       "      <td>13000</td>\n",
       "      <td>sedan</td>\n",
       "      <td>2009</td>\n",
       "      <td>auto</td>\n",
       "      <td>160</td>\n",
       "      <td>insignia</td>\n",
       "      <td>125000</td>\n",
       "      <td>gasoline</td>\n",
       "      <td>opel</td>\n",
       "      <td>no</td>\n",
       "    </tr>\n",
       "    <tr>\n",
       "      <th>314243</th>\n",
       "      <td>1500</td>\n",
       "      <td>wagon</td>\n",
       "      <td>1995</td>\n",
       "      <td>manual</td>\n",
       "      <td>0</td>\n",
       "      <td>unknown</td>\n",
       "      <td>150000</td>\n",
       "      <td>unknown</td>\n",
       "      <td>audi</td>\n",
       "      <td>no</td>\n",
       "    </tr>\n",
       "  </tbody>\n",
       "</table>\n",
       "</div>"
      ],
      "text/plain": [
       "        price vehicle_type  registration_year gearbox  power     model  \\\n",
       "256653  1400   unknown      2018               manual  0      scenic     \n",
       "145589  7700   wagon        2005               manual  147    avensis    \n",
       "241110  11699  suv          2008               auto    239    touareg    \n",
       "102924  13000  sedan        2009               auto    160    insignia   \n",
       "314243  1500   wagon        1995               manual  0      unknown    \n",
       "\n",
       "        mileage fuel_type       brand not_repaired  \n",
       "256653  150000   petrol    renault     no           \n",
       "145589  40000    petrol    toyota      no           \n",
       "241110  150000   gasoline  volkswagen  unknown      \n",
       "102924  125000   gasoline  opel        no           \n",
       "314243  150000   unknown   audi        no           "
      ]
     },
     "execution_count": 27,
     "metadata": {},
     "output_type": "execute_result"
    }
   ],
   "source": [
    "df.sample(5)"
   ]
  },
  {
   "cell_type": "code",
   "execution_count": 28,
   "metadata": {},
   "outputs": [
    {
     "data": {
      "text/plain": [
       "(285346, 10)"
      ]
     },
     "execution_count": 28,
     "metadata": {},
     "output_type": "execute_result"
    }
   ],
   "source": [
    "# ukuran dataset final\n",
    "df.shape"
   ]
  },
  {
   "cell_type": "markdown",
   "metadata": {},
   "source": [
    "Dataset final yang didapatkan setelah melalui proses manipulasi data, yaitu sebanyak `263.043` baris dan `10` kolom."
   ]
  },
  {
   "cell_type": "markdown",
   "metadata": {},
   "source": [
    "#### Memeriksa Outlier Pada Dataset"
   ]
  },
  {
   "cell_type": "code",
   "execution_count": 29,
   "metadata": {},
   "outputs": [
    {
     "data": {
      "text/html": [
       "<div>\n",
       "<style scoped>\n",
       "    .dataframe tbody tr th:only-of-type {\n",
       "        vertical-align: middle;\n",
       "    }\n",
       "\n",
       "    .dataframe tbody tr th {\n",
       "        vertical-align: top;\n",
       "    }\n",
       "\n",
       "    .dataframe thead th {\n",
       "        text-align: right;\n",
       "    }\n",
       "</style>\n",
       "<table border=\"1\" class=\"dataframe\">\n",
       "  <thead>\n",
       "    <tr style=\"text-align: right;\">\n",
       "      <th></th>\n",
       "      <th>columns</th>\n",
       "      <th>lower_whisker</th>\n",
       "      <th>upper_whisker</th>\n",
       "      <th>count_outside_lower</th>\n",
       "      <th>count_inside</th>\n",
       "      <th>count_outside_upper</th>\n",
       "      <th>percent_outlier</th>\n",
       "    </tr>\n",
       "  </thead>\n",
       "  <tbody>\n",
       "    <tr>\n",
       "      <th>0</th>\n",
       "      <td>price</td>\n",
       "      <td>-6735.0</td>\n",
       "      <td>14425.0</td>\n",
       "      <td>0</td>\n",
       "      <td>270620</td>\n",
       "      <td>14726</td>\n",
       "      <td>5.16%</td>\n",
       "    </tr>\n",
       "    <tr>\n",
       "      <th>1</th>\n",
       "      <td>registration_year</td>\n",
       "      <td>1985.5</td>\n",
       "      <td>2021.5</td>\n",
       "      <td>0</td>\n",
       "      <td>285346</td>\n",
       "      <td>0</td>\n",
       "      <td>0.0%</td>\n",
       "    </tr>\n",
       "    <tr>\n",
       "      <th>2</th>\n",
       "      <td>power</td>\n",
       "      <td>-32.5</td>\n",
       "      <td>243.5</td>\n",
       "      <td>0</td>\n",
       "      <td>284352</td>\n",
       "      <td>994</td>\n",
       "      <td>0.35%</td>\n",
       "    </tr>\n",
       "    <tr>\n",
       "      <th>3</th>\n",
       "      <td>mileage</td>\n",
       "      <td>87500.0</td>\n",
       "      <td>187500.0</td>\n",
       "      <td>43650</td>\n",
       "      <td>241696</td>\n",
       "      <td>0</td>\n",
       "      <td>15.3%</td>\n",
       "    </tr>\n",
       "  </tbody>\n",
       "</table>\n",
       "</div>"
      ],
      "text/plain": [
       "             columns  lower_whisker  upper_whisker  count_outside_lower  \\\n",
       "0  price             -6735.0         14425.0        0                     \n",
       "1  registration_year  1985.5         2021.5         0                     \n",
       "2  power             -32.5           243.5          0                     \n",
       "3  mileage            87500.0        187500.0       43650                 \n",
       "\n",
       "   count_inside  count_outside_upper percent_outlier  \n",
       "0  270620        14726                5.16%           \n",
       "1  285346        0                    0.0%            \n",
       "2  284352        994                  0.35%           \n",
       "3  241696        0                    15.3%           "
      ]
     },
     "execution_count": 29,
     "metadata": {},
     "output_type": "execute_result"
    }
   ],
   "source": [
    "numeric_cols = df.describe().columns\n",
    "# mencari nilai lower dan upper limit pada masing-masing kolom numerikal\n",
    "list_lower = []\n",
    "list_upper = []\n",
    "number_lower = []\n",
    "number_inside = []\n",
    "number_upper = []\n",
    "percentage_outlier = []\n",
    "\n",
    "for feature in numeric_cols: \n",
    "    IQR = df[feature].quantile(0.75) - df[feature].quantile(0.25)\n",
    "    lower_limit = df[feature].quantile(0.25) - 1.5*IQR\n",
    "    upper_limit = df[feature].quantile(0.75) + 1.5*IQR\n",
    "    \n",
    "    list_lower.append(lower_limit)\n",
    "    list_upper.append(upper_limit)\n",
    "    number_lower.append(len(df[df[feature]<lower_limit])) # menghitung jumlah data yang diluar batas bawah\n",
    "    number_inside.append(len(df[(df[feature]>=lower_limit) & (df[feature]<=upper_limit)])) # data yg berada didalam rentang kuartil\n",
    "    number_upper.append(len(df[df[feature]>upper_limit])) # jumlah data yang diluar batas atas\n",
    "    percentage_outlier.append(round((len(df[df[feature]<lower_limit]) + len(df[df[feature]>upper_limit])) / len(df)  *100, 2))\n",
    "\n",
    "# membuat dataset untuk menampilkan jumlah dan persentase data outlier\n",
    "outliers = pd.DataFrame({\n",
    "    'columns' : numeric_cols,\n",
    "    'lower_whisker' : list_lower,\n",
    "    'upper_whisker' : list_upper,\n",
    "    'count_outside_lower' : number_lower,\n",
    "    'count_inside' : number_inside,\n",
    "    'count_outside_upper' : number_upper,\n",
    "    'percent_outlier' : percentage_outlier\n",
    "})\n",
    "\n",
    "outliers['percent_outlier'] = outliers['percent_outlier'].astype('str') +'%'\n",
    "outliers"
   ]
  },
  {
   "cell_type": "markdown",
   "metadata": {},
   "source": [
    "#### Korelasi Kolom Numerikal Terhadap Target"
   ]
  },
  {
   "cell_type": "code",
   "execution_count": 30,
   "metadata": {},
   "outputs": [
    {
     "data": {
      "image/png": "[encoded data removed]",
      "text/plain": [
       "<Figure size 720x576 with 2 Axes>"
      ]
     },
     "metadata": {
      "needs_background": "light"
     },
     "output_type": "display_data"
    }
   ],
   "source": [
    "corr = df.corr()['price']\n",
    "\n",
    "# Membuat DataFrame baru yang berisi korelasi terhadap kolom 'price'\n",
    "corr_df = df.corr()['price'].drop('price')  # Menghapus korelasi kolom 'price' terhadap dirinya sendiri\n",
    "\n",
    "\n",
    "# Menghitung korelasi antar kolom dan membuat heatmap\n",
    "plt.figure(figsize=(10, 8))\n",
    "a = sns.color_palette(\"mako\", as_cmap=True)\n",
    "\n",
    "sns.heatmap(corr_df.to_frame(), annot=True, cmap='BrBG', vmin=-1, vmax=1, linewidths=0.5)\n",
    "plt.title('Heatmap Korelasi terhadap Kolom Price')\n",
    "plt.show()"
   ]
  },
  {
   "cell_type": "markdown",
   "metadata": {},
   "source": [
    "#### Distribusi Data Kategorik"
   ]
  },
  {
   "cell_type": "code",
   "execution_count": 31,
   "metadata": {},
   "outputs": [
    {
     "data": {
      "text/html": [
       "<div>\n",
       "<style scoped>\n",
       "    .dataframe tbody tr th:only-of-type {\n",
       "        vertical-align: middle;\n",
       "    }\n",
       "\n",
       "    .dataframe tbody tr th {\n",
       "        vertical-align: top;\n",
       "    }\n",
       "\n",
       "    .dataframe thead th {\n",
       "        text-align: right;\n",
       "    }\n",
       "</style>\n",
       "<table border=\"1\" class=\"dataframe\">\n",
       "  <thead>\n",
       "    <tr style=\"text-align: right;\">\n",
       "      <th></th>\n",
       "      <th>columns</th>\n",
       "      <th>number_unique</th>\n",
       "      <th>unique_value</th>\n",
       "      <th>length</th>\n",
       "    </tr>\n",
       "  </thead>\n",
       "  <tbody>\n",
       "    <tr>\n",
       "      <th>0</th>\n",
       "      <td>vehicle_type</td>\n",
       "      <td>9</td>\n",
       "      <td>[unknown, coupe, suv, small, sedan, convertible, bus, wagon, other]</td>\n",
       "      <td>285346</td>\n",
       "    </tr>\n",
       "    <tr>\n",
       "      <th>1</th>\n",
       "      <td>gearbox</td>\n",
       "      <td>3</td>\n",
       "      <td>[manual, auto, unknown]</td>\n",
       "      <td>285346</td>\n",
       "    </tr>\n",
       "    <tr>\n",
       "      <th>2</th>\n",
       "      <td>model</td>\n",
       "      <td>248</td>\n",
       "      <td>[golf, unknown, grand, fabia, 3er, 2_reihe, c_max, 3_reihe, passat, navara, polo, twingo, a_klasse, scirocco, 5er, meriva, arosa, other, c4, civic, punto, e_klasse, clio, kadett, kangoo, one, fortwo, 1er, b_klasse, signum, astra, a8, jetta, fiesta, c_klasse, micra, vito, sprinter, 156, escort, forester, xc_reihe, scenic, a4, ka, a1, insignia, transporter, combo, focus, tt, corsa, a6, jazz, omega, slk, 80, 147, z_reihe, sportage, sorento, v40, ibiza, eos, touran, getz, a3, almera, megane, 7er, lupo, r19, zafira, mondeo, cordoba, colt, impreza, vectra, berlingo, tiguan, i_reihe, mustang, espace, sharan, 6_reihe, panda, up, seicento, ceed, 5_reihe, yeti, octavia, mii, rx_reihe, modus, fox, matiz, beetle, c1, rio, ...]</td>\n",
       "      <td>285346</td>\n",
       "    </tr>\n",
       "    <tr>\n",
       "      <th>3</th>\n",
       "      <td>fuel_type</td>\n",
       "      <td>8</td>\n",
       "      <td>[petrol, gasoline, unknown, lpg, other, hybrid, cng, electric]</td>\n",
       "      <td>285346</td>\n",
       "    </tr>\n",
       "    <tr>\n",
       "      <th>4</th>\n",
       "      <td>brand</td>\n",
       "      <td>40</td>\n",
       "      <td>[volkswagen, audi, jeep, skoda, bmw, peugeot, ford, mazda, nissan, renault, mercedes_benz, opel, seat, citroen, honda, fiat, mini, smart, hyundai, alfa_romeo, subaru, volvo, mitsubishi, kia, lancia, sonstige_autos, toyota, chevrolet, dacia, suzuki, daihatsu, chrysler, jaguar, daewoo, rover, porsche, saab, land_rover, trabant, lada]</td>\n",
       "      <td>285346</td>\n",
       "    </tr>\n",
       "    <tr>\n",
       "      <th>5</th>\n",
       "      <td>not_repaired</td>\n",
       "      <td>3</td>\n",
       "      <td>[unknown, yes, no]</td>\n",
       "      <td>285346</td>\n",
       "    </tr>\n",
       "  </tbody>\n",
       "</table>\n",
       "</div>"
      ],
      "text/plain": [
       "        columns  number_unique  \\\n",
       "0  vehicle_type  9               \n",
       "1  gearbox       3               \n",
       "2  model         248             \n",
       "3  fuel_type     8               \n",
       "4  brand         40              \n",
       "5  not_repaired  3               \n",
       "\n",
       "                                                                                                                                                                                                                                                                                                                                                                                                                                                                                                                                                                                                                                                                                                                                           unique_value  \\\n",
       "0  [unknown, coupe, suv, small, sedan, convertible, bus, wagon, other]                                                                                                                                                                                                                                                                                                                                                                                                                                                                                                                                                                                                                                                                                    \n",
       "1  [manual, auto, unknown]                                                                                                                                                                                                                                                                                                                                                                                                                                                                                                                                                                                                                                                                                                                                \n",
       "2  [golf, unknown, grand, fabia, 3er, 2_reihe, c_max, 3_reihe, passat, navara, polo, twingo, a_klasse, scirocco, 5er, meriva, arosa, other, c4, civic, punto, e_klasse, clio, kadett, kangoo, one, fortwo, 1er, b_klasse, signum, astra, a8, jetta, fiesta, c_klasse, micra, vito, sprinter, 156, escort, forester, xc_reihe, scenic, a4, ka, a1, insignia, transporter, combo, focus, tt, corsa, a6, jazz, omega, slk, 80, 147, z_reihe, sportage, sorento, v40, ibiza, eos, touran, getz, a3, almera, megane, 7er, lupo, r19, zafira, mondeo, cordoba, colt, impreza, vectra, berlingo, tiguan, i_reihe, mustang, espace, sharan, 6_reihe, panda, up, seicento, ceed, 5_reihe, yeti, octavia, mii, rx_reihe, modus, fox, matiz, beetle, c1, rio, ...]   \n",
       "3  [petrol, gasoline, unknown, lpg, other, hybrid, cng, electric]                                                                                                                                                                                                                                                                                                                                                                                                                                                                                                                                                                                                                                                                                         \n",
       "4  [volkswagen, audi, jeep, skoda, bmw, peugeot, ford, mazda, nissan, renault, mercedes_benz, opel, seat, citroen, honda, fiat, mini, smart, hyundai, alfa_romeo, subaru, volvo, mitsubishi, kia, lancia, sonstige_autos, toyota, chevrolet, dacia, suzuki, daihatsu, chrysler, jaguar, daewoo, rover, porsche, saab, land_rover, trabant, lada]                                                                                                                                                                                                                                                                                                                                                                                                          \n",
       "5  [unknown, yes, no]                                                                                                                                                                                                                                                                                                                                                                                                                                                                                                                                                                                                                                                                                                                                     \n",
       "\n",
       "   length  \n",
       "0  285346  \n",
       "1  285346  \n",
       "2  285346  \n",
       "3  285346  \n",
       "4  285346  \n",
       "5  285346  "
      ]
     },
     "execution_count": 31,
     "metadata": {},
     "output_type": "execute_result"
    }
   ],
   "source": [
    "# mengatur ukuran tabel\n",
    "pd.set_option('display.max_colwidth', 1)\n",
    "\n",
    "# list untuk menampung item\n",
    "list_item = []\n",
    "\n",
    "for col in df.describe(include='object').columns:\n",
    "    list_item.append([col, df[col].nunique(), df[col].unique(), len(df[col])])\n",
    "    \n",
    "# membuat tabel unique\n",
    "unique_table_info = pd.DataFrame(list_item, columns=['columns', 'number_unique', 'unique_value', 'length'])\n",
    "# menampilkan tabel unique\n",
    "unique_table_info"
   ]
  },
  {
   "cell_type": "markdown",
   "metadata": {},
   "source": [
    "**Insight**\n",
    "\n",
    "Kita masih mendapati outlier pada data namun untuk korelasi kolom numerik terhadap target telah meningkat dan untuk kolom kategorik kita mendapati bahwa kolom-kolom tersebut semuanya merupakan data nominal dimana artinya tidak terdapat urutan atau tingkatan tertentu dalam data. Untuk itu kita akan melakukan transformasi untuk penskalaan menggunakan *RobustScaler* dan untuk data kategorik kita menggunakan *One-hot-Encoding* dan membuat kolom `model` dan `brand` karena dengan menggukana *OHE* dengan banyak nilai unique pada kolom kategorikal kita akan memiliki terlalu banyak dimensi data."
   ]
  },
  {
   "cell_type": "markdown",
   "metadata": {},
   "source": [
    "<div class=\"alert alert-success\">\n",
    "<b>Code Reviewers's comment v.1</b> <a class=\"tocSkip\"></a>\n",
    "\n",
    "Bagus, code yang dijalankan sudah sesuai dengan instruksi dari project.\n",
    "\n",
    "</div>"
   ]
  },
  {
   "cell_type": "markdown",
   "metadata": {},
   "source": [
    "## Pelatihan Model"
   ]
  },
  {
   "cell_type": "markdown",
   "metadata": {},
   "source": [
    "Poin utama dari langkah ini adalah untuk membandingkan metode-metode gradient boosting dengan random forest, decision tree, dan regresi linear. Beberapa model dapat menangani fitur kategorikal, sementara yang lain tidak bisa. Oleh karena itu, kita perlu menyiapkan dua features terpisah untuk kebutuhan pelatihan dari model-model ini."
   ]
  },
  {
   "cell_type": "markdown",
   "metadata": {},
   "source": [
    "### Membagi Feature dan Target"
   ]
  },
  {
   "cell_type": "code",
   "execution_count": 32,
   "metadata": {},
   "outputs": [],
   "source": [
    "# features\n",
    "features = df.drop(['price','model','brand'], axis=1)\n",
    "# features ohe\n",
    "features_ohe = pd.get_dummies(features, drop_first=True)\n",
    "# target\n",
    "target = df.price"
   ]
  },
  {
   "cell_type": "markdown",
   "metadata": {},
   "source": [
    "Kemudian lakukan penskalaan data"
   ]
  },
  {
   "cell_type": "code",
   "execution_count": 33,
   "metadata": {},
   "outputs": [],
   "source": [
    "# definisikan scaler\n",
    "scaler = RobustScaler()"
   ]
  },
  {
   "cell_type": "code",
   "execution_count": 34,
   "metadata": {},
   "outputs": [
    {
     "data": {
      "text/html": [
       "<div>\n",
       "<style scoped>\n",
       "    .dataframe tbody tr th:only-of-type {\n",
       "        vertical-align: middle;\n",
       "    }\n",
       "\n",
       "    .dataframe tbody tr th {\n",
       "        vertical-align: top;\n",
       "    }\n",
       "\n",
       "    .dataframe thead th {\n",
       "        text-align: right;\n",
       "    }\n",
       "</style>\n",
       "<table border=\"1\" class=\"dataframe\">\n",
       "  <thead>\n",
       "    <tr style=\"text-align: right;\">\n",
       "      <th></th>\n",
       "      <th>vehicle_type</th>\n",
       "      <th>registration_year</th>\n",
       "      <th>gearbox</th>\n",
       "      <th>power</th>\n",
       "      <th>mileage</th>\n",
       "      <th>fuel_type</th>\n",
       "      <th>not_repaired</th>\n",
       "    </tr>\n",
       "  </thead>\n",
       "  <tbody>\n",
       "    <tr>\n",
       "      <th>219604</th>\n",
       "      <td>coupe</td>\n",
       "      <td>-0.777778</td>\n",
       "      <td>manual</td>\n",
       "      <td>0.942029</td>\n",
       "      <td>0.0</td>\n",
       "      <td>petrol</td>\n",
       "      <td>no</td>\n",
       "    </tr>\n",
       "    <tr>\n",
       "      <th>224859</th>\n",
       "      <td>sedan</td>\n",
       "      <td>0.111111</td>\n",
       "      <td>manual</td>\n",
       "      <td>0.159420</td>\n",
       "      <td>-1.0</td>\n",
       "      <td>petrol</td>\n",
       "      <td>no</td>\n",
       "    </tr>\n",
       "    <tr>\n",
       "      <th>10492</th>\n",
       "      <td>coupe</td>\n",
       "      <td>0.111111</td>\n",
       "      <td>auto</td>\n",
       "      <td>1.376812</td>\n",
       "      <td>0.0</td>\n",
       "      <td>petrol</td>\n",
       "      <td>no</td>\n",
       "    </tr>\n",
       "    <tr>\n",
       "      <th>190877</th>\n",
       "      <td>unknown</td>\n",
       "      <td>-1.444444</td>\n",
       "      <td>manual</td>\n",
       "      <td>-0.768116</td>\n",
       "      <td>0.0</td>\n",
       "      <td>petrol</td>\n",
       "      <td>unknown</td>\n",
       "    </tr>\n",
       "    <tr>\n",
       "      <th>289763</th>\n",
       "      <td>convertible</td>\n",
       "      <td>0.444444</td>\n",
       "      <td>manual</td>\n",
       "      <td>0.304348</td>\n",
       "      <td>-1.0</td>\n",
       "      <td>petrol</td>\n",
       "      <td>no</td>\n",
       "    </tr>\n",
       "  </tbody>\n",
       "</table>\n",
       "</div>"
      ],
      "text/plain": [
       "       vehicle_type  registration_year gearbox     power  mileage fuel_type  \\\n",
       "219604  coupe       -0.777778           manual  0.942029  0.0      petrol     \n",
       "224859  sedan        0.111111           manual  0.159420 -1.0      petrol     \n",
       "10492   coupe        0.111111           auto    1.376812  0.0      petrol     \n",
       "190877  unknown     -1.444444           manual -0.768116  0.0      petrol     \n",
       "289763  convertible  0.444444           manual  0.304348 -1.0      petrol     \n",
       "\n",
       "       not_repaired  \n",
       "219604  no           \n",
       "224859  no           \n",
       "10492   no           \n",
       "190877  unknown      \n",
       "289763  no           "
      ]
     },
     "execution_count": 34,
     "metadata": {},
     "output_type": "execute_result"
    }
   ],
   "source": [
    "#\n",
    "numeric_cols = features.describe().columns\n",
    "# features untuk LightGBM dan CatBoost \n",
    "transformer_mas = scaler.fit(features[numeric_cols].to_numpy())\n",
    "features.loc[:, numeric_cols] = transformer_mas.transform(features[numeric_cols].to_numpy())\n",
    "features.sample(5)"
   ]
  },
  {
   "cell_type": "code",
   "execution_count": 35,
   "metadata": {
    "scrolled": false
   },
   "outputs": [
    {
     "data": {
      "text/plain": [
       "array([[-1.11111111, -1.52173913,  0.        , ...,  0.        ,\n",
       "         1.        ,  0.        ],\n",
       "       [ 0.88888889,  1.23188406, -1.        , ...,  0.        ,\n",
       "         0.        ,  1.        ],\n",
       "       [ 0.11111111,  0.84057971, -1.        , ...,  0.        ,\n",
       "         1.        ,  0.        ],\n",
       "       ...,\n",
       "       [-0.33333333, -0.05797101, -1.        , ...,  0.        ,\n",
       "         0.        ,  0.        ],\n",
       "       [-0.77777778, -0.04347826,  0.        , ...,  0.        ,\n",
       "         0.        ,  0.        ],\n",
       "       [-0.11111111, -0.07246377,  0.        , ...,  0.        ,\n",
       "         1.        ,  0.        ]])"
      ]
     },
     "execution_count": 35,
     "metadata": {},
     "output_type": "execute_result"
    }
   ],
   "source": [
    "# features untuk algoritma lainnya\n",
    "features_ohe = scaler.fit_transform(features_ohe)\n",
    "features_ohe"
   ]
  },
  {
   "cell_type": "markdown",
   "metadata": {},
   "source": [
    "### Default Parameter"
   ]
  },
  {
   "cell_type": "code",
   "execution_count": 36,
   "metadata": {},
   "outputs": [],
   "source": [
    "transformer = ColumnTransformer([\n",
    "    ('one hot', OneHotEncoder(), ['vehicle_type','gearbox','fuel_type','not_repaired']),\n",
    "    ('ordinal', OrdinalEncoder(), ['brand']),\n",
    "])"
   ]
  },
  {
   "cell_type": "code",
   "execution_count": 37,
   "metadata": {},
   "outputs": [],
   "source": [
    "def rmse(y_true, y_pred):\n",
    "    rmse = np.sqrt(np.mean((y_true - y_pred) ** 2))\n",
    "    return rmse\n",
    "\n",
    "#\n",
    "rmse_scorer = make_scorer(rmse)"
   ]
  },
  {
   "cell_type": "code",
   "execution_count": 38,
   "metadata": {},
   "outputs": [],
   "source": [
    "def eval_model(model, features, target):\n",
    "        \n",
    "    # Inisialisasi list untuk menyimpan hasil\n",
    "    model_names = []\n",
    "    rmse_scores = []\n",
    "    execution_time = []  # Menyimpan waktu eksekusi\n",
    "\n",
    "    # splitting data\n",
    "    features_train, features_test, target_train, target_test = train_test_split(features, \n",
    "                                                                                target, \n",
    "                                                                                test_size=.4, \n",
    "                                                                                random_state=45)\n",
    "    #\n",
    "    start_time = time.time()  # Waktu mulai eksekusi\n",
    "\n",
    "    name = model.__class__.__name__\n",
    "    #\n",
    "    model.fit(features_train, target_train)\n",
    "    target_pred = model.predict(features_test)\n",
    "    rmse_score = rmse(target_test, target_pred)\n",
    "\n",
    "    end_time = time.time()  # Waktu akhir eksekusi\n",
    "    exec_time = end_time - start_time  # Menghitung waktu eksekusi\n",
    "\n",
    "    model_names.append(name)\n",
    "    rmse_scores.append(rmse_score)\n",
    "    execution_time.append(exec_time)\n",
    "    #\n",
    "    \n",
    "    data_result = pd.DataFrame({\n",
    "        'Algoritma' : model_names,\n",
    "        'RMSE Score' : rmse_scores,\n",
    "        'Execution Time (s)' : execution_time\n",
    "    })\n",
    "    return data_result"
   ]
  },
  {
   "cell_type": "markdown",
   "metadata": {},
   "source": [
    "#### Linear Regression\n",
    "\n",
    "Regresi linear memang tidak terlalu cocok untuk mengatur hyperparameter, tetapi regresi linear merupakan model yang tepat untuk melakukan sanity check dibandingkan metode lainnya. Jika kinerja gradient boosting tidak lebih baik daripada regresi linear, berarti ada sesuatu yang salah."
   ]
  },
  {
   "cell_type": "code",
   "execution_count": 39,
   "metadata": {},
   "outputs": [],
   "source": [
    "lr = LinearRegression()"
   ]
  },
  {
   "cell_type": "code",
   "execution_count": 40,
   "metadata": {},
   "outputs": [
    {
     "data": {
      "text/html": [
       "<div>\n",
       "<style scoped>\n",
       "    .dataframe tbody tr th:only-of-type {\n",
       "        vertical-align: middle;\n",
       "    }\n",
       "\n",
       "    .dataframe tbody tr th {\n",
       "        vertical-align: top;\n",
       "    }\n",
       "\n",
       "    .dataframe thead th {\n",
       "        text-align: right;\n",
       "    }\n",
       "</style>\n",
       "<table border=\"1\" class=\"dataframe\">\n",
       "  <thead>\n",
       "    <tr style=\"text-align: right;\">\n",
       "      <th></th>\n",
       "      <th>Algoritma</th>\n",
       "      <th>RMSE Score</th>\n",
       "      <th>Execution Time (s)</th>\n",
       "    </tr>\n",
       "  </thead>\n",
       "  <tbody>\n",
       "    <tr>\n",
       "      <th>0</th>\n",
       "      <td>LinearRegression</td>\n",
       "      <td>2756.19299</td>\n",
       "      <td>0.299623</td>\n",
       "    </tr>\n",
       "  </tbody>\n",
       "</table>\n",
       "</div>"
      ],
      "text/plain": [
       "          Algoritma  RMSE Score  Execution Time (s)\n",
       "0  LinearRegression  2756.19299  0.299623          "
      ]
     },
     "execution_count": 40,
     "metadata": {},
     "output_type": "execute_result"
    }
   ],
   "source": [
    "default_result_lr = eval_model(lr, features_ohe, target)\n",
    "default_result_lr"
   ]
  },
  {
   "cell_type": "markdown",
   "metadata": {},
   "source": [
    "#### Random Forest "
   ]
  },
  {
   "cell_type": "code",
   "execution_count": 41,
   "metadata": {},
   "outputs": [],
   "source": [
    "rf = RandomForestRegressor(random_state=45)"
   ]
  },
  {
   "cell_type": "code",
   "execution_count": 42,
   "metadata": {
    "scrolled": false
   },
   "outputs": [
    {
     "data": {
      "text/html": [
       "<div>\n",
       "<style scoped>\n",
       "    .dataframe tbody tr th:only-of-type {\n",
       "        vertical-align: middle;\n",
       "    }\n",
       "\n",
       "    .dataframe tbody tr th {\n",
       "        vertical-align: top;\n",
       "    }\n",
       "\n",
       "    .dataframe thead th {\n",
       "        text-align: right;\n",
       "    }\n",
       "</style>\n",
       "<table border=\"1\" class=\"dataframe\">\n",
       "  <thead>\n",
       "    <tr style=\"text-align: right;\">\n",
       "      <th></th>\n",
       "      <th>Algoritma</th>\n",
       "      <th>RMSE Score</th>\n",
       "      <th>Execution Time (s)</th>\n",
       "    </tr>\n",
       "  </thead>\n",
       "  <tbody>\n",
       "    <tr>\n",
       "      <th>0</th>\n",
       "      <td>RandomForestRegressor</td>\n",
       "      <td>1861.746372</td>\n",
       "      <td>55.937407</td>\n",
       "    </tr>\n",
       "  </tbody>\n",
       "</table>\n",
       "</div>"
      ],
      "text/plain": [
       "               Algoritma   RMSE Score  Execution Time (s)\n",
       "0  RandomForestRegressor  1861.746372  55.937407         "
      ]
     },
     "execution_count": 42,
     "metadata": {},
     "output_type": "execute_result"
    }
   ],
   "source": [
    "default_result_rf = eval_model(rf, features_ohe, target)\n",
    "default_result_rf"
   ]
  },
  {
   "cell_type": "markdown",
   "metadata": {},
   "source": [
    "#### Decision Tree"
   ]
  },
  {
   "cell_type": "code",
   "execution_count": 43,
   "metadata": {},
   "outputs": [],
   "source": [
    "dt = DecisionTreeRegressor(random_state=45)"
   ]
  },
  {
   "cell_type": "code",
   "execution_count": 44,
   "metadata": {},
   "outputs": [
    {
     "data": {
      "text/html": [
       "<div>\n",
       "<style scoped>\n",
       "    .dataframe tbody tr th:only-of-type {\n",
       "        vertical-align: middle;\n",
       "    }\n",
       "\n",
       "    .dataframe tbody tr th {\n",
       "        vertical-align: top;\n",
       "    }\n",
       "\n",
       "    .dataframe thead th {\n",
       "        text-align: right;\n",
       "    }\n",
       "</style>\n",
       "<table border=\"1\" class=\"dataframe\">\n",
       "  <thead>\n",
       "    <tr style=\"text-align: right;\">\n",
       "      <th></th>\n",
       "      <th>Algoritma</th>\n",
       "      <th>RMSE Score</th>\n",
       "      <th>Execution Time (s)</th>\n",
       "    </tr>\n",
       "  </thead>\n",
       "  <tbody>\n",
       "    <tr>\n",
       "      <th>0</th>\n",
       "      <td>DecisionTreeRegressor</td>\n",
       "      <td>2145.443697</td>\n",
       "      <td>0.891695</td>\n",
       "    </tr>\n",
       "  </tbody>\n",
       "</table>\n",
       "</div>"
      ],
      "text/plain": [
       "               Algoritma   RMSE Score  Execution Time (s)\n",
       "0  DecisionTreeRegressor  2145.443697  0.891695          "
      ]
     },
     "execution_count": 44,
     "metadata": {},
     "output_type": "execute_result"
    }
   ],
   "source": [
    "default_result_dt = eval_model(dt, features_ohe, target)\n",
    "default_result_dt"
   ]
  },
  {
   "cell_type": "markdown",
   "metadata": {},
   "source": [
    "#### K-Nearest Neighbors"
   ]
  },
  {
   "cell_type": "code",
   "execution_count": 45,
   "metadata": {},
   "outputs": [],
   "source": [
    "knn = KNeighborsRegressor()"
   ]
  },
  {
   "cell_type": "code",
   "execution_count": 46,
   "metadata": {},
   "outputs": [
    {
     "data": {
      "text/html": [
       "<div>\n",
       "<style scoped>\n",
       "    .dataframe tbody tr th:only-of-type {\n",
       "        vertical-align: middle;\n",
       "    }\n",
       "\n",
       "    .dataframe tbody tr th {\n",
       "        vertical-align: top;\n",
       "    }\n",
       "\n",
       "    .dataframe thead th {\n",
       "        text-align: right;\n",
       "    }\n",
       "</style>\n",
       "<table border=\"1\" class=\"dataframe\">\n",
       "  <thead>\n",
       "    <tr style=\"text-align: right;\">\n",
       "      <th></th>\n",
       "      <th>Algoritma</th>\n",
       "      <th>RMSE Score</th>\n",
       "      <th>Execution Time (s)</th>\n",
       "    </tr>\n",
       "  </thead>\n",
       "  <tbody>\n",
       "    <tr>\n",
       "      <th>0</th>\n",
       "      <td>KNeighborsRegressor</td>\n",
       "      <td>1995.676664</td>\n",
       "      <td>678.248446</td>\n",
       "    </tr>\n",
       "  </tbody>\n",
       "</table>\n",
       "</div>"
      ],
      "text/plain": [
       "             Algoritma   RMSE Score  Execution Time (s)\n",
       "0  KNeighborsRegressor  1995.676664  678.248446        "
      ]
     },
     "execution_count": 46,
     "metadata": {},
     "output_type": "execute_result"
    }
   ],
   "source": [
    "default_result_knn = eval_model(knn, features_ohe, target)\n",
    "default_result_knn"
   ]
  },
  {
   "cell_type": "markdown",
   "metadata": {},
   "source": [
    "#### CatBoost"
   ]
  },
  {
   "cell_type": "code",
   "execution_count": 50,
   "metadata": {},
   "outputs": [
    {
     "data": {
      "text/plain": [
       "['vehicle_type', 'gearbox', 'fuel_type', 'not_repaired']"
      ]
     },
     "execution_count": 50,
     "metadata": {},
     "output_type": "execute_result"
    }
   ],
   "source": [
    "cat_features = features.describe(include='object').columns.to_list()\n",
    "cat_features"
   ]
  },
  {
   "cell_type": "code",
   "execution_count": 51,
   "metadata": {},
   "outputs": [],
   "source": [
    "catboostreg = CatBoostRegressor(cat_features=cat_features, verbose=70)"
   ]
  },
  {
   "cell_type": "code",
   "execution_count": 52,
   "metadata": {},
   "outputs": [
    {
     "name": "stderr",
     "output_type": "stream",
     "text": [
      "Custom logger is already specified. Specify more than one logger at same time is not thread safe."
     ]
    },
    {
     "name": "stdout",
     "output_type": "stream",
     "text": [
      "Learning rate set to 0.092273\n",
      "0:\tlearn: 4161.1389238\ttotal: 305ms\tremaining: 5m 4s\n",
      "70:\tlearn: 1940.9245228\ttotal: 16.8s\tremaining: 3m 40s\n",
      "140:\tlearn: 1891.2517878\ttotal: 31.9s\tremaining: 3m 14s\n",
      "210:\tlearn: 1867.6192197\ttotal: 46.7s\tremaining: 2m 54s\n",
      "280:\tlearn: 1844.5742795\ttotal: 1m 2s\tremaining: 2m 40s\n",
      "350:\tlearn: 1830.5676276\ttotal: 1m 18s\tremaining: 2m 24s\n",
      "420:\tlearn: 1817.2838688\ttotal: 1m 34s\tremaining: 2m 9s\n",
      "490:\tlearn: 1805.2234345\ttotal: 1m 49s\tremaining: 1m 53s\n",
      "560:\tlearn: 1795.0473753\ttotal: 2m 4s\tremaining: 1m 37s\n",
      "630:\tlearn: 1786.7652789\ttotal: 2m 20s\tremaining: 1m 22s\n",
      "700:\tlearn: 1780.2756685\ttotal: 2m 35s\tremaining: 1m 6s\n",
      "770:\tlearn: 1773.0377252\ttotal: 2m 51s\tremaining: 51s\n",
      "840:\tlearn: 1766.6234193\ttotal: 3m 7s\tremaining: 35.5s\n",
      "910:\tlearn: 1761.5178569\ttotal: 3m 23s\tremaining: 19.8s\n",
      "980:\tlearn: 1755.7073087\ttotal: 3m 39s\tremaining: 4.25s\n",
      "999:\tlearn: 1754.3084194\ttotal: 3m 43s\tremaining: 0us\n"
     ]
    },
    {
     "data": {
      "text/html": [
       "<div>\n",
       "<style scoped>\n",
       "    .dataframe tbody tr th:only-of-type {\n",
       "        vertical-align: middle;\n",
       "    }\n",
       "\n",
       "    .dataframe tbody tr th {\n",
       "        vertical-align: top;\n",
       "    }\n",
       "\n",
       "    .dataframe thead th {\n",
       "        text-align: right;\n",
       "    }\n",
       "</style>\n",
       "<table border=\"1\" class=\"dataframe\">\n",
       "  <thead>\n",
       "    <tr style=\"text-align: right;\">\n",
       "      <th></th>\n",
       "      <th>Algoritma</th>\n",
       "      <th>RMSE Score</th>\n",
       "      <th>Execution Time (s)</th>\n",
       "    </tr>\n",
       "  </thead>\n",
       "  <tbody>\n",
       "    <tr>\n",
       "      <th>0</th>\n",
       "      <td>CatBoostRegressor</td>\n",
       "      <td>1804.695271</td>\n",
       "      <td>225.190451</td>\n",
       "    </tr>\n",
       "  </tbody>\n",
       "</table>\n",
       "</div>"
      ],
      "text/plain": [
       "           Algoritma   RMSE Score  Execution Time (s)\n",
       "0  CatBoostRegressor  1804.695271  225.190451        "
      ]
     },
     "execution_count": 52,
     "metadata": {},
     "output_type": "execute_result"
    }
   ],
   "source": [
    "default_result_cbr = eval_model(catboostreg, features, target)\n",
    "default_result_cbr"
   ]
  },
  {
   "cell_type": "markdown",
   "metadata": {},
   "source": [
    "#### LightGBM"
   ]
  },
  {
   "cell_type": "code",
   "execution_count": 53,
   "metadata": {},
   "outputs": [],
   "source": [
    "lgbmreg = LGBMRegressor()"
   ]
  },
  {
   "cell_type": "code",
   "execution_count": 54,
   "metadata": {},
   "outputs": [
    {
     "data": {
      "text/html": [
       "<div>\n",
       "<style scoped>\n",
       "    .dataframe tbody tr th:only-of-type {\n",
       "        vertical-align: middle;\n",
       "    }\n",
       "\n",
       "    .dataframe tbody tr th {\n",
       "        vertical-align: top;\n",
       "    }\n",
       "\n",
       "    .dataframe thead th {\n",
       "        text-align: right;\n",
       "    }\n",
       "</style>\n",
       "<table border=\"1\" class=\"dataframe\">\n",
       "  <thead>\n",
       "    <tr style=\"text-align: right;\">\n",
       "      <th></th>\n",
       "      <th>Algoritma</th>\n",
       "      <th>RMSE Score</th>\n",
       "      <th>Execution Time (s)</th>\n",
       "    </tr>\n",
       "  </thead>\n",
       "  <tbody>\n",
       "    <tr>\n",
       "      <th>0</th>\n",
       "      <td>LGBMRegressor</td>\n",
       "      <td>1852.264828</td>\n",
       "      <td>3.294449</td>\n",
       "    </tr>\n",
       "  </tbody>\n",
       "</table>\n",
       "</div>"
      ],
      "text/plain": [
       "       Algoritma   RMSE Score  Execution Time (s)\n",
       "0  LGBMRegressor  1852.264828  3.294449          "
      ]
     },
     "execution_count": 54,
     "metadata": {},
     "output_type": "execute_result"
    }
   ],
   "source": [
    "default_result_lgbm = eval_model(lgbmreg, features_ohe, target)\n",
    "default_result_lgbm"
   ]
  },
  {
   "cell_type": "markdown",
   "metadata": {},
   "source": [
    "#### XGBoost"
   ]
  },
  {
   "cell_type": "code",
   "execution_count": 55,
   "metadata": {},
   "outputs": [],
   "source": [
    "xgbreg = XGBRegressor(random_state=45)"
   ]
  },
  {
   "cell_type": "code",
   "execution_count": 56,
   "metadata": {},
   "outputs": [
    {
     "data": {
      "text/html": [
       "<div>\n",
       "<style scoped>\n",
       "    .dataframe tbody tr th:only-of-type {\n",
       "        vertical-align: middle;\n",
       "    }\n",
       "\n",
       "    .dataframe tbody tr th {\n",
       "        vertical-align: top;\n",
       "    }\n",
       "\n",
       "    .dataframe thead th {\n",
       "        text-align: right;\n",
       "    }\n",
       "</style>\n",
       "<table border=\"1\" class=\"dataframe\">\n",
       "  <thead>\n",
       "    <tr style=\"text-align: right;\">\n",
       "      <th></th>\n",
       "      <th>Algoritma</th>\n",
       "      <th>RMSE Score</th>\n",
       "      <th>Execution Time (s)</th>\n",
       "    </tr>\n",
       "  </thead>\n",
       "  <tbody>\n",
       "    <tr>\n",
       "      <th>0</th>\n",
       "      <td>XGBRegressor</td>\n",
       "      <td>1802.343415</td>\n",
       "      <td>42.045885</td>\n",
       "    </tr>\n",
       "  </tbody>\n",
       "</table>\n",
       "</div>"
      ],
      "text/plain": [
       "      Algoritma   RMSE Score  Execution Time (s)\n",
       "0  XGBRegressor  1802.343415  42.045885         "
      ]
     },
     "execution_count": 56,
     "metadata": {},
     "output_type": "execute_result"
    }
   ],
   "source": [
    "default_result_xgb = eval_model(xgbreg, features_ohe, target)\n",
    "default_result_xgb"
   ]
  },
  {
   "cell_type": "markdown",
   "metadata": {},
   "source": [
    "#### Perbandingan Model Dengan Default Parameter"
   ]
  },
  {
   "cell_type": "code",
   "execution_count": 57,
   "metadata": {},
   "outputs": [],
   "source": [
    "# menggabungkan dataset\n",
    "default_compare = pd.concat([default_result_xgb, default_result_lgbm, default_result_cbr,\n",
    "                           default_result_knn, default_result_dt, default_result_rf, default_result_lr] , ignore_index=True).sort_values('RMSE Score')"
   ]
  },
  {
   "cell_type": "code",
   "execution_count": 58,
   "metadata": {},
   "outputs": [
    {
     "data": {
      "text/html": [
       "<div>\n",
       "<style scoped>\n",
       "    .dataframe tbody tr th:only-of-type {\n",
       "        vertical-align: middle;\n",
       "    }\n",
       "\n",
       "    .dataframe tbody tr th {\n",
       "        vertical-align: top;\n",
       "    }\n",
       "\n",
       "    .dataframe thead th {\n",
       "        text-align: right;\n",
       "    }\n",
       "</style>\n",
       "<table border=\"1\" class=\"dataframe\">\n",
       "  <thead>\n",
       "    <tr style=\"text-align: right;\">\n",
       "      <th></th>\n",
       "      <th>Algoritma</th>\n",
       "      <th>RMSE Score</th>\n",
       "      <th>Execution Time (s)</th>\n",
       "    </tr>\n",
       "  </thead>\n",
       "  <tbody>\n",
       "    <tr>\n",
       "      <th>0</th>\n",
       "      <td>XGBRegressor</td>\n",
       "      <td>1802.343415</td>\n",
       "      <td>42.045885</td>\n",
       "    </tr>\n",
       "    <tr>\n",
       "      <th>2</th>\n",
       "      <td>CatBoostRegressor</td>\n",
       "      <td>1804.695271</td>\n",
       "      <td>225.190451</td>\n",
       "    </tr>\n",
       "    <tr>\n",
       "      <th>1</th>\n",
       "      <td>LGBMRegressor</td>\n",
       "      <td>1852.264828</td>\n",
       "      <td>3.294449</td>\n",
       "    </tr>\n",
       "    <tr>\n",
       "      <th>5</th>\n",
       "      <td>RandomForestRegressor</td>\n",
       "      <td>1861.746372</td>\n",
       "      <td>55.937407</td>\n",
       "    </tr>\n",
       "    <tr>\n",
       "      <th>3</th>\n",
       "      <td>KNeighborsRegressor</td>\n",
       "      <td>1995.676664</td>\n",
       "      <td>678.248446</td>\n",
       "    </tr>\n",
       "    <tr>\n",
       "      <th>4</th>\n",
       "      <td>DecisionTreeRegressor</td>\n",
       "      <td>2145.443697</td>\n",
       "      <td>0.891695</td>\n",
       "    </tr>\n",
       "    <tr>\n",
       "      <th>6</th>\n",
       "      <td>LinearRegression</td>\n",
       "      <td>2756.192990</td>\n",
       "      <td>0.299623</td>\n",
       "    </tr>\n",
       "  </tbody>\n",
       "</table>\n",
       "</div>"
      ],
      "text/plain": [
       "               Algoritma   RMSE Score  Execution Time (s)\n",
       "0  XGBRegressor           1802.343415  42.045885         \n",
       "2  CatBoostRegressor      1804.695271  225.190451        \n",
       "1  LGBMRegressor          1852.264828  3.294449          \n",
       "5  RandomForestRegressor  1861.746372  55.937407         \n",
       "3  KNeighborsRegressor    1995.676664  678.248446        \n",
       "4  DecisionTreeRegressor  2145.443697  0.891695          \n",
       "6  LinearRegression       2756.192990  0.299623          "
      ]
     },
     "execution_count": 58,
     "metadata": {},
     "output_type": "execute_result"
    }
   ],
   "source": [
    "# menampilkan hasilnya\n",
    "default_compare"
   ]
  },
  {
   "cell_type": "code",
   "execution_count": 59,
   "metadata": {},
   "outputs": [
    {
     "data": {
      "image/png": "[encoded data removed]",
      "text/plain": [
       "<Figure size 720x432 with 2 Axes>"
      ]
     },
     "metadata": {
      "needs_background": "light"
     },
     "output_type": "display_data"
    }
   ],
   "source": [
    "# membuat visualisasi\n",
    "fig, ax1 = plt.subplots(figsize=(10, 6))\n",
    "\n",
    "# Plot untuk RMSE Scores (sumbu y pertama)\n",
    "bars = ax1.bar(default_compare['Algoritma'], default_compare['RMSE Score'], color='crimson', alpha=0.4)\n",
    "ax1.set_xlabel('Algorithma')\n",
    "ax1.set_ylabel('RMSE Scores', color='crimson')\n",
    "ax1.tick_params(axis='y', labelcolor='crimson')\n",
    "plt.xticks(rotation=45)\n",
    "\n",
    "# Menambahkan label pada bar plot\n",
    "for bar in bars:\n",
    "    yval = bar.get_height()\n",
    "    ax1.text(bar.get_x() + bar.get_width() / 2, yval, round(yval, 2), ha='center', va='bottom')\n",
    "\n",
    "    \n",
    "# Menambahkan sumbu y kedua untuk Execution Time (sumbu y kedua)\n",
    "ax2 = ax1.twinx()\n",
    "ax2.plot(default_compare['Algoritma'], default_compare['Execution Time (s)'], color='darkblue', marker='o')\n",
    "ax2.set_ylabel('Execution Time (s)', color='darkblue')\n",
    "ax2.tick_params(axis='y', labelcolor='darkblue')\n",
    "\n",
    "# Menambahkan label pada titik-titik pada line plot\n",
    "for i, txt in enumerate(default_compare['Execution Time (s)']):\n",
    "    ax2.text(i, txt, round(txt, 2), ha='right', va='bottom')\n",
    "    \n",
    "\n",
    "# Judul dan layout\n",
    "plt.title('RMSE Scores and Execution Time dari Algorithma')\n",
    "plt.ylim(0, 2000)\n",
    "plt.tight_layout()\n",
    "plt.show()\n"
   ]
  },
  {
   "cell_type": "markdown",
   "metadata": {},
   "source": [
    "**Kesimpulan**\n",
    "\n",
    "Untuk perbandingan model menggunakan default parameter kita mendapatkan RMSE terendah menggunakan XGBoost dan waktu eksekusi yang bisa dibilang cepat. "
   ]
  },
  {
   "cell_type": "markdown",
   "metadata": {},
   "source": [
    "<div class=\"alert alert-success\">\n",
    "<b>Code Reviewers's comment v.1</b> <a class=\"tocSkip\"></a>\n",
    "\n",
    "Bagus, code yang dijalankan sudah sesuai dengan instruksi dari project.\n",
    "\n",
    "</div>"
   ]
  },
  {
   "cell_type": "markdown",
   "metadata": {},
   "source": [
    "### Tuning Hyper-Parameter"
   ]
  },
  {
   "cell_type": "code",
   "execution_count": 60,
   "metadata": {},
   "outputs": [],
   "source": [
    "# scoring untuk rmse\n",
    "scorer = make_scorer(rmse, greater_is_better=False)"
   ]
  },
  {
   "cell_type": "code",
   "execution_count": 61,
   "metadata": {},
   "outputs": [],
   "source": [
    "# splitting data untuk features ohe\n",
    "features_ohe_train, features_ohe_test, target_train, target_test = train_test_split(features_ohe,\n",
    "                                                                                   target, test_size=.4,\n",
    "                                                                                   random_state=45)"
   ]
  },
  {
   "cell_type": "markdown",
   "metadata": {},
   "source": [
    "#### Random Forest"
   ]
  },
  {
   "cell_type": "code",
   "execution_count": 62,
   "metadata": {},
   "outputs": [
    {
     "data": {
      "text/plain": [
       "{'bootstrap': True,\n",
       " 'ccp_alpha': 0.0,\n",
       " 'criterion': 'mse',\n",
       " 'max_depth': None,\n",
       " 'max_features': 'auto',\n",
       " 'max_leaf_nodes': None,\n",
       " 'max_samples': None,\n",
       " 'min_impurity_decrease': 0.0,\n",
       " 'min_impurity_split': None,\n",
       " 'min_samples_leaf': 1,\n",
       " 'min_samples_split': 2,\n",
       " 'min_weight_fraction_leaf': 0.0,\n",
       " 'n_estimators': 100,\n",
       " 'n_jobs': None,\n",
       " 'oob_score': False,\n",
       " 'random_state': 45,\n",
       " 'verbose': 0,\n",
       " 'warm_start': False}"
      ]
     },
     "execution_count": 62,
     "metadata": {},
     "output_type": "execute_result"
    }
   ],
   "source": [
    "rf.get_params()"
   ]
  },
  {
   "cell_type": "code",
   "execution_count": 63,
   "metadata": {},
   "outputs": [
    {
     "name": "stdout",
     "output_type": "stream",
     "text": [
      "CPU times: user 3min 11s, sys: 261 ms, total: 3min 12s\n",
      "Wall time: 3min 12s\n"
     ]
    },
    {
     "data": {
      "text/html": [
       "<div>\n",
       "<style scoped>\n",
       "    .dataframe tbody tr th:only-of-type {\n",
       "        vertical-align: middle;\n",
       "    }\n",
       "\n",
       "    .dataframe tbody tr th {\n",
       "        vertical-align: top;\n",
       "    }\n",
       "\n",
       "    .dataframe thead th {\n",
       "        text-align: right;\n",
       "    }\n",
       "</style>\n",
       "<table border=\"1\" class=\"dataframe\">\n",
       "  <thead>\n",
       "    <tr style=\"text-align: right;\">\n",
       "      <th></th>\n",
       "      <th>n_estimators</th>\n",
       "      <th>rmse</th>\n",
       "      <th>executed_time</th>\n",
       "    </tr>\n",
       "  </thead>\n",
       "  <tbody>\n",
       "    <tr>\n",
       "      <th>6</th>\n",
       "      <td>92</td>\n",
       "      <td>1862.052160</td>\n",
       "      <td>51.076864</td>\n",
       "    </tr>\n",
       "    <tr>\n",
       "      <th>5</th>\n",
       "      <td>77</td>\n",
       "      <td>1862.913939</td>\n",
       "      <td>43.107810</td>\n",
       "    </tr>\n",
       "    <tr>\n",
       "      <th>4</th>\n",
       "      <td>62</td>\n",
       "      <td>1865.155439</td>\n",
       "      <td>35.992705</td>\n",
       "    </tr>\n",
       "    <tr>\n",
       "      <th>3</th>\n",
       "      <td>47</td>\n",
       "      <td>1866.944655</td>\n",
       "      <td>30.039186</td>\n",
       "    </tr>\n",
       "    <tr>\n",
       "      <th>2</th>\n",
       "      <td>32</td>\n",
       "      <td>1871.589559</td>\n",
       "      <td>20.261524</td>\n",
       "    </tr>\n",
       "    <tr>\n",
       "      <th>1</th>\n",
       "      <td>17</td>\n",
       "      <td>1881.919744</td>\n",
       "      <td>10.806509</td>\n",
       "    </tr>\n",
       "    <tr>\n",
       "      <th>0</th>\n",
       "      <td>2</td>\n",
       "      <td>2044.506165</td>\n",
       "      <td>1.245737</td>\n",
       "    </tr>\n",
       "  </tbody>\n",
       "</table>\n",
       "</div>"
      ],
      "text/plain": [
       "   n_estimators         rmse  executed_time\n",
       "6  92            1862.052160  51.076864    \n",
       "5  77            1862.913939  43.107810    \n",
       "4  62            1865.155439  35.992705    \n",
       "3  47            1866.944655  30.039186    \n",
       "2  32            1871.589559  20.261524    \n",
       "1  17            1881.919744  10.806509    \n",
       "0  2             2044.506165  1.245737     "
      ]
     },
     "execution_count": 63,
     "metadata": {},
     "output_type": "execute_result"
    }
   ],
   "source": [
    "%%time\n",
    "rmse_scores = []\n",
    "n_est = []\n",
    "executed_time = []\n",
    "\n",
    "for est in range(2, 101, 15):\n",
    "    rf = RandomForestRegressor(n_estimators=est, random_state=45)\n",
    "    start_time = time.time()\n",
    "    \n",
    "    # Calculate cross validation score with RMSE as metric\n",
    "    rf.fit(features_ohe_train, target_train)\n",
    "    \n",
    "    # Calculate the average of the best RMSE scores and scores\n",
    "    target_pred = rf.predict(features_ohe_test)\n",
    "    rmse_score = rmse(target_test, target_pred)\n",
    "\n",
    "    end_time = time.time()  # Waktu akhir eksekusi\n",
    "    exec_time = end_time - start_time  # Menghitung waktu eksekusi\n",
    "    \n",
    "    rmse_scores.append(rmse_score)\n",
    "    n_est.append(est)\n",
    "    executed_time.append(exec_time)\n",
    "        \n",
    "pd.DataFrame({\n",
    "    'n_estimators' : n_est,\n",
    "    'rmse' : rmse_scores,\n",
    "    'executed_time' : executed_time\n",
    "}).sort_values('rmse')"
   ]
  },
  {
   "cell_type": "markdown",
   "metadata": {},
   "source": [
    "Kita tidak menemukan nilai yang lbih bagus dari n_estimators = 100. Untuk itu kita akan tetap menggunakan nilai defaultnya. selanjutnya dengan mencoba untuk max_depth."
   ]
  },
  {
   "cell_type": "code",
   "execution_count": 64,
   "metadata": {},
   "outputs": [
    {
     "data": {
      "text/html": [
       "<div>\n",
       "<style scoped>\n",
       "    .dataframe tbody tr th:only-of-type {\n",
       "        vertical-align: middle;\n",
       "    }\n",
       "\n",
       "    .dataframe tbody tr th {\n",
       "        vertical-align: top;\n",
       "    }\n",
       "\n",
       "    .dataframe thead th {\n",
       "        text-align: right;\n",
       "    }\n",
       "</style>\n",
       "<table border=\"1\" class=\"dataframe\">\n",
       "  <thead>\n",
       "    <tr style=\"text-align: right;\">\n",
       "      <th></th>\n",
       "      <th>max_depth</th>\n",
       "      <th>rmse</th>\n",
       "      <th>executed_time</th>\n",
       "    </tr>\n",
       "  </thead>\n",
       "  <tbody>\n",
       "    <tr>\n",
       "      <th>5</th>\n",
       "      <td>16</td>\n",
       "      <td>1819.378720</td>\n",
       "      <td>46.881956</td>\n",
       "    </tr>\n",
       "    <tr>\n",
       "      <th>6</th>\n",
       "      <td>19</td>\n",
       "      <td>1834.949102</td>\n",
       "      <td>50.527522</td>\n",
       "    </tr>\n",
       "    <tr>\n",
       "      <th>4</th>\n",
       "      <td>13</td>\n",
       "      <td>1838.690394</td>\n",
       "      <td>41.540665</td>\n",
       "    </tr>\n",
       "    <tr>\n",
       "      <th>7</th>\n",
       "      <td>22</td>\n",
       "      <td>1851.841768</td>\n",
       "      <td>54.321527</td>\n",
       "    </tr>\n",
       "    <tr>\n",
       "      <th>8</th>\n",
       "      <td>25</td>\n",
       "      <td>1858.934220</td>\n",
       "      <td>61.920298</td>\n",
       "    </tr>\n",
       "    <tr>\n",
       "      <th>10</th>\n",
       "      <td>31</td>\n",
       "      <td>1860.898874</td>\n",
       "      <td>56.122422</td>\n",
       "    </tr>\n",
       "    <tr>\n",
       "      <th>9</th>\n",
       "      <td>28</td>\n",
       "      <td>1861.298599</td>\n",
       "      <td>55.140944</td>\n",
       "    </tr>\n",
       "    <tr>\n",
       "      <th>11</th>\n",
       "      <td>34</td>\n",
       "      <td>1861.635156</td>\n",
       "      <td>55.919642</td>\n",
       "    </tr>\n",
       "    <tr>\n",
       "      <th>12</th>\n",
       "      <td>37</td>\n",
       "      <td>1861.728499</td>\n",
       "      <td>55.632960</td>\n",
       "    </tr>\n",
       "    <tr>\n",
       "      <th>14</th>\n",
       "      <td>43</td>\n",
       "      <td>1861.746372</td>\n",
       "      <td>56.316812</td>\n",
       "    </tr>\n",
       "    <tr>\n",
       "      <th>13</th>\n",
       "      <td>40</td>\n",
       "      <td>1861.746372</td>\n",
       "      <td>55.240331</td>\n",
       "    </tr>\n",
       "    <tr>\n",
       "      <th>16</th>\n",
       "      <td>49</td>\n",
       "      <td>1861.746372</td>\n",
       "      <td>55.331252</td>\n",
       "    </tr>\n",
       "    <tr>\n",
       "      <th>15</th>\n",
       "      <td>46</td>\n",
       "      <td>1861.746372</td>\n",
       "      <td>56.045281</td>\n",
       "    </tr>\n",
       "    <tr>\n",
       "      <th>3</th>\n",
       "      <td>10</td>\n",
       "      <td>1928.121461</td>\n",
       "      <td>40.030864</td>\n",
       "    </tr>\n",
       "    <tr>\n",
       "      <th>2</th>\n",
       "      <td>7</td>\n",
       "      <td>2089.086861</td>\n",
       "      <td>27.769096</td>\n",
       "    </tr>\n",
       "    <tr>\n",
       "      <th>1</th>\n",
       "      <td>4</td>\n",
       "      <td>2496.359984</td>\n",
       "      <td>19.481733</td>\n",
       "    </tr>\n",
       "    <tr>\n",
       "      <th>0</th>\n",
       "      <td>1</td>\n",
       "      <td>3632.758697</td>\n",
       "      <td>6.220970</td>\n",
       "    </tr>\n",
       "  </tbody>\n",
       "</table>\n",
       "</div>"
      ],
      "text/plain": [
       "    max_depth         rmse  executed_time\n",
       "5   16         1819.378720  46.881956    \n",
       "6   19         1834.949102  50.527522    \n",
       "4   13         1838.690394  41.540665    \n",
       "7   22         1851.841768  54.321527    \n",
       "8   25         1858.934220  61.920298    \n",
       "10  31         1860.898874  56.122422    \n",
       "9   28         1861.298599  55.140944    \n",
       "11  34         1861.635156  55.919642    \n",
       "12  37         1861.728499  55.632960    \n",
       "14  43         1861.746372  56.316812    \n",
       "13  40         1861.746372  55.240331    \n",
       "16  49         1861.746372  55.331252    \n",
       "15  46         1861.746372  56.045281    \n",
       "3   10         1928.121461  40.030864    \n",
       "2   7          2089.086861  27.769096    \n",
       "1   4          2496.359984  19.481733    \n",
       "0   1          3632.758697  6.220970     "
      ]
     },
     "execution_count": 64,
     "metadata": {},
     "output_type": "execute_result"
    }
   ],
   "source": [
    "rmse_scores = []\n",
    "max_depth = []\n",
    "executed_time = []\n",
    "\n",
    "for depth in range(1, 50, 3):\n",
    "    rf = RandomForestRegressor(n_estimators=100, max_depth=depth, random_state=45)\n",
    "    start_time = time.time()\n",
    "    \n",
    "    # Calculate cross validation score with RMSE as metric\n",
    "    rf.fit(features_ohe_train, target_train)\n",
    "    \n",
    "    # Calculate the average of the best RMSE scores and scores\n",
    "    target_pred = rf.predict(features_ohe_test)\n",
    "    rmse_score = rmse(target_test, target_pred)\n",
    "\n",
    "    end_time = time.time()  # Waktu akhir eksekusi\n",
    "    exec_time = end_time - start_time  # Menghitung waktu eksekusi\n",
    "    \n",
    "    rmse_scores.append(rmse_score)\n",
    "    max_depth.append(depth)\n",
    "    executed_time.append(exec_time)\n",
    "        \n",
    "pd.DataFrame({\n",
    "    'max_depth' : max_depth,\n",
    "    'rmse' : rmse_scores,\n",
    "    'executed_time' : executed_time\n",
    "}).sort_values('rmse')"
   ]
  },
  {
   "cell_type": "markdown",
   "metadata": {},
   "source": [
    "Untuk algoritma random forest kita mendapatkan parameter n_estimators = 100 dan max_depth = 16. Akan tetapi waktu eksekusinya cukup lama."
   ]
  },
  {
   "cell_type": "code",
   "execution_count": 65,
   "metadata": {
    "scrolled": false
   },
   "outputs": [],
   "source": [
    "# definisi model dengan best parameter\n",
    "rf_best_param = RandomForestRegressor(n_estimators=100, max_depth=16, random_state=45)"
   ]
  },
  {
   "cell_type": "code",
   "execution_count": 66,
   "metadata": {},
   "outputs": [
    {
     "data": {
      "text/html": [
       "<div>\n",
       "<style scoped>\n",
       "    .dataframe tbody tr th:only-of-type {\n",
       "        vertical-align: middle;\n",
       "    }\n",
       "\n",
       "    .dataframe tbody tr th {\n",
       "        vertical-align: top;\n",
       "    }\n",
       "\n",
       "    .dataframe thead th {\n",
       "        text-align: right;\n",
       "    }\n",
       "</style>\n",
       "<table border=\"1\" class=\"dataframe\">\n",
       "  <thead>\n",
       "    <tr style=\"text-align: right;\">\n",
       "      <th></th>\n",
       "      <th>Algoritma</th>\n",
       "      <th>RMSE Score</th>\n",
       "      <th>Execution Time (s)</th>\n",
       "    </tr>\n",
       "  </thead>\n",
       "  <tbody>\n",
       "    <tr>\n",
       "      <th>0</th>\n",
       "      <td>RandomForestRegressor</td>\n",
       "      <td>1819.37872</td>\n",
       "      <td>46.887318</td>\n",
       "    </tr>\n",
       "  </tbody>\n",
       "</table>\n",
       "</div>"
      ],
      "text/plain": [
       "               Algoritma  RMSE Score  Execution Time (s)\n",
       "0  RandomForestRegressor  1819.37872  46.887318         "
      ]
     },
     "execution_count": 66,
     "metadata": {},
     "output_type": "execute_result"
    }
   ],
   "source": [
    "new_rf_result = eval_model(rf_best_param, features_ohe, target)\n",
    "new_rf_result"
   ]
  },
  {
   "cell_type": "markdown",
   "metadata": {},
   "source": [
    "#### LightGBM"
   ]
  },
  {
   "cell_type": "code",
   "execution_count": 67,
   "metadata": {},
   "outputs": [
    {
     "data": {
      "text/plain": [
       "{'boosting_type': 'gbdt',\n",
       " 'class_weight': None,\n",
       " 'colsample_bytree': 1.0,\n",
       " 'importance_type': 'split',\n",
       " 'learning_rate': 0.1,\n",
       " 'max_depth': -1,\n",
       " 'min_child_samples': 20,\n",
       " 'min_child_weight': 0.001,\n",
       " 'min_split_gain': 0.0,\n",
       " 'n_estimators': 100,\n",
       " 'n_jobs': -1,\n",
       " 'num_leaves': 31,\n",
       " 'objective': None,\n",
       " 'random_state': None,\n",
       " 'reg_alpha': 0.0,\n",
       " 'reg_lambda': 0.0,\n",
       " 'silent': 'warn',\n",
       " 'subsample': 1.0,\n",
       " 'subsample_for_bin': 200000,\n",
       " 'subsample_freq': 0}"
      ]
     },
     "execution_count": 67,
     "metadata": {},
     "output_type": "execute_result"
    }
   ],
   "source": [
    "# param lightGBM\n",
    "lgbmreg.get_params()"
   ]
  },
  {
   "cell_type": "code",
   "execution_count": 68,
   "metadata": {},
   "outputs": [
    {
     "name": "stdout",
     "output_type": "stream",
     "text": [
      "Parameter terbaik: LGBMRegressor(colsample_bytree=0.7777777777777778,\n",
      "              learning_rate=0.22777777777777777, max_depth=9, n_estimators=150,\n",
      "              reg_alpha=0.7777777777777777, reg_lambda=0.6666666666666666,\n",
      "              subsample=0.6666666666666666)\n",
      "RMSE Score 1807.6072072889733\n",
      "CPU times: user 2min 56s, sys: 1.12 s, total: 2min 57s\n",
      "Wall time: 2min 59s\n"
     ]
    }
   ],
   "source": [
    "%%time\n",
    "\n",
    "# Definisi Parameter\n",
    "param_dist = {\n",
    "    'n_estimators': np.arange(50, 200, 20),\n",
    "    'max_depth': np.arange(3, 10),\n",
    "    'learning_rate': np.linspace(0.01, 0.5, 10),\n",
    "    'subsample': np.linspace(0.5, 1.0, 10),\n",
    "    'colsample_bytree': np.linspace(0.5, 1.0, 10),\n",
    "    'reg_alpha': np.linspace(0.0, 1.0, 10),\n",
    "    'reg_lambda': np.linspace(0.0, 1.0, 10)\n",
    "}\n",
    "\n",
    "# Inisialisasi RandomizedSearchCV\n",
    "lgbm_random = RandomizedSearchCV(\n",
    "    estimator=lgbmreg,\n",
    "    param_distributions=param_dist,\n",
    "    n_iter=10,  # Jumlah iterasi pencarian acak\n",
    "    cv=5,  # Jumlah lipatan cross-validation\n",
    "    scoring=scorer,  # Metrik evaluasi yang digunakan\n",
    "    random_state=45, n_jobs= -1\n",
    ")\n",
    "\n",
    "# Melakukan fitting model ke data\n",
    "lgbm_random.fit(features_ohe_train, target_train)\n",
    "best_lgbm = lgbm_random.best_estimator_\n",
    "\n",
    "# Menampilkan parameter terbaik yang dihasilkan\n",
    "print(\"Parameter terbaik:\", lgbm_random.best_estimator_)\n",
    "print(\"RMSE Score\", -1 * lgbm_random.best_score_)"
   ]
  },
  {
   "cell_type": "code",
   "execution_count": 69,
   "metadata": {},
   "outputs": [
    {
     "data": {
      "text/html": [
       "<div>\n",
       "<style scoped>\n",
       "    .dataframe tbody tr th:only-of-type {\n",
       "        vertical-align: middle;\n",
       "    }\n",
       "\n",
       "    .dataframe tbody tr th {\n",
       "        vertical-align: top;\n",
       "    }\n",
       "\n",
       "    .dataframe thead th {\n",
       "        text-align: right;\n",
       "    }\n",
       "</style>\n",
       "<table border=\"1\" class=\"dataframe\">\n",
       "  <thead>\n",
       "    <tr style=\"text-align: right;\">\n",
       "      <th></th>\n",
       "      <th>Algoritma</th>\n",
       "      <th>RMSE Score</th>\n",
       "      <th>Execution Time (s)</th>\n",
       "    </tr>\n",
       "  </thead>\n",
       "  <tbody>\n",
       "    <tr>\n",
       "      <th>0</th>\n",
       "      <td>LGBMRegressor</td>\n",
       "      <td>1803.768249</td>\n",
       "      <td>4.027401</td>\n",
       "    </tr>\n",
       "  </tbody>\n",
       "</table>\n",
       "</div>"
      ],
      "text/plain": [
       "       Algoritma   RMSE Score  Execution Time (s)\n",
       "0  LGBMRegressor  1803.768249  4.027401          "
      ]
     },
     "execution_count": 69,
     "metadata": {},
     "output_type": "execute_result"
    }
   ],
   "source": [
    "new_lgbm_result = eval_model(best_lgbm, features_ohe, target)\n",
    "new_lgbm_result"
   ]
  },
  {
   "cell_type": "markdown",
   "metadata": {},
   "source": [
    "Untuk algoritma LightGBM dengan tuning hyper-param kita mendapatkan peningkatan sebesar 50 point untuk nilai RMSE menjadi 1803."
   ]
  },
  {
   "cell_type": "markdown",
   "metadata": {},
   "source": [
    "#### CatBoost"
   ]
  },
  {
   "cell_type": "code",
   "execution_count": 70,
   "metadata": {},
   "outputs": [
    {
     "data": {
      "text/plain": [
       "{'loss_function': 'RMSE',\n",
       " 'verbose': 70,\n",
       " 'cat_features': ['vehicle_type', 'gearbox', 'fuel_type', 'not_repaired']}"
      ]
     },
     "execution_count": 70,
     "metadata": {},
     "output_type": "execute_result"
    }
   ],
   "source": [
    "catboostreg.get_params()"
   ]
  },
  {
   "cell_type": "markdown",
   "metadata": {},
   "source": [
    "Karena algoritma ini dapat megatasi langsung feature kategorik, kita akan splitting ulang data."
   ]
  },
  {
   "cell_type": "code",
   "execution_count": 71,
   "metadata": {},
   "outputs": [],
   "source": [
    "features_train, features_test, target_train, target_test = train_test_split(features, target, test_size=.4,\n",
    "                                                                           random_state=45)"
   ]
  },
  {
   "cell_type": "code",
   "execution_count": 72,
   "metadata": {
    "scrolled": true
   },
   "outputs": [
    {
     "name": "stdout",
     "output_type": "stream",
     "text": [
      "0:\tlearn: 3246.7999455\ttotal: 99ms\tremaining: 17.2s\n",
      "70:\tlearn: 1886.9399090\ttotal: 6.23s\tremaining: 9.12s\n",
      "140:\tlearn: 1856.4379253\ttotal: 12.2s\tremaining: 2.95s\n",
      "174:\tlearn: 1846.4889642\ttotal: 15.1s\tremaining: 0us\n",
      "0:\tlearn: 3276.6635744\ttotal: 95.1ms\tremaining: 16.5s\n",
      "70:\tlearn: 1899.6001174\ttotal: 6.05s\tremaining: 8.87s\n",
      "140:\tlearn: 1867.7939914\ttotal: 11.9s\tremaining: 2.88s\n",
      "174:\tlearn: 1857.3688710\ttotal: 14.8s\tremaining: 0us\n",
      "0:\tlearn: 3247.1069820\ttotal: 93.3ms\tremaining: 16.2s\n",
      "70:\tlearn: 1893.7406674\ttotal: 6.22s\tremaining: 9.11s\n",
      "140:\tlearn: 1864.8227432\ttotal: 12.2s\tremaining: 2.93s\n",
      "174:\tlearn: 1854.9199566\ttotal: 15s\tremaining: 0us\n",
      "0:\tlearn: 3243.4475054\ttotal: 96ms\tremaining: 16.7s\n",
      "70:\tlearn: 1887.6369344\ttotal: 6.08s\tremaining: 8.9s\n",
      "140:\tlearn: 1856.0363260\ttotal: 12s\tremaining: 2.89s\n",
      "174:\tlearn: 1844.4212626\ttotal: 14.9s\tremaining: 0us\n",
      "0:\tlearn: 3254.1081119\ttotal: 96ms\tremaining: 16.7s\n",
      "70:\tlearn: 1896.6631682\ttotal: 6.1s\tremaining: 8.94s\n",
      "140:\tlearn: 1866.4647227\ttotal: 12s\tremaining: 2.89s\n",
      "174:\tlearn: 1856.4859242\ttotal: 14.8s\tremaining: 0us\n",
      "0:\tlearn: 3586.5012297\ttotal: 59.7ms\tremaining: 4.42s\n",
      "70:\tlearn: 1948.5506565\ttotal: 3.76s\tremaining: 212ms\n",
      "74:\tlearn: 1943.9626072\ttotal: 3.97s\tremaining: 0us\n",
      "0:\tlearn: 3597.8645222\ttotal: 66.3ms\tremaining: 4.91s\n",
      "70:\tlearn: 1962.1038392\ttotal: 3.68s\tremaining: 208ms\n",
      "74:\tlearn: 1958.3967512\ttotal: 3.9s\tremaining: 0us\n",
      "0:\tlearn: 3582.4429043\ttotal: 59.3ms\tremaining: 4.39s\n",
      "70:\tlearn: 1948.8724435\ttotal: 3.65s\tremaining: 206ms\n",
      "74:\tlearn: 1945.2175359\ttotal: 3.85s\tremaining: 0us\n",
      "0:\tlearn: 3578.0778377\ttotal: 59.2ms\tremaining: 4.38s\n",
      "70:\tlearn: 1938.6292062\ttotal: 3.64s\tremaining: 205ms\n",
      "74:\tlearn: 1934.0260005\ttotal: 3.84s\tremaining: 0us\n",
      "0:\tlearn: 3589.4879713\ttotal: 58.7ms\tremaining: 4.34s\n",
      "70:\tlearn: 1952.6379194\ttotal: 3.65s\tremaining: 206ms\n",
      "74:\tlearn: 1947.8855271\ttotal: 3.87s\tremaining: 0us\n",
      "0:\tlearn: 4080.8020255\ttotal: 99.3ms\tremaining: 4.87s\n",
      "49:\tlearn: 1982.2280018\ttotal: 4.42s\tremaining: 0us\n",
      "0:\tlearn: 4095.0618863\ttotal: 102ms\tremaining: 4.98s\n",
      "49:\tlearn: 1993.6742619\ttotal: 4.34s\tremaining: 0us\n",
      "0:\tlearn: 4087.4168176\ttotal: 98.1ms\tremaining: 4.81s\n",
      "49:\tlearn: 1991.1882351\ttotal: 4.29s\tremaining: 0us\n",
      "0:\tlearn: 4081.8227726\ttotal: 93.8ms\tremaining: 4.6s\n",
      "49:\tlearn: 1981.0906948\ttotal: 4.26s\tremaining: 0us\n",
      "0:\tlearn: 4096.6869710\ttotal: 95.2ms\tremaining: 4.66s\n",
      "49:\tlearn: 1993.9089816\ttotal: 4.27s\tremaining: 0us\n",
      "0:\tlearn: 4393.9327314\ttotal: 95.4ms\tremaining: 11.8s\n",
      "70:\tlearn: 3025.1481200\ttotal: 6.52s\tremaining: 4.96s\n",
      "124:\tlearn: 2558.4757403\ttotal: 11.3s\tremaining: 0us\n",
      "0:\tlearn: 4402.8874530\ttotal: 93.8ms\tremaining: 11.6s\n",
      "70:\tlearn: 3034.1935174\ttotal: 6.25s\tremaining: 4.76s\n",
      "124:\tlearn: 2569.0403533\ttotal: 11s\tremaining: 0us\n",
      "0:\tlearn: 4402.8528353\ttotal: 98.2ms\tremaining: 12.2s\n",
      "70:\tlearn: 3031.9999187\ttotal: 6.28s\tremaining: 4.78s\n",
      "124:\tlearn: 2561.7506772\ttotal: 11.1s\tremaining: 0us\n",
      "0:\tlearn: 4396.6002968\ttotal: 101ms\tremaining: 12.5s\n",
      "70:\tlearn: 3023.8645309\ttotal: 6.2s\tremaining: 4.72s\n",
      "124:\tlearn: 2557.4030514\ttotal: 10.9s\tremaining: 0us\n",
      "0:\tlearn: 4412.9580429\ttotal: 96.8ms\tremaining: 12s\n",
      "70:\tlearn: 3036.1461043\ttotal: 6.25s\tremaining: 4.75s\n",
      "124:\tlearn: 2566.5636108\ttotal: 11s\tremaining: 0us\n",
      "0:\tlearn: 3791.8208406\ttotal: 60.3ms\tremaining: 5.97s\n",
      "70:\tlearn: 1959.8069200\ttotal: 3.6s\tremaining: 1.47s\n",
      "99:\tlearn: 1938.0524894\ttotal: 5.04s\tremaining: 0us\n",
      "0:\tlearn: 3801.8826353\ttotal: 58.3ms\tremaining: 5.77s\n",
      "70:\tlearn: 1976.4063261\ttotal: 3.52s\tremaining: 1.44s\n",
      "99:\tlearn: 1952.5173498\ttotal: 4.95s\tremaining: 0us\n",
      "0:\tlearn: 3799.4268728\ttotal: 60.6ms\tremaining: 6s\n",
      "70:\tlearn: 1963.7600941\ttotal: 3.54s\tremaining: 1.44s\n",
      "99:\tlearn: 1938.6216560\ttotal: 4.96s\tremaining: 0us\n",
      "0:\tlearn: 3794.2219156\ttotal: 61.9ms\tremaining: 6.13s\n",
      "70:\tlearn: 1954.5660583\ttotal: 3.62s\tremaining: 1.48s\n",
      "99:\tlearn: 1933.5795341\ttotal: 5.06s\tremaining: 0us\n",
      "0:\tlearn: 3806.4677424\ttotal: 57.8ms\tremaining: 5.72s\n",
      "70:\tlearn: 1964.3746810\ttotal: 3.5s\tremaining: 1.43s\n",
      "99:\tlearn: 1941.0411391\ttotal: 4.92s\tremaining: 0us\n",
      "0:\tlearn: 3929.3361896\ttotal: 95.4ms\tremaining: 9.45s\n",
      "70:\tlearn: 1883.1960872\ttotal: 6.09s\tremaining: 2.49s\n",
      "99:\tlearn: 1853.7651512\ttotal: 8.57s\tremaining: 0us\n",
      "0:\tlearn: 3940.0982242\ttotal: 96.1ms\tremaining: 9.51s\n",
      "70:\tlearn: 1894.8880070\ttotal: 6.18s\tremaining: 2.53s\n",
      "99:\tlearn: 1869.9815763\ttotal: 8.7s\tremaining: 0us\n",
      "0:\tlearn: 3955.4921522\ttotal: 93.3ms\tremaining: 9.24s\n",
      "70:\tlearn: 1895.5887266\ttotal: 6.16s\tremaining: 2.51s\n",
      "99:\tlearn: 1865.4133980\ttotal: 8.67s\tremaining: 0us\n",
      "0:\tlearn: 3929.2825607\ttotal: 93.3ms\tremaining: 9.24s\n",
      "70:\tlearn: 1883.0784973\ttotal: 6.08s\tremaining: 2.48s\n",
      "99:\tlearn: 1854.7204377\ttotal: 8.69s\tremaining: 0us\n",
      "0:\tlearn: 3943.5210308\ttotal: 94.4ms\tremaining: 9.34s\n",
      "70:\tlearn: 1891.3652571\ttotal: 6.22s\tremaining: 2.54s\n",
      "99:\tlearn: 1865.3407919\ttotal: 8.76s\tremaining: 0us\n",
      "0:\tlearn: 3036.0260407\ttotal: 124ms\tremaining: 6.05s\n",
      "49:\tlearn: 1783.8558963\ttotal: 5.64s\tremaining: 0us\n",
      "0:\tlearn: 3045.3625787\ttotal: 120ms\tremaining: 5.89s\n",
      "49:\tlearn: 1792.9591491\ttotal: 5.66s\tremaining: 0us\n",
      "0:\tlearn: 3082.2773012\ttotal: 120ms\tremaining: 5.87s\n",
      "49:\tlearn: 1790.3156079\ttotal: 5.83s\tremaining: 0us\n",
      "0:\tlearn: 3055.6877040\ttotal: 125ms\tremaining: 6.13s\n",
      "49:\tlearn: 1782.8959648\ttotal: 5.66s\tremaining: 0us\n",
      "0:\tlearn: 3064.4936134\ttotal: 120ms\tremaining: 5.86s\n",
      "49:\tlearn: 1790.5501246\ttotal: 5.73s\tremaining: 0us\n",
      "0:\tlearn: 3588.8508621\ttotal: 127ms\tremaining: 9.42s\n",
      "70:\tlearn: 1788.0411654\ttotal: 8.09s\tremaining: 456ms\n",
      "74:\tlearn: 1783.8105107\ttotal: 8.54s\tremaining: 0us\n",
      "0:\tlearn: 3597.3558138\ttotal: 124ms\tremaining: 9.15s\n",
      "70:\tlearn: 1798.5653983\ttotal: 8.1s\tremaining: 457ms\n",
      "74:\tlearn: 1792.9273902\ttotal: 8.56s\tremaining: 0us\n",
      "0:\tlearn: 3586.0276730\ttotal: 122ms\tremaining: 9.05s\n",
      "70:\tlearn: 1795.0952590\ttotal: 8.08s\tremaining: 455ms\n",
      "74:\tlearn: 1787.9630991\ttotal: 8.54s\tremaining: 0us\n",
      "0:\tlearn: 3598.9762579\ttotal: 128ms\tremaining: 9.47s\n",
      "70:\tlearn: 1783.6882540\ttotal: 8.19s\tremaining: 462ms\n",
      "74:\tlearn: 1778.4675219\ttotal: 8.65s\tremaining: 0us\n",
      "0:\tlearn: 3611.2708930\ttotal: 124ms\tremaining: 9.16s\n",
      "70:\tlearn: 1795.6388697\ttotal: 8.72s\tremaining: 491ms\n",
      "74:\tlearn: 1790.5660518\ttotal: 9.24s\tremaining: 0us\n",
      "0:\tlearn: 4068.8305348\ttotal: 101ms\tremaining: 15s\n",
      "70:\tlearn: 1889.7403025\ttotal: 6.62s\tremaining: 7.36s\n",
      "140:\tlearn: 1833.6508301\ttotal: 13.5s\tremaining: 863ms\n",
      "149:\tlearn: 1829.1886253\ttotal: 14.4s\tremaining: 0us\n",
      "0:\tlearn: 4077.8375348\ttotal: 107ms\tremaining: 15.9s\n",
      "70:\tlearn: 1904.6224019\ttotal: 7.03s\tremaining: 7.82s\n",
      "140:\tlearn: 1848.3912539\ttotal: 13.9s\tremaining: 888ms\n",
      "149:\tlearn: 1844.2414678\ttotal: 14.8s\tremaining: 0us\n",
      "0:\tlearn: 4075.9724807\ttotal: 105ms\tremaining: 15.7s\n",
      "70:\tlearn: 1898.4164705\ttotal: 7s\tremaining: 7.79s\n",
      "140:\tlearn: 1838.5410945\ttotal: 14.1s\tremaining: 898ms\n",
      "149:\tlearn: 1833.3103466\ttotal: 14.9s\tremaining: 0us\n",
      "0:\tlearn: 4070.4110779\ttotal: 110ms\tremaining: 16.3s\n",
      "70:\tlearn: 1886.4543883\ttotal: 7s\tremaining: 7.79s\n",
      "140:\tlearn: 1830.4957579\ttotal: 13.9s\tremaining: 887ms\n",
      "149:\tlearn: 1824.9704270\ttotal: 14.8s\tremaining: 0us\n",
      "0:\tlearn: 4085.4594319\ttotal: 117ms\tremaining: 17.5s\n",
      "70:\tlearn: 1901.5399648\ttotal: 7.06s\tremaining: 7.86s\n",
      "140:\tlearn: 1846.4249763\ttotal: 13.9s\tremaining: 890ms\n",
      "149:\tlearn: 1842.2093952\ttotal: 14.8s\tremaining: 0us\n",
      "0:\tlearn: 3036.6887360\ttotal: 123ms\tremaining: 21.5s\n",
      "70:\tlearn: 1744.1570870\ttotal: 8.04s\tremaining: 11.8s\n",
      "140:\tlearn: 1675.0740732\ttotal: 16s\tremaining: 3.87s\n",
      "174:\tlearn: 1651.4761079\ttotal: 19.8s\tremaining: 0us\n",
      "0:\tlearn: 3045.0979011\ttotal: 124ms\tremaining: 21.6s\n",
      "70:\tlearn: 1759.6706561\ttotal: 8.12s\tremaining: 11.9s\n",
      "140:\tlearn: 1688.3308775\ttotal: 16s\tremaining: 3.87s\n",
      "174:\tlearn: 1666.1380581\ttotal: 19.9s\tremaining: 0us\n",
      "0:\tlearn: 3024.3954036\ttotal: 125ms\tremaining: 21.7s\n",
      "70:\tlearn: 1743.7953796\ttotal: 8.01s\tremaining: 11.7s\n",
      "140:\tlearn: 1672.3633926\ttotal: 15.9s\tremaining: 3.83s\n",
      "174:\tlearn: 1649.4859669\ttotal: 19.6s\tremaining: 0us\n",
      "0:\tlearn: 3053.1426207\ttotal: 129ms\tremaining: 22.5s\n",
      "70:\tlearn: 1740.9548772\ttotal: 8.15s\tremaining: 11.9s\n",
      "140:\tlearn: 1673.2915598\ttotal: 16s\tremaining: 3.87s\n",
      "174:\tlearn: 1649.0762356\ttotal: 19.9s\tremaining: 0us\n",
      "0:\tlearn: 3062.4621392\ttotal: 124ms\tremaining: 21.6s\n",
      "70:\tlearn: 1751.4906675\ttotal: 8.37s\tremaining: 12.3s\n",
      "140:\tlearn: 1682.1028191\ttotal: 16.3s\tremaining: 3.94s\n",
      "174:\tlearn: 1656.6945839\ttotal: 20.2s\tremaining: 0us\n",
      "0:\tlearn: 3039.1873936\ttotal: 156ms\tremaining: 27.1s\n",
      "70:\tlearn: 1756.3404596\ttotal: 10.1s\tremaining: 14.8s\n",
      "140:\tlearn: 1687.0393990\ttotal: 19.8s\tremaining: 4.78s\n",
      "174:\tlearn: 1665.2793520\ttotal: 24.6s\tremaining: 0us\n",
      "Parameter terbaik: <catboost.core.CatBoostRegressor object at 0x7fe0348843d0>\n",
      "RMSE Score 1809.9332186482432\n",
      "CPU times: user 8min 40s, sys: 2.45 s, total: 8min 42s\n",
      "Wall time: 8min 49s\n"
     ]
    }
   ],
   "source": [
    "%%time\n",
    "# Definisi Parameter\n",
    "param_dist = {\n",
    "    'iterations': np.arange(50, 200, 25),\n",
    "    'depth': np.arange(3, 10),\n",
    "    'learning_rate': np.linspace(0.01, 0.5, 10),\n",
    "    'l2_leaf_reg': np.linspace(0.0, 1.0, 10),\n",
    "    'border_count': np.arange(5, 255, 10)\n",
    "}\n",
    "\n",
    "# Inisialisasi RandomizedSearchCV\n",
    "catboost_random = RandomizedSearchCV(\n",
    "    estimator= catboostreg,\n",
    "    param_distributions= param_dist,\n",
    "    n_iter= 10,  \n",
    "    cv= 5,  \n",
    "    scoring= scorer,  \n",
    "    random_state= 45, n_jobs = -1\n",
    ")\n",
    "\n",
    "# Melakukan fitting model ke data\n",
    "catboost_random.fit(features_train, target_train)\n",
    "\n",
    "# Menampilkan parameter terbaik yang dihasilkan\n",
    "best_catboost = catboost_random.best_estimator_\n",
    "\n",
    "# Menampilkan parameter terbaik yang dihasilkan\n",
    "print(\"Parameter terbaik:\", catboost_random.best_estimator_)\n",
    "print(\"RMSE Score\", -1 * catboost_random.best_score_)"
   ]
  },
  {
   "cell_type": "code",
   "execution_count": 73,
   "metadata": {},
   "outputs": [
    {
     "name": "stdout",
     "output_type": "stream",
     "text": [
      "0:\tlearn: 3039.1873936\ttotal: 151ms\tremaining: 26.2s\n",
      "70:\tlearn: 1756.3404596\ttotal: 10.1s\tremaining: 14.8s\n",
      "140:\tlearn: 1687.0393990\ttotal: 19.9s\tremaining: 4.81s\n",
      "174:\tlearn: 1665.2793520\ttotal: 24.7s\tremaining: 0us\n"
     ]
    },
    {
     "data": {
      "text/html": [
       "<div>\n",
       "<style scoped>\n",
       "    .dataframe tbody tr th:only-of-type {\n",
       "        vertical-align: middle;\n",
       "    }\n",
       "\n",
       "    .dataframe tbody tr th {\n",
       "        vertical-align: top;\n",
       "    }\n",
       "\n",
       "    .dataframe thead th {\n",
       "        text-align: right;\n",
       "    }\n",
       "</style>\n",
       "<table border=\"1\" class=\"dataframe\">\n",
       "  <thead>\n",
       "    <tr style=\"text-align: right;\">\n",
       "      <th></th>\n",
       "      <th>Algoritma</th>\n",
       "      <th>RMSE Score</th>\n",
       "      <th>Execution Time (s)</th>\n",
       "    </tr>\n",
       "  </thead>\n",
       "  <tbody>\n",
       "    <tr>\n",
       "      <th>0</th>\n",
       "      <td>CatBoostRegressor</td>\n",
       "      <td>1802.186792</td>\n",
       "      <td>25.292798</td>\n",
       "    </tr>\n",
       "  </tbody>\n",
       "</table>\n",
       "</div>"
      ],
      "text/plain": [
       "           Algoritma   RMSE Score  Execution Time (s)\n",
       "0  CatBoostRegressor  1802.186792  25.292798         "
      ]
     },
     "execution_count": 73,
     "metadata": {},
     "output_type": "execute_result"
    }
   ],
   "source": [
    "new_result_cat = eval_model(best_catboost, features, target)\n",
    "new_result_cat"
   ]
  },
  {
   "cell_type": "markdown",
   "metadata": {},
   "source": [
    "#### XGBoost"
   ]
  },
  {
   "cell_type": "code",
   "execution_count": 74,
   "metadata": {},
   "outputs": [
    {
     "data": {
      "text/plain": [
       "{'objective': 'reg:squarederror',\n",
       " 'base_score': 0.5,\n",
       " 'booster': 'gbtree',\n",
       " 'colsample_bylevel': 1,\n",
       " 'colsample_bynode': 1,\n",
       " 'colsample_bytree': 1,\n",
       " 'enable_categorical': False,\n",
       " 'gamma': 0,\n",
       " 'gpu_id': -1,\n",
       " 'importance_type': None,\n",
       " 'interaction_constraints': '',\n",
       " 'learning_rate': 0.300000012,\n",
       " 'max_delta_step': 0,\n",
       " 'max_depth': 6,\n",
       " 'min_child_weight': 1,\n",
       " 'missing': nan,\n",
       " 'monotone_constraints': '()',\n",
       " 'n_estimators': 100,\n",
       " 'n_jobs': 4,\n",
       " 'num_parallel_tree': 1,\n",
       " 'predictor': 'auto',\n",
       " 'random_state': 45,\n",
       " 'reg_alpha': 0,\n",
       " 'reg_lambda': 1,\n",
       " 'scale_pos_weight': 1,\n",
       " 'subsample': 1,\n",
       " 'tree_method': 'exact',\n",
       " 'validate_parameters': 1,\n",
       " 'verbosity': None}"
      ]
     },
     "execution_count": 74,
     "metadata": {},
     "output_type": "execute_result"
    }
   ],
   "source": [
    "xgbreg.get_params()"
   ]
  },
  {
   "cell_type": "code",
   "execution_count": 75,
   "metadata": {},
   "outputs": [
    {
     "name": "stdout",
     "output_type": "stream",
     "text": [
      "Parameter terbaik: XGBRegressor(base_score=0.5, booster='gbtree', colsample_bylevel=1,\n",
      "             colsample_bynode=1, colsample_bytree=0.5555555555555556,\n",
      "             enable_categorical=False, gamma=0, gpu_id=-1, importance_type=None,\n",
      "             interaction_constraints='', learning_rate=0.44555555555555554,\n",
      "             max_delta_step=0, max_depth=7, min_child_weight=1, missing=nan,\n",
      "             monotone_constraints='()', n_estimators=150, n_jobs=4,\n",
      "             num_parallel_tree=1, predictor='auto', random_state=45,\n",
      "             reg_alpha=0.0, reg_lambda=0.5555555555555556, scale_pos_weight=1,\n",
      "             subsample=0.9444444444444444, tree_method='exact',\n",
      "             validate_parameters=1, verbosity=None)\n",
      "RMSE Score 1816.0331724741234\n",
      "CPU times: user 32min 24s, sys: 9.23 s, total: 32min 33s\n",
      "Wall time: 32min 44s\n"
     ]
    }
   ],
   "source": [
    "%%time\n",
    "# Definisi Parameter\n",
    "param_dist = {\n",
    "    'n_estimators': np.arange(50, 200, 25),\n",
    "    'max_depth': np.arange(3, 10),\n",
    "    'learning_rate': np.linspace(0.01, 0.5, 10),\n",
    "    'subsample': np.linspace(0.5, 1.0, 10),\n",
    "    'colsample_bytree': np.linspace(0.5, 1.0, 10),\n",
    "    'reg_alpha': np.linspace(0.0, 1.0, 10),\n",
    "    'reg_lambda': np.linspace(0.0, 1.0, 10)\n",
    "}\n",
    "\n",
    "# Inisialisasi RandomizedSearchCV\n",
    "xgb_random = RandomizedSearchCV(\n",
    "    estimator= xgbreg,\n",
    "    param_distributions= param_dist,\n",
    "    n_iter= 10, \n",
    "    cv= 5,\n",
    "    scoring= scorer,\n",
    ")\n",
    "\n",
    "# Melakukan fitting model ke data\n",
    "xgb_random.fit(features_ohe_train, target_train)\n",
    "best_xgb = xgb_random.best_estimator_\n",
    "\n",
    "# Menampilkan parameter terbaik yang dihasilkan\n",
    "print(\"Parameter terbaik:\", xgb_random.best_estimator_)\n",
    "print(\"RMSE Score\", -1 * xgb_random.best_score_)"
   ]
  },
  {
   "cell_type": "code",
   "execution_count": 76,
   "metadata": {},
   "outputs": [
    {
     "data": {
      "text/html": [
       "<div>\n",
       "<style scoped>\n",
       "    .dataframe tbody tr th:only-of-type {\n",
       "        vertical-align: middle;\n",
       "    }\n",
       "\n",
       "    .dataframe tbody tr th {\n",
       "        vertical-align: top;\n",
       "    }\n",
       "\n",
       "    .dataframe thead th {\n",
       "        text-align: right;\n",
       "    }\n",
       "</style>\n",
       "<table border=\"1\" class=\"dataframe\">\n",
       "  <thead>\n",
       "    <tr style=\"text-align: right;\">\n",
       "      <th></th>\n",
       "      <th>Algoritma</th>\n",
       "      <th>RMSE Score</th>\n",
       "      <th>Execution Time (s)</th>\n",
       "    </tr>\n",
       "  </thead>\n",
       "  <tbody>\n",
       "    <tr>\n",
       "      <th>0</th>\n",
       "      <td>XGBRegressor</td>\n",
       "      <td>1809.382324</td>\n",
       "      <td>58.241161</td>\n",
       "    </tr>\n",
       "  </tbody>\n",
       "</table>\n",
       "</div>"
      ],
      "text/plain": [
       "      Algoritma   RMSE Score  Execution Time (s)\n",
       "0  XGBRegressor  1809.382324  58.241161         "
      ]
     },
     "execution_count": 76,
     "metadata": {},
     "output_type": "execute_result"
    }
   ],
   "source": [
    "new_result_xgb = eval_model(best_xgb, features_ohe, target)\n",
    "new_result_xgb"
   ]
  },
  {
   "cell_type": "markdown",
   "metadata": {},
   "source": [
    "<div class=\"alert alert-success\">\n",
    "<b>Code Reviewers's comment v.1</b> <a class=\"tocSkip\"></a>\n",
    "\n",
    "Bagus, code yang dijalankan sudah sesuai dengan instruksi dari project.\n",
    "\n",
    "</div>"
   ]
  },
  {
   "cell_type": "markdown",
   "metadata": {},
   "source": [
    "## Analisis Model"
   ]
  },
  {
   "cell_type": "code",
   "execution_count": 79,
   "metadata": {},
   "outputs": [
    {
     "data": {
      "text/html": [
       "<div>\n",
       "<style scoped>\n",
       "    .dataframe tbody tr th:only-of-type {\n",
       "        vertical-align: middle;\n",
       "    }\n",
       "\n",
       "    .dataframe tbody tr th {\n",
       "        vertical-align: top;\n",
       "    }\n",
       "\n",
       "    .dataframe thead th {\n",
       "        text-align: right;\n",
       "    }\n",
       "</style>\n",
       "<table border=\"1\" class=\"dataframe\">\n",
       "  <thead>\n",
       "    <tr style=\"text-align: right;\">\n",
       "      <th></th>\n",
       "      <th>Algoritma</th>\n",
       "      <th>RMSE Score</th>\n",
       "      <th>Execution Time (s)</th>\n",
       "    </tr>\n",
       "  </thead>\n",
       "  <tbody>\n",
       "    <tr>\n",
       "      <th>2</th>\n",
       "      <td>CatBoostRegressor</td>\n",
       "      <td>1802.186792</td>\n",
       "      <td>25.292798</td>\n",
       "    </tr>\n",
       "    <tr>\n",
       "      <th>0</th>\n",
       "      <td>LGBMRegressor</td>\n",
       "      <td>1803.768249</td>\n",
       "      <td>4.027401</td>\n",
       "    </tr>\n",
       "    <tr>\n",
       "      <th>3</th>\n",
       "      <td>XGBRegressor</td>\n",
       "      <td>1809.382324</td>\n",
       "      <td>58.241161</td>\n",
       "    </tr>\n",
       "    <tr>\n",
       "      <th>1</th>\n",
       "      <td>RandomForestRegressor</td>\n",
       "      <td>1819.378720</td>\n",
       "      <td>46.887318</td>\n",
       "    </tr>\n",
       "  </tbody>\n",
       "</table>\n",
       "</div>"
      ],
      "text/plain": [
       "               Algoritma   RMSE Score  Execution Time (s)\n",
       "2  CatBoostRegressor      1802.186792  25.292798         \n",
       "0  LGBMRegressor          1803.768249  4.027401          \n",
       "3  XGBRegressor           1809.382324  58.241161         \n",
       "1  RandomForestRegressor  1819.378720  46.887318         "
      ]
     },
     "execution_count": 79,
     "metadata": {},
     "output_type": "execute_result"
    }
   ],
   "source": [
    "# menggabungkan hasil model akhir\n",
    "final_result = pd.concat([new_lgbm_result,new_rf_result,new_result_cat,new_result_xgb], ignore_index=True).sort_values('RMSE Score')\n",
    "final_result"
   ]
  },
  {
   "cell_type": "code",
   "execution_count": 83,
   "metadata": {},
   "outputs": [
    {
     "data": {
      "image/png": "[encoded data removed]",
      "text/plain": [
       "<Figure size 720x432 with 2 Axes>"
      ]
     },
     "metadata": {
      "needs_background": "light"
     },
     "output_type": "display_data"
    }
   ],
   "source": [
    "# membuat visualisasi\n",
    "fig, ax1 = plt.subplots(figsize=(10, 6))\n",
    "\n",
    "# Plot untuk RMSE Scores (sumbu y pertama)\n",
    "bars = ax1.bar(final_result['Algoritma'], final_result['RMSE Score'], color='crimson', alpha=0.4)\n",
    "ax1.set_xlabel('Algorithma')\n",
    "ax1.set_ylabel('RMSE Scores', color='crimson')\n",
    "ax1.tick_params(axis='y', labelcolor='crimson')\n",
    "plt.xticks(rotation=45)\n",
    "\n",
    "# Menambahkan label pada bar plot\n",
    "for bar in bars:\n",
    "    yval = bar.get_height()\n",
    "    ax1.text(bar.get_x() + bar.get_width() / 2, yval, round(yval, 2), ha='center', va='bottom')\n",
    "\n",
    "    \n",
    "# Menambahkan sumbu y kedua untuk Execution Time (sumbu y kedua)\n",
    "ax2 = ax1.twinx()\n",
    "ax2.plot(final_result['Algoritma'], final_result['Execution Time (s)'], color='darkblue', marker='o')\n",
    "ax2.set_ylabel('Execution Time (s)', color='darkblue')\n",
    "ax2.tick_params(axis='y', labelcolor='darkblue')\n",
    "\n",
    "# Menambahkan label pada titik-titik pada line plot\n",
    "for i, txt in enumerate(final_result['Execution Time (s)']):\n",
    "    ax2.text(i, txt, round(txt, 2), ha='right', va='bottom')\n",
    "    \n",
    "\n",
    "# Judul dan layout\n",
    "plt.title('RMSE Scores and Execution Time dari Algorithma')\n",
    "plt.ylim(0, 200)\n",
    "plt.tight_layout()\n",
    "plt.show()"
   ]
  },
  {
   "cell_type": "markdown",
   "metadata": {},
   "source": [
    "## Kesimpulan Umum\n",
    "\n",
    "\n",
    "Adapun tahapan yang dilakukan sebelum modeling adalah:\n",
    "1. Dataset awal memiliki 354,369 baris dan 16 kolom. Setelah melakukan tahap preprocessing jumlah observasi yang tersisa sebanyak 285,346 baris.\n",
    "2. Terdapat anomali pada data pada kolom `registration_year`, `price` dan `power`. Lalu dilakukan pembersihan anomali dengan menggunakan batas interquartile untuk kolom `registration_year`dan `power`.\n",
    "3. Untuk mengatasi *missing value* tahapan yang dilakukan adalah dengan mengisi nilai `unknown`, hal ini bertujuan untuk tidak memengaruhi statistik dasar dari dataset.\n",
    "4. Saat modeling fitur yang digunakan hanyalah `vehicle_type`, `registration_year`, `gearbox`,`power`, `mileage`, `fuel_type`, `not_repaired`. \n",
    "\n",
    "Setelah melakukan modeling untuk algoritma yang menggunakan parameter default kita mendapatkan hasil algoritma terbaik adalah `XGBoost` dengan nilai RMSE terendah dan waktu eksekusi model juga tidak terlalu lama sebesar `44` s. Sedangkan dengan mengatur beberapa hyper parameter kita mendapatkan dua model yang nilai RMSE nya hampir sama akan tetapi untuk waktu eksekusi model yang singkat kita mendapatkan algoritma `LightGBM`. "
   ]
  },
  {
   "cell_type": "markdown",
   "metadata": {},
   "source": [
    "<div class=\"alert alert-success\">\n",
    "<b>Code Reviewers's comment v.1</b> <a class=\"tocSkip\"></a>\n",
    "\n",
    "Bagus, code yang dijalankan sudah sesuai dengan instruksi dari project.\n",
    "\n",
    "</div>"
   ]
  },
  {
   "cell_type": "markdown",
   "metadata": {},
   "source": [
    "# Daftar Periksa"
   ]
  },
  {
   "cell_type": "markdown",
   "metadata": {},
   "source": [
    "Ketik 'x' untuk menandakannya sebagai selesai. Lalu, tekan tombol Shift+Enter"
   ]
  },
  {
   "cell_type": "markdown",
   "metadata": {},
   "source": [
    "- [x]  Jupyter Notebook bisa dibuka\n",
    "- [ ]  Tidak ada kesalahan pada kode\n",
    "- [ ]  Sel-sel dengan kode telah disusun berdasarkan urutan eksekusi\n",
    "- [ ]  Data telah diunduh dan disiapkan- [ ]  Model sudah dilatih\n",
    "- [ ]  Analisis terhadap kecepatan dan kualitas model telah dilakukan"
   ]
  },
  {
   "cell_type": "code",
   "execution_count": null,
   "metadata": {},
   "outputs": [],
   "source": []
  }
 ],
 "metadata": {
  "kernelspec": {
   "display_name": "Python 3 (ipykernel)",
   "language": "python",
   "name": "python3"
  },
  "language_info": {
   "codemirror_mode": {
    "name": "ipython",
    "version": 3
   },
   "file_extension": ".py",
   "mimetype": "text/x-python",
   "name": "python",
   "nbconvert_exporter": "python",
   "pygments_lexer": "ipython3",
   "version": "3.9.5"
  },
  "toc": {
   "base_numbering": 1,
   "nav_menu": {},
   "number_sections": true,
   "sideBar": true,
   "skip_h1_title": true,
   "title_cell": "Table of Contents",
   "title_sidebar": "Contents",
   "toc_cell": false,
   "toc_position": {
    "height": "calc(100% - 180px)",
    "left": "10px",
    "top": "150px",
    "width": "291.884px"
   },
   "toc_section_display": true,
   "toc_window_display": true
  }
 },
 "nbformat": 4,
 "nbformat_minor": 2
}
